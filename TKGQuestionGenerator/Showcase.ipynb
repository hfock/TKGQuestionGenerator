{
 "cells": [
  {
   "cell_type": "markdown",
   "source": [
    "# TKGQuestionMaster Showcase Version 2022-05-18\n",
    "\n",
    "**For now TKGQuestionMaster does only support years without day and month**\n",
    "\n",
    "In this notebook you will find an example for every question generation TKGQuestionMaster is capable of.\n",
    "\n",
    "The TKGQuestionMaster will be referred as QM within the explanation text."
   ],
   "metadata": {
    "collapsed": false
   }
  },
  {
   "cell_type": "code",
   "execution_count": 26,
   "metadata": {
    "collapsed": true
   },
   "outputs": [
    {
     "data": {
      "text/plain": "<module 'TKGQuestionMaster.Generator' from '/Users/hagenaadfock/Documents/GitHub/UU/thesis/tkge-nlp/TKGQuestionMaster/Generator.py'>"
     },
     "execution_count": 26,
     "metadata": {},
     "output_type": "execute_result"
    }
   ],
   "source": [
    "import pandas as pd\n",
    "import TKGQuestionMaster.Generator as qm\n",
    "\n",
    "import importlib\n",
    "\n",
    "importlib.reload(qm)"
   ]
  },
  {
   "cell_type": "markdown",
   "source": [
    "## 0 Test Data"
   ],
   "metadata": {
    "collapsed": false
   }
  },
  {
   "cell_type": "code",
   "execution_count": 27,
   "outputs": [
    {
     "data": {
      "text/plain": "                          subject         predicate  \\\n5653              Robert McNamara           died in   \n12391                  João Paiva         plays for   \n11983  Timothy Killeen (academic)          works at   \n0                   Beverly Adams       was born in   \n3341                Beverly Adams     is married to   \n10603                     Al Gore              owns   \n19127                Learned Hand  is affiliated to   \n11358                  Rob Wagner    graduated from   \n17188                  Trudi Roth           created   \n7611               Peter Grünberg     has won prize   \n\n                                         object  from  until  \n5653                           Washington, D.C.  2009   2009  \n12391  Portugal national under-20 football team  2003   2004  \n11983                    University of Michigan  1997   2000  \n0                                      Edmonton  1945   1945  \n3341                              Vidal Sassoon  1966   1980  \n10603                                Current TV  2005   2013  \n19127          Republican Party (United States)  1900   1912  \n11358                    University of Michigan  1894   1903  \n17188                          Fascht e Familie  1994   1999  \n7611                     Nobel Prize in Physics  2007   2016  ",
      "text/html": "<div>\n<style scoped>\n    .dataframe tbody tr th:only-of-type {\n        vertical-align: middle;\n    }\n\n    .dataframe tbody tr th {\n        vertical-align: top;\n    }\n\n    .dataframe thead th {\n        text-align: right;\n    }\n</style>\n<table border=\"1\" class=\"dataframe\">\n  <thead>\n    <tr style=\"text-align: right;\">\n      <th></th>\n      <th>subject</th>\n      <th>predicate</th>\n      <th>object</th>\n      <th>from</th>\n      <th>until</th>\n    </tr>\n  </thead>\n  <tbody>\n    <tr>\n      <th>5653</th>\n      <td>Robert McNamara</td>\n      <td>died in</td>\n      <td>Washington, D.C.</td>\n      <td>2009</td>\n      <td>2009</td>\n    </tr>\n    <tr>\n      <th>12391</th>\n      <td>João Paiva</td>\n      <td>plays for</td>\n      <td>Portugal national under-20 football team</td>\n      <td>2003</td>\n      <td>2004</td>\n    </tr>\n    <tr>\n      <th>11983</th>\n      <td>Timothy Killeen (academic)</td>\n      <td>works at</td>\n      <td>University of Michigan</td>\n      <td>1997</td>\n      <td>2000</td>\n    </tr>\n    <tr>\n      <th>0</th>\n      <td>Beverly Adams</td>\n      <td>was born in</td>\n      <td>Edmonton</td>\n      <td>1945</td>\n      <td>1945</td>\n    </tr>\n    <tr>\n      <th>3341</th>\n      <td>Beverly Adams</td>\n      <td>is married to</td>\n      <td>Vidal Sassoon</td>\n      <td>1966</td>\n      <td>1980</td>\n    </tr>\n    <tr>\n      <th>10603</th>\n      <td>Al Gore</td>\n      <td>owns</td>\n      <td>Current TV</td>\n      <td>2005</td>\n      <td>2013</td>\n    </tr>\n    <tr>\n      <th>19127</th>\n      <td>Learned Hand</td>\n      <td>is affiliated to</td>\n      <td>Republican Party (United States)</td>\n      <td>1900</td>\n      <td>1912</td>\n    </tr>\n    <tr>\n      <th>11358</th>\n      <td>Rob Wagner</td>\n      <td>graduated from</td>\n      <td>University of Michigan</td>\n      <td>1894</td>\n      <td>1903</td>\n    </tr>\n    <tr>\n      <th>17188</th>\n      <td>Trudi Roth</td>\n      <td>created</td>\n      <td>Fascht e Familie</td>\n      <td>1994</td>\n      <td>1999</td>\n    </tr>\n    <tr>\n      <th>7611</th>\n      <td>Peter Grünberg</td>\n      <td>has won prize</td>\n      <td>Nobel Prize in Physics</td>\n      <td>2007</td>\n      <td>2016</td>\n    </tr>\n  </tbody>\n</table>\n</div>"
     },
     "execution_count": 27,
     "metadata": {},
     "output_type": "execute_result"
    }
   ],
   "source": [
    "# df1 = pd.read_csv('showcase_data/CronKGQA.csv', index_col=0)\n",
    "# df2 = pd.read_csv('showcase_data/icews05-15.csv', index_col=0)\n",
    "# df3 = pd.read_csv('showcase_data/icews14.csv', index_col=0)\n",
    "# df4 = pd.read_csv('showcase_data/wikidata12k.csv', index_col=0)\n",
    "df5 = pd.read_csv('showcase_data/YAGO11k.csv', index_col=0)\n",
    "# df = pd.concat([df1, df2, df3, df4, df5])\n",
    "df = df5\n",
    "df"
   ],
   "metadata": {
    "collapsed": false,
    "pycharm": {
     "name": "#%%\n"
    }
   }
  },
  {
   "cell_type": "code",
   "execution_count": 28,
   "outputs": [
    {
     "data": {
      "text/plain": "              subject         predicate                   object  from until\n0          James Bond       was born in              West Berlin  1968  1968\n1               Obama  was president of                      USA  2009  2017\n2     Albert Einstein           died in                 Princton  1955  1955\n3   Cristiano Ronaldo         plays for              Real Madrid  2009  2018\n4   Leonardo DiCaprio     has won prize                    Oscar  2016  2016\n5   Leonardo da Vinci           created                Mona Lisa  1503  1503\n6           Brad Pitt     is married to           Angelina Jolie  2014  2019\n7           Elon Musk  is affiliated to                    Tesla  2004  2022\n8    Roman Abramovich              owns               FC Chelsea  2003  2022\n9     Stephen Hawking    graduated from  Trinity Hall, Cambridge  1966  1966\n10    Mark Zuckerberg          works at           Facebook, Meta  2004  2022",
      "text/html": "<div>\n<style scoped>\n    .dataframe tbody tr th:only-of-type {\n        vertical-align: middle;\n    }\n\n    .dataframe tbody tr th {\n        vertical-align: top;\n    }\n\n    .dataframe thead th {\n        text-align: right;\n    }\n</style>\n<table border=\"1\" class=\"dataframe\">\n  <thead>\n    <tr style=\"text-align: right;\">\n      <th></th>\n      <th>subject</th>\n      <th>predicate</th>\n      <th>object</th>\n      <th>from</th>\n      <th>until</th>\n    </tr>\n  </thead>\n  <tbody>\n    <tr>\n      <th>0</th>\n      <td>James Bond</td>\n      <td>was born in</td>\n      <td>West Berlin</td>\n      <td>1968</td>\n      <td>1968</td>\n    </tr>\n    <tr>\n      <th>1</th>\n      <td>Obama</td>\n      <td>was president of</td>\n      <td>USA</td>\n      <td>2009</td>\n      <td>2017</td>\n    </tr>\n    <tr>\n      <th>2</th>\n      <td>Albert Einstein</td>\n      <td>died in</td>\n      <td>Princton</td>\n      <td>1955</td>\n      <td>1955</td>\n    </tr>\n    <tr>\n      <th>3</th>\n      <td>Cristiano Ronaldo</td>\n      <td>plays for</td>\n      <td>Real Madrid</td>\n      <td>2009</td>\n      <td>2018</td>\n    </tr>\n    <tr>\n      <th>4</th>\n      <td>Leonardo DiCaprio</td>\n      <td>has won prize</td>\n      <td>Oscar</td>\n      <td>2016</td>\n      <td>2016</td>\n    </tr>\n    <tr>\n      <th>5</th>\n      <td>Leonardo da Vinci</td>\n      <td>created</td>\n      <td>Mona Lisa</td>\n      <td>1503</td>\n      <td>1503</td>\n    </tr>\n    <tr>\n      <th>6</th>\n      <td>Brad Pitt</td>\n      <td>is married to</td>\n      <td>Angelina Jolie</td>\n      <td>2014</td>\n      <td>2019</td>\n    </tr>\n    <tr>\n      <th>7</th>\n      <td>Elon Musk</td>\n      <td>is affiliated to</td>\n      <td>Tesla</td>\n      <td>2004</td>\n      <td>2022</td>\n    </tr>\n    <tr>\n      <th>8</th>\n      <td>Roman Abramovich</td>\n      <td>owns</td>\n      <td>FC Chelsea</td>\n      <td>2003</td>\n      <td>2022</td>\n    </tr>\n    <tr>\n      <th>9</th>\n      <td>Stephen Hawking</td>\n      <td>graduated from</td>\n      <td>Trinity Hall, Cambridge</td>\n      <td>1966</td>\n      <td>1966</td>\n    </tr>\n    <tr>\n      <th>10</th>\n      <td>Mark Zuckerberg</td>\n      <td>works at</td>\n      <td>Facebook, Meta</td>\n      <td>2004</td>\n      <td>2022</td>\n    </tr>\n  </tbody>\n</table>\n</div>"
     },
     "execution_count": 28,
     "metadata": {},
     "output_type": "execute_result"
    }
   ],
   "source": [
    "example_correct_TRDF = {'subject': ['James Bond', 'Obama', 'Albert Einstein',\n",
    "                                    'Cristiano Ronaldo', 'Leonardo DiCaprio', 'Leonardo da Vinci',\n",
    "                                    'Brad Pitt', 'Elon Musk', 'Roman Abramovich',\n",
    "                                    'Stephen Hawking', 'Mark Zuckerberg'],\n",
    "                        'predicate': ['was born in', 'was president of', 'died in',\n",
    "                                      'plays for', 'has won prize', 'created',\n",
    "                                      'is married to', 'is affiliated to', 'owns',\n",
    "                                      'graduated from', 'works at'],\n",
    "                        'object': ['West Berlin', 'USA', 'Princton',\n",
    "                                   'Real Madrid', 'Oscar', 'Mona Lisa',\n",
    "                                   'Angelina Jolie', 'Tesla', 'FC Chelsea',\n",
    "                                   'Trinity Hall, Cambridge', 'Facebook, Meta'],\n",
    "                        'from': ['1968', '2009', '1955',\n",
    "                                 '2009', '2016', '1503',\n",
    "                                 '2014', '2004', '2003',\n",
    "                                 '1966', '2004'],\n",
    "                        'until': ['1968', '2017', '1955',\n",
    "                                  '2018', '2016', '1503',\n",
    "                                  '2019', '2022', '2022',\n",
    "                                  '1966', '2022']}\n",
    "df = pd.DataFrame.from_dict(example_correct_TRDF)\n",
    "df"
   ],
   "metadata": {
    "collapsed": false,
    "pycharm": {
     "name": "#%%\n"
    }
   }
  },
  {
   "cell_type": "code",
   "execution_count": 29,
   "outputs": [
    {
     "data": {
      "text/plain": "          subject    predicate               object  from until\n0  George Clooney  was born in  Lexington, Kentucky  1650  1650",
      "text/html": "<div>\n<style scoped>\n    .dataframe tbody tr th:only-of-type {\n        vertical-align: middle;\n    }\n\n    .dataframe tbody tr th {\n        vertical-align: top;\n    }\n\n    .dataframe thead th {\n        text-align: right;\n    }\n</style>\n<table border=\"1\" class=\"dataframe\">\n  <thead>\n    <tr style=\"text-align: right;\">\n      <th></th>\n      <th>subject</th>\n      <th>predicate</th>\n      <th>object</th>\n      <th>from</th>\n      <th>until</th>\n    </tr>\n  </thead>\n  <tbody>\n    <tr>\n      <th>0</th>\n      <td>George Clooney</td>\n      <td>was born in</td>\n      <td>Lexington, Kentucky</td>\n      <td>1650</td>\n      <td>1650</td>\n    </tr>\n  </tbody>\n</table>\n</div>"
     },
     "execution_count": 29,
     "metadata": {},
     "output_type": "execute_result"
    }
   ],
   "source": [
    "example_incorrect_TRDF = {'subject': ['George Clooney'],\n",
    "                          'predicate': ['was born in'],\n",
    "                          'object': ['Lexington, Kentucky'],\n",
    "                          'from': ['1650'],\n",
    "                          'until': ['1650']}\n",
    "df_incorrect = pd.DataFrame.from_dict(example_incorrect_TRDF)\n",
    "df_incorrect"
   ],
   "metadata": {
    "collapsed": false,
    "pycharm": {
     "name": "#%%\n"
    }
   }
  },
  {
   "cell_type": "markdown",
   "source": [
    "## 1 Simple Yes No Question\n",
    "\n",
    "Generates Yes No Question based on temporal RDFs."
   ],
   "metadata": {
    "collapsed": false
   }
  },
  {
   "cell_type": "code",
   "execution_count": 29,
   "outputs": [],
   "source": [],
   "metadata": {
    "collapsed": false,
    "pycharm": {
     "name": "#%%\n"
    }
   }
  },
  {
   "cell_type": "code",
   "execution_count": 30,
   "outputs": [
    {
     "name": "stdout",
     "output_type": "stream",
     "text": [
      "head of government ->  NOUN ADP NOUN\n",
      "head of government ->  NN IN NN\n",
      "instance of ->  NOUN ADP\n",
      "instance of ->  NN IN\n",
      "member of political party ->  NOUN ADP ADJ NOUN\n",
      "member of political party ->  NN IN JJ NN\n",
      "appeal for political reform ->  NOUN ADP ADJ NOUN\n",
      "appeal for political reform ->  NN IN JJ NN\n",
      "CNC film rating (France) ->  ADJ NOUN NOUN PUNCT PROPN PUNCT\n",
      "CNC film rating (France) ->  JJ NN NN -LRB- NNP -RRB-\n"
     ]
    }
   ],
   "source": [
    "qm.elaborate_spacy_pos('head of government')\n",
    "qm.elaborate_spacy_pos('instance of')\n",
    "qm.elaborate_spacy_pos('member of political party')\n",
    "qm.elaborate_spacy_pos('appeal for political reform')\n",
    "qm.elaborate_spacy_pos('CNC film rating (France)')"
   ],
   "metadata": {
    "collapsed": false,
    "pycharm": {
     "name": "#%%\n"
    }
   }
  },
  {
   "cell_type": "code",
   "execution_count": 31,
   "outputs": [
    {
     "name": "stdout",
     "output_type": "stream",
     "text": [
      "[('Was James Bond born in West Berlin in the year 1968?', 'yes')]\n",
      "[('Was Obama president of USA in the year 2009?', 'yes')]\n",
      "[('Did Albert Einstein die in Princton in the year 1955?', 'yes')]\n",
      "[('Did Cristiano Ronaldo play for Real Madrid in the year 2009?', 'yes')]\n",
      "[('Did Leonardo DiCaprio win prize Oscar in the year 2016?', 'yes')]\n",
      "[('Did Leonardo da Vinci create Mona Lisa in the year 1503?', 'yes')]\n",
      "[('Was Brad Pitt married to Angelina Jolie in the year 2014?', 'yes')]\n",
      "[('Was Elon Musk affiliated to Tesla in the year 2004?', 'yes')]\n",
      "[('Did Roman Abramovich own FC Chelsea in the year 2003?', 'yes')]\n",
      "[('Did Stephen Hawking graduate from Trinity Hall, Cambridge in the year 1966?', 'yes')]\n",
      "[('Did Mark Zuckerberg work at Facebook, Meta in the year 2004?', 'yes')]\n"
     ]
    }
   ],
   "source": [
    "for i, entry in df.iterrows():\n",
    "    s = entry['subject']\n",
    "    p = entry['predicate']\n",
    "    o = entry['object']\n",
    "    f = entry['from']\n",
    "    u = entry['until']\n",
    "\n",
    "    print(qm.formulate_yes_no_question(subject=s, predicate=p, object=o, time=f, time_indication=True))"
   ],
   "metadata": {
    "collapsed": false,
    "pycharm": {
     "name": "#%%\n"
    }
   }
  },
  {
   "cell_type": "code",
   "execution_count": 32,
   "outputs": [
    {
     "name": "stdout",
     "output_type": "stream",
     "text": [
      "[('Was James Bond born in West Berlin in the year 1968?', 'yes')]\n",
      "[('Was Obama president of USA in the year 2009?', 'yes')]\n",
      "[('Did Albert Einstein die in Princton in the year 1955?', 'yes')]\n",
      "[('Did Cristiano Ronaldo play for Real Madrid in the year 2009?', 'yes')]\n",
      "[('Did Leonardo DiCaprio win prize Oscar in the year 2016?', 'yes')]\n",
      "[('Did Leonardo da Vinci create Mona Lisa in the year 1503?', 'yes')]\n",
      "[('Was Brad Pitt married to Angelina Jolie in the year 2014?', 'yes')]\n",
      "[('Was Elon Musk affiliated to Tesla in the year 2004?', 'yes')]\n",
      "[('Did Roman Abramovich own FC Chelsea in the year 2003?', 'yes')]\n",
      "[('Did Stephen Hawking graduate from Trinity Hall, Cambridge in the year 1966?', 'yes')]\n",
      "[('Did Mark Zuckerberg work at Facebook, Meta in the year 2004?', 'yes')]\n"
     ]
    }
   ],
   "source": [
    "for i, entry in df.iterrows():\n",
    "    s = entry['subject']\n",
    "    p = entry['predicate']\n",
    "    o = entry['object']\n",
    "    f = entry['from']\n",
    "    u = entry['until']\n",
    "\n",
    "    print(qm.formulate_yes_no_question(subject=s, predicate=p, object=o, time=f))"
   ],
   "metadata": {
    "collapsed": false,
    "pycharm": {
     "name": "#%%\n"
    }
   }
  },
  {
   "cell_type": "markdown",
   "source": [
    "As we can see *Was James Bond bear in West Berlin in 1968??* is off because the QM is lemmatizing the predicates. For those reasons it is possible to provide a dictionary where the problematic `predicate` is the key and the responding value is the `template`."
   ],
   "metadata": {
    "collapsed": false
   }
  },
  {
   "cell_type": "code",
   "execution_count": 33,
   "outputs": [
    {
     "name": "stdout",
     "output_type": "stream",
     "text": [
      "[('Was James Bond born in West Berlin in 1968?', 'yes')]\n",
      "[('Was Obama president of USA in the year 2009?', 'yes')]\n",
      "[('Did Albert Einstein die in Princton in the year 1955?', 'yes')]\n",
      "[('Did Cristiano Ronaldo play for Real Madrid in the year 2009?', 'yes')]\n",
      "[('Did Leonardo DiCaprio win prize Oscar in the year 2016?', 'yes')]\n",
      "[('Did Leonardo da Vinci create Mona Lisa in the year 1503?', 'yes')]\n",
      "[('Was Brad Pitt married to Angelina Jolie in the year 2014?', 'yes')]\n",
      "[('Was Elon Musk affiliated to Tesla in the year 2004?', 'yes')]\n",
      "[('Did Roman Abramovich own FC Chelsea in the year 2003?', 'yes')]\n",
      "[('Did Stephen Hawking graduate from Trinity Hall, Cambridge in the year 1966?', 'yes')]\n",
      "[('Did Mark Zuckerberg work at Facebook, Meta in the year 2004?', 'yes')]\n"
     ]
    }
   ],
   "source": [
    "predicate_question_dict = {'was born in': 'Was {} born in {} in {}?'}\n",
    "\n",
    "for i, entry in df.iterrows():\n",
    "    s = entry['subject']\n",
    "    p = entry['predicate']\n",
    "    o = entry['object']\n",
    "    f = entry['from']\n",
    "\n",
    "    print(qm.formulate_yes_no_question(subject=s, predicate=p, object=o, time=f,\n",
    "                                       predicate_question_dict=predicate_question_dict))"
   ],
   "metadata": {
    "collapsed": false,
    "pycharm": {
     "name": "#%%\n"
    }
   }
  },
  {
   "cell_type": "markdown",
   "source": [
    "As we can see *Was James Bond born in West Berlin in 1968?* is now correct."
   ],
   "metadata": {
    "collapsed": false
   }
  },
  {
   "cell_type": "markdown",
   "source": [
    "It is also possible to indicate wrong Questions by setting the parameter `is_given_time_correct` to `False`. In that case the second value of the returned tuple has a 'no'."
   ],
   "metadata": {
    "collapsed": false
   }
  },
  {
   "cell_type": "code",
   "execution_count": 34,
   "outputs": [
    {
     "name": "stdout",
     "output_type": "stream",
     "text": [
      "[('Was George Clooney born in Lexington, Kentucky in 1650?', 'no')]\n"
     ]
    }
   ],
   "source": [
    "for i, entry in df_incorrect.iterrows():\n",
    "    s = entry['subject']\n",
    "    p = entry['predicate']\n",
    "    o = entry['object']\n",
    "    f = entry['from']\n",
    "\n",
    "    print(qm.formulate_yes_no_question(subject=s, predicate=p, object=o, time=f,\n",
    "                                       is_given_time_correct=False,\n",
    "                                       predicate_question_dict=predicate_question_dict))"
   ],
   "metadata": {
    "collapsed": false,
    "pycharm": {
     "name": "#%%\n"
    }
   }
  },
  {
   "cell_type": "markdown",
   "source": [
    "Many Yes No Questions are possible with several years. For example **Was Obama president of USA in 2009?** is correct as well as **Was Obama president of USA in 2010?** for those instances it is possible to generate a question for every year between `@param time` and `@param time_until` if also the param `@param interval_is_active` is `True`. Note `True` is the default value. If the value is `False` the year of the `@param time` is taken."
   ],
   "metadata": {
    "collapsed": false
   }
  },
  {
   "cell_type": "code",
   "execution_count": 35,
   "outputs": [
    {
     "name": "stdout",
     "output_type": "stream",
     "text": [
      "[('Was James Bond born in West Berlin in 1968?', 'yes')]\n",
      "[('Was Obama president of USA in the year 2009?', 'yes'), ('Was Obama president of USA in the year 2010?', 'yes'), ('Was Obama president of USA in the year 2011?', 'yes'), ('Was Obama president of USA in the year 2012?', 'yes'), ('Was Obama president of USA in the year 2013?', 'yes'), ('Was Obama president of USA in the year 2014?', 'yes'), ('Was Obama president of USA in the year 2015?', 'yes'), ('Was Obama president of USA in the year 2016?', 'yes'), ('Was Obama president of USA in the year 2017?', 'yes')]\n",
      "[('Did Albert Einstein die in Princton in the year 1955?', 'yes')]\n"
     ]
    }
   ],
   "source": [
    "for i, entry in df.iloc[:3, :].iterrows():\n",
    "    s = entry['subject']\n",
    "    p = entry['predicate']\n",
    "    o = entry['object']\n",
    "    f = entry['from']\n",
    "    u = entry['until']\n",
    "\n",
    "    print(qm.formulate_yes_no_question(subject=s, predicate=p, object=o, time=f, time_until=u,\n",
    "                                       predicate_question_dict=predicate_question_dict,\n",
    "                                       interval_is_active=True))"
   ],
   "metadata": {
    "collapsed": false,
    "pycharm": {
     "name": "#%%\n"
    }
   }
  },
  {
   "cell_type": "markdown",
   "source": [
    "It is also possible to add falsy questions to the simple when questions by providing the `count_of_falsy_year_question`. For example by having an interval of 100 - 102 and providing `count_of_falsy_year_question=2` then the range gets extended to 98-104 whereby the questions above and underneath the true interval will be indicated with a 'no' as an answer.\n",
    "\n",
    "CAUTION the years are not ordered first come the falsy years [98, 99, 103, 104] and then the correct years [100, 101, 102]"
   ],
   "metadata": {
    "collapsed": false
   }
  },
  {
   "cell_type": "code",
   "execution_count": 36,
   "outputs": [
    {
     "name": "stdout",
     "output_type": "stream",
     "text": [
      "[('Was James Bond born in West Berlin in 1966?', 'no'), ('Was James Bond born in West Berlin in 1967?', 'no'), ('Was James Bond born in West Berlin in 1969?', 'no'), ('Was James Bond born in West Berlin in 1970?', 'no'), ('Was James Bond born in West Berlin in 1968?', 'yes')]\n",
      "[('Was Obama president of USA in the year 2007?', 'no'), ('Was Obama president of USA in the year 2008?', 'no'), ('Was Obama president of USA in the year 2018?', 'no'), ('Was Obama president of USA in the year 2019?', 'no'), ('Was Obama president of USA in the year 2009?', 'yes'), ('Was Obama president of USA in the year 2010?', 'yes'), ('Was Obama president of USA in the year 2011?', 'yes'), ('Was Obama president of USA in the year 2012?', 'yes'), ('Was Obama president of USA in the year 2013?', 'yes'), ('Was Obama president of USA in the year 2014?', 'yes'), ('Was Obama president of USA in the year 2015?', 'yes'), ('Was Obama president of USA in the year 2016?', 'yes'), ('Was Obama president of USA in the year 2017?', 'yes')]\n",
      "[('Did Albert Einstein die in Princton in the year 1953?', 'no'), ('Did Albert Einstein die in Princton in the year 1954?', 'no'), ('Did Albert Einstein die in Princton in the year 1956?', 'no'), ('Did Albert Einstein die in Princton in the year 1957?', 'no'), ('Did Albert Einstein die in Princton in the year 1955?', 'yes')]\n"
     ]
    }
   ],
   "source": [
    "for i, entry in df.iloc[:3, :].iterrows():\n",
    "    s = entry['subject']\n",
    "    p = entry['predicate']\n",
    "    o = entry['object']\n",
    "    f = entry['from']\n",
    "    u = entry['until']\n",
    "\n",
    "    print(qm.formulate_yes_no_question(subject=s, predicate=p, object=o, time=f, time_until=u,\n",
    "                                       predicate_question_dict=predicate_question_dict,\n",
    "                                       interval_is_active=True,\n",
    "                                       count_of_falsy_year_question=2))"
   ],
   "metadata": {
    "collapsed": false,
    "pycharm": {
     "name": "#%%\n"
    }
   }
  },
  {
   "cell_type": "markdown",
   "source": [
    "## 2 Simple When Question\n",
    "\n",
    "Generates Simple When Questions based on temporal RDFs."
   ],
   "metadata": {
    "collapsed": false
   }
  },
  {
   "cell_type": "code",
   "execution_count": 37,
   "outputs": [
    {
     "name": "stdout",
     "output_type": "stream",
     "text": [
      "[('In which year was James Bond born in West Berlin?', [1968])]\n",
      "[('In which year was Obama president of USA?', [2009, 2010, 2011, 2012, 2013, 2014, 2015, 2016, 2017])]\n",
      "[('In which year did Albert Einstein die in Princton?', [1955])]\n",
      "[('In which year did Cristiano Ronaldo play for Real Madrid?', [2009, 2010, 2011, 2012, 2013, 2014, 2015, 2016, 2017, 2018])]\n",
      "[('In which year did Leonardo DiCaprio win prize Oscar?', [2016])]\n",
      "[('In which year did Leonardo da Vinci create Mona Lisa?', [1503])]\n",
      "[('In which year was Brad Pitt married to Angelina Jolie?', [2014, 2015, 2016, 2017, 2018, 2019])]\n",
      "[('In which year was Elon Musk affiliated to Tesla?', [2004, 2005, 2006, 2007, 2008, 2009, 2010, 2011, 2012, 2013, 2014, 2015, 2016, 2017, 2018, 2019, 2020, 2021, 2022])]\n",
      "[('In which year did Roman Abramovich own FC Chelsea?', [2003, 2004, 2005, 2006, 2007, 2008, 2009, 2010, 2011, 2012, 2013, 2014, 2015, 2016, 2017, 2018, 2019, 2020, 2021, 2022])]\n",
      "[('In which year did Stephen Hawking graduate from Trinity Hall, Cambridge?', [1966])]\n",
      "[('In which year did Mark Zuckerberg work at Facebook, Meta?', [2004, 2005, 2006, 2007, 2008, 2009, 2010, 2011, 2012, 2013, 2014, 2015, 2016, 2017, 2018, 2019, 2020, 2021, 2022])]\n"
     ]
    }
   ],
   "source": [
    "for i, entry in df.iterrows():\n",
    "    s = entry['subject']\n",
    "    p = entry['predicate']\n",
    "    o = entry['object']\n",
    "    f = entry['from']\n",
    "    u = entry['until']\n",
    "\n",
    "    print(qm.formulate_simple_when_question(subject=s, predicate=p, object=o, time=f, time_until=u))"
   ],
   "metadata": {
    "collapsed": false,
    "pycharm": {
     "name": "#%%\n"
    }
   }
  },
  {
   "cell_type": "markdown",
   "source": [
    "As we can see **When was James Bond bear in West Berlin?** is off because the QM is lemmatizing the predicates. For those reasons it is possible to provide a dictionary where the problematic `predicate` is the key and the responding value is the `template`.\n",
    "\n",
    "It is also possible to get only one form of when questions by setting `@param all_variations` to `False`"
   ],
   "metadata": {
    "collapsed": false
   }
  },
  {
   "cell_type": "code",
   "execution_count": 38,
   "outputs": [
    {
     "name": "stdout",
     "output_type": "stream",
     "text": [
      "[('In which year was James Bond born in West Berlin?', [1968])]\n",
      "[('In which year was Obama president of USA?', [2009, 2010, 2011, 2012, 2013, 2014, 2015, 2016, 2017])]\n",
      "[('In which year did Albert Einstein die in Princton?', [1955])]\n",
      "[('In which year did Cristiano Ronaldo play for Real Madrid?', [2009, 2010, 2011, 2012, 2013, 2014, 2015, 2016, 2017, 2018])]\n",
      "[('In which year did Leonardo DiCaprio win prize Oscar?', [2016])]\n",
      "[('In which year did Leonardo da Vinci create Mona Lisa?', [1503])]\n",
      "[('In which year was Brad Pitt married to Angelina Jolie?', [2014, 2015, 2016, 2017, 2018, 2019])]\n",
      "[('In which year was Elon Musk affiliated to Tesla?', [2004, 2005, 2006, 2007, 2008, 2009, 2010, 2011, 2012, 2013, 2014, 2015, 2016, 2017, 2018, 2019, 2020, 2021, 2022])]\n",
      "[('In which year did Roman Abramovich own FC Chelsea?', [2003, 2004, 2005, 2006, 2007, 2008, 2009, 2010, 2011, 2012, 2013, 2014, 2015, 2016, 2017, 2018, 2019, 2020, 2021, 2022])]\n",
      "[('In which year did Stephen Hawking graduate from Trinity Hall, Cambridge?', [1966])]\n",
      "[('In which year did Mark Zuckerberg work at Facebook, Meta?', [2004, 2005, 2006, 2007, 2008, 2009, 2010, 2011, 2012, 2013, 2014, 2015, 2016, 2017, 2018, 2019, 2020, 2021, 2022])]\n"
     ]
    }
   ],
   "source": [
    "predicate_question_dict = {'was born in': 'In which year was {} born in {}?'}\n",
    "\n",
    "for i, entry in df.iterrows():\n",
    "    s = entry['subject']\n",
    "    p = entry['predicate']\n",
    "    o = entry['object']\n",
    "    f = entry['from']\n",
    "    u = entry['until']\n",
    "\n",
    "    print(qm.formulate_simple_when_question(subject=s, predicate=p, object=o, time=f, time_until=u,\n",
    "                                            predicate_question_dict=predicate_question_dict))"
   ],
   "metadata": {
    "collapsed": false,
    "pycharm": {
     "name": "#%%\n"
    }
   }
  },
  {
   "cell_type": "markdown",
   "source": [
    "As we can see **When James Bond born in West Berlin?** is now correct."
   ],
   "metadata": {
    "collapsed": false
   }
  },
  {
   "cell_type": "markdown",
   "source": [
    "## 3 When to When Question"
   ],
   "metadata": {
    "collapsed": false
   }
  },
  {
   "cell_type": "code",
   "execution_count": 39,
   "outputs": [
    {
     "name": "stdout",
     "output_type": "stream",
     "text": [
      "None\n",
      "[('From which year until which year was Obama president of USA?', [2009, 2010, 2011, 2012, 2013, 2014, 2015, 2016, 2017])]\n",
      "None\n",
      "[('From which year until which year did Cristiano Ronaldo play for Real Madrid?', [2009, 2010, 2011, 2012, 2013, 2014, 2015, 2016, 2017, 2018])]\n",
      "None\n",
      "None\n",
      "[('From which year until which year was Brad Pitt married to Angelina Jolie?', [2014, 2015, 2016, 2017, 2018, 2019])]\n",
      "[('From which year until which year was Elon Musk affiliated to Tesla?', [2004, 2005, 2006, 2007, 2008, 2009, 2010, 2011, 2012, 2013, 2014, 2015, 2016, 2017, 2018, 2019, 2020, 2021, 2022])]\n",
      "[('From which year until which year did Roman Abramovich own FC Chelsea?', [2003, 2004, 2005, 2006, 2007, 2008, 2009, 2010, 2011, 2012, 2013, 2014, 2015, 2016, 2017, 2018, 2019, 2020, 2021, 2022])]\n",
      "None\n",
      "[('From which year until which year did Mark Zuckerberg work at Facebook, Meta?', [2004, 2005, 2006, 2007, 2008, 2009, 2010, 2011, 2012, 2013, 2014, 2015, 2016, 2017, 2018, 2019, 2020, 2021, 2022])]\n"
     ]
    }
   ],
   "source": [
    "for i, entry in df.iterrows():\n",
    "    s = entry['subject']\n",
    "    p = entry['predicate']\n",
    "    o = entry['object']\n",
    "    f = entry['from']\n",
    "    u = entry['until']\n",
    "\n",
    "    print(qm.formulate_when_to_when_question(subject=s, predicate=p, object=o, time=f, time_until=u))"
   ],
   "metadata": {
    "collapsed": false,
    "pycharm": {
     "name": "#%%\n"
    }
   }
  },
  {
   "cell_type": "markdown",
   "source": [
    "As we can see **From when until when was James Bond bear in West Berlin?** is off because the QM is lemmatizing the predicates. For those reasons it is possible to provide a dictionary where the problematic `predicate` is the key and the responding value is the `template`.\n",
    "\n",
    "It is also possible to get only one form of *when - when* questions by setting `@param all_variations` to `False`"
   ],
   "metadata": {
    "collapsed": false
   }
  },
  {
   "cell_type": "code",
   "execution_count": 40,
   "outputs": [
    {
     "name": "stdout",
     "output_type": "stream",
     "text": [
      "None\n",
      "[('From which year until which year was Obama president of USA?', [2009, 2010, 2011, 2012, 2013, 2014, 2015, 2016, 2017])]\n",
      "None\n",
      "[('From which year until which year did Cristiano Ronaldo play for Real Madrid?', [2009, 2010, 2011, 2012, 2013, 2014, 2015, 2016, 2017, 2018])]\n",
      "None\n",
      "None\n",
      "[('From which year until which year was Brad Pitt married to Angelina Jolie?', [2014, 2015, 2016, 2017, 2018, 2019])]\n",
      "[('From which year until which year was Elon Musk affiliated to Tesla?', [2004, 2005, 2006, 2007, 2008, 2009, 2010, 2011, 2012, 2013, 2014, 2015, 2016, 2017, 2018, 2019, 2020, 2021, 2022])]\n",
      "[('From which year until which year did Roman Abramovich own FC Chelsea?', [2003, 2004, 2005, 2006, 2007, 2008, 2009, 2010, 2011, 2012, 2013, 2014, 2015, 2016, 2017, 2018, 2019, 2020, 2021, 2022])]\n",
      "None\n",
      "[('From which year until which year did Mark Zuckerberg work at Facebook, Meta?', [2004, 2005, 2006, 2007, 2008, 2009, 2010, 2011, 2012, 2013, 2014, 2015, 2016, 2017, 2018, 2019, 2020, 2021, 2022])]\n"
     ]
    }
   ],
   "source": [
    "# predicate_question_dict = {'was born in': 'From when until when was {} born in {}?'}\n",
    "\n",
    "for i, entry in df.iterrows():\n",
    "    s = entry['subject']\n",
    "    p = entry['predicate']\n",
    "    o = entry['object']\n",
    "    f = entry['from']\n",
    "    u = entry['until']\n",
    "\n",
    "    print(qm.formulate_when_to_when_question(subject=s, predicate=p, object=o, time=f, time_until=u,\n",
    "                                             predicate_question_dict=predicate_question_dict))"
   ],
   "metadata": {
    "collapsed": false,
    "pycharm": {
     "name": "#%%\n"
    }
   }
  },
  {
   "cell_type": "markdown",
   "source": [
    "## 4 From or Until Question\n",
    "\n",
    "The `@param is_from_question` is indicating if either from questions (`True`) or until questions (`False`) are generated."
   ],
   "metadata": {
    "collapsed": false
   }
  },
  {
   "cell_type": "code",
   "execution_count": 51,
   "outputs": [
    {
     "name": "stdout",
     "output_type": "stream",
     "text": [
      "None\n",
      "[('Until which year was Obama president of USA?', 2017)]\n",
      "None\n",
      "[('Until which year did Cristiano Ronaldo play for Real Madrid?', 2018)]\n",
      "None\n",
      "None\n",
      "[('Until which year was Brad Pitt married to Angelina Jolie?', 2019)]\n",
      "[('Until which year was Elon Musk affiliated to Tesla?', 2022)]\n",
      "[('Until which year did Roman Abramovich own FC Chelsea?', 2022)]\n",
      "None\n",
      "[('Until which year did Mark Zuckerberg work at Facebook, Meta?', 2022)]\n"
     ]
    }
   ],
   "source": [
    "for i, entry in df.iterrows():\n",
    "    s = entry['subject']\n",
    "    p = entry['predicate']\n",
    "    o = entry['object']\n",
    "    f = entry['from']\n",
    "    u = entry['until']\n",
    "\n",
    "    print(qm.formulate_from_or_until_question(subject=s, predicate=p, object=o, time=f, time_until=u,\n",
    "                                              is_from_question=False))"
   ],
   "metadata": {
    "collapsed": false,
    "pycharm": {
     "name": "#%%\n"
    }
   }
  },
  {
   "cell_type": "code",
   "execution_count": 42,
   "outputs": [
    {
     "name": "stdout",
     "output_type": "stream",
     "text": [
      "None\n",
      "[('Until which year was Obama president of USA?', 2017)]\n",
      "None\n",
      "[('Until which year did Cristiano Ronaldo play for Real Madrid?', 2018)]\n",
      "None\n",
      "None\n",
      "[('Until which year was Brad Pitt married to Angelina Jolie?', 2019)]\n",
      "[('Until which year was Elon Musk affiliated to Tesla?', 2022)]\n",
      "[('Until which year did Roman Abramovich own FC Chelsea?', 2022)]\n",
      "None\n",
      "[('Until which year did Mark Zuckerberg work at Facebook, Meta?', 2022)]\n"
     ]
    }
   ],
   "source": [
    "for i, entry in df.iterrows():\n",
    "    s = entry['subject']\n",
    "    p = entry['predicate']\n",
    "    o = entry['object']\n",
    "    f = entry['from']\n",
    "    u = entry['until']\n",
    "\n",
    "    print(qm.formulate_from_or_until_question(subject=s, predicate=p, object=o, time=f, time_until=u,\n",
    "                                              is_from_question=False))"
   ],
   "metadata": {
    "collapsed": false,
    "pycharm": {
     "name": "#%%\n"
    }
   }
  },
  {
   "cell_type": "markdown",
   "source": [
    "It is again possible to adapt templates based on specific predicates and also possible to only have one variation of the Question."
   ],
   "metadata": {
    "collapsed": false
   }
  },
  {
   "cell_type": "code",
   "execution_count": 43,
   "outputs": [
    {
     "name": "stdout",
     "output_type": "stream",
     "text": [
      "None\n",
      "[('From which year was Obama president of USA?', 2009)]\n",
      "None\n",
      "[('From which year did Cristiano Ronaldo play for Real Madrid?', 2009)]\n",
      "None\n",
      "None\n",
      "[('From which year was Brad Pitt married to Angelina Jolie?', 2014)]\n",
      "[('From which year was Elon Musk affiliated to Tesla?', 2004)]\n",
      "[('From which year did Roman Abramovich own FC Chelsea?', 2003)]\n",
      "None\n",
      "[('From which year did Mark Zuckerberg work at Facebook, Meta?', 2004)]\n"
     ]
    }
   ],
   "source": [
    "# predicate_question_dict = {'is married to': '{} was married to {} but when was their marriage?'}\n",
    "\n",
    "for i, entry in df.iterrows():\n",
    "    s = entry['subject']\n",
    "    p = entry['predicate']\n",
    "    o = entry['object']\n",
    "    f = entry['from']\n",
    "    u = entry['until']\n",
    "\n",
    "    print(qm.formulate_from_or_until_question(subject=s, predicate=p, object=o, time=f, time_until=u,\n",
    "                                              predicate_question_dict=predicate_question_dict))"
   ],
   "metadata": {
    "collapsed": false,
    "pycharm": {
     "name": "#%%\n"
    }
   }
  },
  {
   "cell_type": "code",
   "execution_count": 44,
   "outputs": [
    {
     "name": "stdout",
     "output_type": "stream",
     "text": [
      "None\n",
      "[('Until which year was Obama president of USA?', 2017)]\n",
      "None\n",
      "[('Until which year did Cristiano Ronaldo play for Real Madrid?', 2018)]\n",
      "None\n",
      "None\n",
      "[('Until which year was Brad Pitt married to Angelina Jolie?', 2019)]\n",
      "[('Until which year was Elon Musk affiliated to Tesla?', 2022)]\n",
      "[('Until which year did Roman Abramovich own FC Chelsea?', 2022)]\n",
      "None\n",
      "[('Until which year did Mark Zuckerberg work at Facebook, Meta?', 2022)]\n"
     ]
    }
   ],
   "source": [
    "# predicate_question_dict = {'is married to': '{} was married to {} but when was their divorce?'}\n",
    "\n",
    "for i, entry in df.iterrows():\n",
    "    s = entry['subject']\n",
    "    p = entry['predicate']\n",
    "    o = entry['object']\n",
    "    f = entry['from']\n",
    "    u = entry['until']\n",
    "\n",
    "    print(qm.formulate_from_or_until_question(subject=s, predicate=p, object=o, time=f, time_until=u,\n",
    "                                              is_from_question=False,\n",
    "                                              predicate_question_dict=predicate_question_dict))"
   ],
   "metadata": {
    "collapsed": false,
    "pycharm": {
     "name": "#%%\n"
    }
   }
  },
  {
   "cell_type": "markdown",
   "source": [
    "## 5 Left or Right open Question\n",
    "\n",
    "It is possible to do left open and right open questions. The `@param left_open` indicates if it is either left or right open."
   ],
   "metadata": {
    "collapsed": false
   }
  },
  {
   "cell_type": "code",
   "execution_count": 52,
   "outputs": [
    {
     "name": "stdout",
     "output_type": "stream",
     "text": [
      "None\n",
      "[('From the year 2009 until which year was Obama president of USA?', 2017)]\n",
      "None\n",
      "[('From the year 2009 until which year did Cristiano Ronaldo play for Real Madrid?', 2018)]\n",
      "None\n",
      "None\n",
      "[('From the year 2014 until which year was Brad Pitt married to Angelina Jolie?', 2019)]\n",
      "[('From the year 2004 until which year was Elon Musk affiliated to Tesla?', 2022)]\n",
      "[('From the year 2003 until which year did Roman Abramovich own FC Chelsea?', 2022)]\n",
      "None\n",
      "[('From the year 2004 until which year did Mark Zuckerberg work at Facebook, Meta?', 2022)]\n"
     ]
    }
   ],
   "source": [
    "for i, entry in df.iterrows():\n",
    "    s = entry['subject']\n",
    "    p = entry['predicate']\n",
    "    o = entry['object']\n",
    "    f = entry['from']\n",
    "    u = entry['until']\n",
    "\n",
    "    print(\n",
    "        qm.formulate_left_or_right_open_interval_questions(subject=s, predicate=p, object=o, time_from=f, time_until=u,\n",
    "                                                           right_open=True))"
   ],
   "metadata": {
    "collapsed": false,
    "pycharm": {
     "name": "#%%\n"
    }
   }
  },
  {
   "cell_type": "code",
   "execution_count": 46,
   "outputs": [
    {
     "name": "stdout",
     "output_type": "stream",
     "text": [
      "None\n",
      "[('From which year until the year 2009 was Obama president of USA?', 2009)]\n",
      "None\n",
      "[('From which year until the year 2009 did Cristiano Ronaldo play for Real Madrid?', 2009)]\n",
      "None\n",
      "None\n",
      "[('From which year until the year 2014 was Brad Pitt married to Angelina Jolie?', 2014)]\n",
      "[('From which year until the year 2004 was Elon Musk affiliated to Tesla?', 2004)]\n",
      "[('From which year until the year 2003 did Roman Abramovich own FC Chelsea?', 2003)]\n",
      "None\n",
      "[('From which year until the year 2004 did Mark Zuckerberg work at Facebook, Meta?', 2004)]\n"
     ]
    }
   ],
   "source": [
    "for i, entry in df.iterrows():\n",
    "    s = entry['subject']\n",
    "    p = entry['predicate']\n",
    "    o = entry['object']\n",
    "    f = entry['from']\n",
    "    u = entry['until']\n",
    "\n",
    "    print(\n",
    "        qm.formulate_left_or_right_open_interval_questions(subject=s, predicate=p, object=o, time_from=f, time_until=u,\n",
    "                                                           right_open=False))"
   ],
   "metadata": {
    "collapsed": false,
    "pycharm": {
     "name": "#%%\n"
    }
   }
  },
  {
   "cell_type": "markdown",
   "source": [
    "Again it is possible to do specify a template for a specific predicate for left as well for the right open questions. **CAUTION the first {} has to represent the year**."
   ],
   "metadata": {
    "collapsed": false
   }
  },
  {
   "cell_type": "code",
   "execution_count": 47,
   "outputs": [
    {
     "name": "stdout",
     "output_type": "stream",
     "text": [
      "None\n",
      "[('In the year 2009 Obama was elected president of USA until when?', 2017)]\n",
      "None\n",
      "[('From which year until the year 2009 did Cristiano Ronaldo play for Real Madrid?', 2009)]\n",
      "None\n",
      "None\n",
      "[('From which year until the year 2014 was Brad Pitt married to Angelina Jolie?', 2014)]\n",
      "[('From which year until the year 2004 was Elon Musk affiliated to Tesla?', 2004)]\n",
      "[('From which year until the year 2003 did Roman Abramovich own FC Chelsea?', 2003)]\n",
      "None\n",
      "[('From which year until the year 2004 did Mark Zuckerberg work at Facebook, Meta?', 2004)]\n"
     ]
    }
   ],
   "source": [
    "predicate_question_dict = {'was president of': 'In the year {} {} was elected president of {} until when?'}\n",
    "\n",
    "for i, entry in df.iterrows():\n",
    "    s = entry['subject']\n",
    "    p = entry['predicate']\n",
    "    o = entry['object']\n",
    "    f = entry['from']\n",
    "    u = entry['until']\n",
    "\n",
    "    print(\n",
    "        qm.formulate_left_or_right_open_interval_questions(subject=s, predicate=p, object=o, time_from=f, time_until=u,\n",
    "                                                           right_open=False,\n",
    "                                                           predicate_question_dict=predicate_question_dict))"
   ],
   "metadata": {
    "collapsed": false,
    "pycharm": {
     "name": "#%%\n"
    }
   }
  },
  {
   "cell_type": "code",
   "execution_count": 48,
   "outputs": [
    {
     "name": "stdout",
     "output_type": "stream",
     "text": [
      "None\n",
      "[('Until the year 2017 Obama was president of USA and when was the election?', 2009)]\n",
      "None\n",
      "[('From the year 2009 until which year did Cristiano Ronaldo play for Real Madrid?', 2018)]\n",
      "None\n",
      "None\n",
      "[('From the year 2014 until which year was Brad Pitt married to Angelina Jolie?', 2019)]\n",
      "[('From the year 2004 until which year was Elon Musk affiliated to Tesla?', 2022)]\n",
      "[('From the year 2003 until which year did Roman Abramovich own FC Chelsea?', 2022)]\n",
      "None\n",
      "[('From the year 2004 until which year did Mark Zuckerberg work at Facebook, Meta?', 2022)]\n"
     ]
    }
   ],
   "source": [
    "predicate_question_dict = {'was president of': 'Until the year {} {} was president of {} and when was the election?'}\n",
    "\n",
    "for i, entry in df.iterrows():\n",
    "    s = entry['subject']\n",
    "    p = entry['predicate']\n",
    "    o = entry['object']\n",
    "    f = entry['from']\n",
    "    u = entry['until']\n",
    "\n",
    "    print(\n",
    "        qm.formulate_left_or_right_open_interval_questions(subject=s, predicate=p, object=o, time_from=f, time_until=u,\n",
    "                                                           right_open=True,\n",
    "                                                           predicate_question_dict=predicate_question_dict))"
   ],
   "metadata": {
    "collapsed": false,
    "pycharm": {
     "name": "#%%\n"
    }
   }
  },
  {
   "cell_type": "markdown",
   "source": [
    "## 6 Duration Questions"
   ],
   "metadata": {
    "collapsed": false
   }
  },
  {
   "cell_type": "code",
   "execution_count": 53,
   "outputs": [
    {
     "name": "stdout",
     "output_type": "stream",
     "text": [
      "None\n",
      "[('For how many years was Obama president of USA?', 8)]\n",
      "None\n",
      "[('For how many years did Cristiano Ronaldo play for Real Madrid?', 9)]\n",
      "None\n",
      "None\n",
      "[('For how many years was Brad Pitt married to Angelina Jolie?', 5)]\n",
      "[('For how many years was Elon Musk affiliated to Tesla?', 18)]\n",
      "[('For how many years did Roman Abramovich own FC Chelsea?', 19)]\n",
      "None\n",
      "[('For how many years did Mark Zuckerberg work at Facebook, Meta?', 18)]\n"
     ]
    }
   ],
   "source": [
    "for i, entry in df.iterrows():\n",
    "    s = entry['subject']\n",
    "    p = entry['predicate']\n",
    "    o = entry['object']\n",
    "    f = entry['from']\n",
    "    u = entry['until']\n",
    "\n",
    "    print(qm.formulate_duration_question(subject=s, predicate=p, object=o, time_from=f, time_until=u))"
   ],
   "metadata": {
    "collapsed": false,
    "pycharm": {
     "name": "#%%\n"
    }
   }
  },
  {
   "cell_type": "markdown",
   "source": [],
   "metadata": {
    "collapsed": false
   }
  },
  {
   "cell_type": "code",
   "execution_count": 50,
   "outputs": [
    {
     "name": "stdout",
     "output_type": "stream",
     "text": [
      "None\n",
      "[('For how many years was Obama president of USA?', 8)]\n",
      "None\n",
      "[('For how many years did Cristiano Ronaldo plays for Real Madrid?', 9)]\n",
      "None\n",
      "None\n",
      "[('For how many years was Brad Pitt married to Angelina Jolie?', 5)]\n",
      "[('For how many years was Elon Musk affiliated to Tesla?', 18)]\n",
      "[('For how many years did Roman Abramovich owns FC Chelsea?', 19)]\n",
      "None\n",
      "[('For how many years did Mark Zuckerberg works at Facebook, Meta?', 18)]\n"
     ]
    }
   ],
   "source": [
    "predicate_question_dict = {'graduated from': 'How many years did {} study at {}?'}\n",
    "\n",
    "for i, entry in df.iterrows():\n",
    "    s = entry['subject']\n",
    "    p = entry['predicate']\n",
    "    o = entry['object']\n",
    "    f = entry['from']\n",
    "    u = entry['until']\n",
    "\n",
    "    print(qm.formulate_duration_question(subject=s, predicate=p, object=o, time_from=f, time_until=u,\n",
    "                                         predicate_question_dict=predicate_question_dict,\n",
    "                                         lemma=False))"
   ],
   "metadata": {
    "collapsed": false,
    "pycharm": {
     "name": "#%%\n"
    }
   }
  }
 ],
 "metadata": {
  "kernelspec": {
   "display_name": "Python 3",
   "language": "python",
   "name": "python3"
  },
  "language_info": {
   "codemirror_mode": {
    "name": "ipython",
    "version": 2
   },
   "file_extension": ".py",
   "mimetype": "text/x-python",
   "name": "python",
   "nbconvert_exporter": "python",
   "pygments_lexer": "ipython2",
   "version": "2.7.6"
  }
 },
 "nbformat": 4,
 "nbformat_minor": 0
}