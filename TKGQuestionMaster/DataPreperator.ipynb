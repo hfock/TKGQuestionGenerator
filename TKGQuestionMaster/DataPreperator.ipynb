{
 "cells": [
  {
   "cell_type": "code",
   "execution_count": 2,
   "metadata": {
    "collapsed": true
   },
   "outputs": [
    {
     "data": {
      "text/plain": "<module 'HelperUtils' from '/Users/hagenaadfock/Documents/GitHub/UU/thesis/tkge-nlp/TKGQuestionMaster/HelperUtils.py'>"
     },
     "execution_count": 2,
     "metadata": {},
     "output_type": "execute_result"
    }
   ],
   "source": [
    "import pandas as pd\n",
    "import Generator as qm\n",
    "import HelperUtils as helper\n",
    "import time\n",
    "\n",
    "import json\n",
    "from pandas.io.json import json_normalize\n",
    "\n",
    "import importlib\n",
    "importlib.reload(qm)\n",
    "importlib.reload(helper)"
   ]
  },
  {
   "cell_type": "code",
   "execution_count": 103,
   "outputs": [
    {
     "data": {
      "text/plain": "                                               yes_no_qe yes_no_an  \\\n0            Was Beverly Adams born in Edmonton in 1945?       yes   \n1           Was Rae Dawn Chong born in Edmonton in 1961?       yes   \n2      Was Daniel Fernandes (footballer) born in Edmo...       yes   \n3              Was Mike Comrie born in Edmonton in 1980?       yes   \n4          Was Jordan Peterson born in Edmonton in 1962?       yes   \n...                                                  ...       ...   \n16752  Was Benjamin Butler affiliated to Greenback Pa...       yes   \n16753  Was Charles E. Cunningham affiliated to Greenb...       yes   \n16754  Was John Quincy Adams affiliated to Anti-Mason...       yes   \n16755  Was Thaddeus Stevens affiliated to Anti-Masoni...       yes   \n16756  Was Joseph Ritner affiliated to Anti-Masonic P...       yes   \n\n                                                 when_qe  \\\n0               When was Beverly Adams born in Edmonton?   \n1              When was Rae Dawn Chong born in Edmonton?   \n2      When was Daniel Fernandes (footballer) born in...   \n3                 When was Mike Comrie born in Edmonton?   \n4             When was Jordan Peterson born in Edmonton?   \n...                                                  ...   \n16752  When was Benjamin Butler affiliated to Greenba...   \n16753  When was Charles E. Cunningham affiliated to G...   \n16754  When was John Quincy Adams affiliated to Anti-...   \n16755  When was Thaddeus Stevens affiliated to Anti-M...   \n16756  When was Joseph Ritner affiliated to Anti-Maso...   \n\n                                                 when_an  \\\n0                                                 [1945]   \n1                                                 [1961]   \n2                                                 [1983]   \n3                                                 [1980]   \n4                                                 [1962]   \n...                                                  ...   \n16752  [1874, 1875, 1876, 1877, 1878, 1879, 1880, 188...   \n16753  [1876, 1877, 1878, 1879, 1880, 1881, 1882, 188...   \n16754               [1833, 1834, 1835, 1836, 1837, 1838]   \n16755  [1828, 1829, 1830, 1831, 1832, 1833, 1834, 183...   \n16756  [1828, 1829, 1830, 1831, 1832, 1833, 1834, 183...   \n\n                                           until_when_qe  until_when_an  \\\n0                                                      0              0   \n1                                                      0              0   \n2                                                      0              0   \n3                                                      0              0   \n4                                                      0              0   \n...                                                  ...            ...   \n16752  Until when was Benjamin Butler affiliated to G...           1889   \n16753  Until when was Charles E. Cunningham affiliate...           1886   \n16754  Until when was John Quincy Adams affiliated to...           1838   \n16755  Until when was Thaddeus Stevens affiliated to ...           1838   \n16756  Until when was Joseph Ritner affiliated to Ant...           1839   \n\n                                            left_open_qe  left_open_an  \\\n0                                                      0             0   \n1                                                      0             0   \n2                                                      0             0   \n3                                                      0             0   \n4                                                      0             0   \n...                                                  ...           ...   \n16752  From 1874 until was Benjamin Butler affiliated...          1874   \n16753  From 1876 until was Charles E. Cunningham affi...          1876   \n16754  From 1833 until was John Quincy Adams affiliat...          1833   \n16755  From 1828 until was Thaddeus Stevens affiliate...          1828   \n16756  From 1828 until was Joseph Ritner affiliated t...          1828   \n\n                                           right_open_qe  right_open_an  \\\n0                                                      0              0   \n1                                                      0              0   \n2                                                      0              0   \n3                                                      0              0   \n4                                                      0              0   \n...                                                  ...            ...   \n16752  From 1874 until was Benjamin Butler affiliated...           1874   \n16753  From 1876 until was Charles E. Cunningham affi...           1876   \n16754  From 1833 until was John Quincy Adams affiliat...           1833   \n16755  From 1828 until was Thaddeus Stevens affiliate...           1828   \n16756  From 1828 until was Joseph Ritner affiliated t...           1828   \n\n                                         when_to_when_qe  \\\n0                                                      0   \n1                                                      0   \n2                                                      0   \n3                                                      0   \n4                                                      0   \n...                                                  ...   \n16752  From when to when was Benjamin Butler affiliat...   \n16753  From when to when was Charles E. Cunningham af...   \n16754  From when to when was John Quincy Adams affili...   \n16755  From when to when was Thaddeus Stevens affilia...   \n16756  From when to when was Joseph Ritner affiliated...   \n\n                                         when_to_when_an  \\\n0                                                      0   \n1                                                      0   \n2                                                      0   \n3                                                      0   \n4                                                      0   \n...                                                  ...   \n16752  [1874, 1875, 1876, 1877, 1878, 1879, 1880, 188...   \n16753  [1876, 1877, 1878, 1879, 1880, 1881, 1882, 188...   \n16754               [1833, 1834, 1835, 1836, 1837, 1838]   \n16755  [1828, 1829, 1830, 1831, 1832, 1833, 1834, 183...   \n16756  [1828, 1829, 1830, 1831, 1832, 1833, 1834, 183...   \n\n                                             duration_qe  duration_an  \\\n0                                                      0            0   \n1                                                      0            0   \n2                                                      0            0   \n3                                                      0            0   \n4                                                      0            0   \n...                                                  ...          ...   \n16752  For how long was Benjamin Butler affiliated to...           15   \n16753  For how long was Charles E. Cunningham affilia...           10   \n16754  For how long was John Quincy Adams affiliated ...            5   \n16755  For how long was Thaddeus Stevens affiliated t...           10   \n16756  For how long was Joseph Ritner affiliated to A...           11   \n\n       object_has_years  subject_has_years  \n0                 False              False  \n1                 False              False  \n2                 False              False  \n3                 False              False  \n4                 False              False  \n...                 ...                ...  \n16752             False              False  \n16753             False              False  \n16754             False              False  \n16755             False              False  \n16756             False              False  \n\n[16734 rows x 16 columns]",
      "text/html": "<div>\n<style scoped>\n    .dataframe tbody tr th:only-of-type {\n        vertical-align: middle;\n    }\n\n    .dataframe tbody tr th {\n        vertical-align: top;\n    }\n\n    .dataframe thead th {\n        text-align: right;\n    }\n</style>\n<table border=\"1\" class=\"dataframe\">\n  <thead>\n    <tr style=\"text-align: right;\">\n      <th></th>\n      <th>yes_no_qe</th>\n      <th>yes_no_an</th>\n      <th>when_qe</th>\n      <th>when_an</th>\n      <th>until_when_qe</th>\n      <th>until_when_an</th>\n      <th>left_open_qe</th>\n      <th>left_open_an</th>\n      <th>right_open_qe</th>\n      <th>right_open_an</th>\n      <th>when_to_when_qe</th>\n      <th>when_to_when_an</th>\n      <th>duration_qe</th>\n      <th>duration_an</th>\n      <th>object_has_years</th>\n      <th>subject_has_years</th>\n    </tr>\n  </thead>\n  <tbody>\n    <tr>\n      <th>0</th>\n      <td>Was Beverly Adams born in Edmonton in 1945?</td>\n      <td>yes</td>\n      <td>When was Beverly Adams born in Edmonton?</td>\n      <td>[1945]</td>\n      <td>0</td>\n      <td>0</td>\n      <td>0</td>\n      <td>0</td>\n      <td>0</td>\n      <td>0</td>\n      <td>0</td>\n      <td>0</td>\n      <td>0</td>\n      <td>0</td>\n      <td>False</td>\n      <td>False</td>\n    </tr>\n    <tr>\n      <th>1</th>\n      <td>Was Rae Dawn Chong born in Edmonton in 1961?</td>\n      <td>yes</td>\n      <td>When was Rae Dawn Chong born in Edmonton?</td>\n      <td>[1961]</td>\n      <td>0</td>\n      <td>0</td>\n      <td>0</td>\n      <td>0</td>\n      <td>0</td>\n      <td>0</td>\n      <td>0</td>\n      <td>0</td>\n      <td>0</td>\n      <td>0</td>\n      <td>False</td>\n      <td>False</td>\n    </tr>\n    <tr>\n      <th>2</th>\n      <td>Was Daniel Fernandes (footballer) born in Edmo...</td>\n      <td>yes</td>\n      <td>When was Daniel Fernandes (footballer) born in...</td>\n      <td>[1983]</td>\n      <td>0</td>\n      <td>0</td>\n      <td>0</td>\n      <td>0</td>\n      <td>0</td>\n      <td>0</td>\n      <td>0</td>\n      <td>0</td>\n      <td>0</td>\n      <td>0</td>\n      <td>False</td>\n      <td>False</td>\n    </tr>\n    <tr>\n      <th>3</th>\n      <td>Was Mike Comrie born in Edmonton in 1980?</td>\n      <td>yes</td>\n      <td>When was Mike Comrie born in Edmonton?</td>\n      <td>[1980]</td>\n      <td>0</td>\n      <td>0</td>\n      <td>0</td>\n      <td>0</td>\n      <td>0</td>\n      <td>0</td>\n      <td>0</td>\n      <td>0</td>\n      <td>0</td>\n      <td>0</td>\n      <td>False</td>\n      <td>False</td>\n    </tr>\n    <tr>\n      <th>4</th>\n      <td>Was Jordan Peterson born in Edmonton in 1962?</td>\n      <td>yes</td>\n      <td>When was Jordan Peterson born in Edmonton?</td>\n      <td>[1962]</td>\n      <td>0</td>\n      <td>0</td>\n      <td>0</td>\n      <td>0</td>\n      <td>0</td>\n      <td>0</td>\n      <td>0</td>\n      <td>0</td>\n      <td>0</td>\n      <td>0</td>\n      <td>False</td>\n      <td>False</td>\n    </tr>\n    <tr>\n      <th>...</th>\n      <td>...</td>\n      <td>...</td>\n      <td>...</td>\n      <td>...</td>\n      <td>...</td>\n      <td>...</td>\n      <td>...</td>\n      <td>...</td>\n      <td>...</td>\n      <td>...</td>\n      <td>...</td>\n      <td>...</td>\n      <td>...</td>\n      <td>...</td>\n      <td>...</td>\n      <td>...</td>\n    </tr>\n    <tr>\n      <th>16752</th>\n      <td>Was Benjamin Butler affiliated to Greenback Pa...</td>\n      <td>yes</td>\n      <td>When was Benjamin Butler affiliated to Greenba...</td>\n      <td>[1874, 1875, 1876, 1877, 1878, 1879, 1880, 188...</td>\n      <td>Until when was Benjamin Butler affiliated to G...</td>\n      <td>1889</td>\n      <td>From 1874 until was Benjamin Butler affiliated...</td>\n      <td>1874</td>\n      <td>From 1874 until was Benjamin Butler affiliated...</td>\n      <td>1874</td>\n      <td>From when to when was Benjamin Butler affiliat...</td>\n      <td>[1874, 1875, 1876, 1877, 1878, 1879, 1880, 188...</td>\n      <td>For how long was Benjamin Butler affiliated to...</td>\n      <td>15</td>\n      <td>False</td>\n      <td>False</td>\n    </tr>\n    <tr>\n      <th>16753</th>\n      <td>Was Charles E. Cunningham affiliated to Greenb...</td>\n      <td>yes</td>\n      <td>When was Charles E. Cunningham affiliated to G...</td>\n      <td>[1876, 1877, 1878, 1879, 1880, 1881, 1882, 188...</td>\n      <td>Until when was Charles E. Cunningham affiliate...</td>\n      <td>1886</td>\n      <td>From 1876 until was Charles E. Cunningham affi...</td>\n      <td>1876</td>\n      <td>From 1876 until was Charles E. Cunningham affi...</td>\n      <td>1876</td>\n      <td>From when to when was Charles E. Cunningham af...</td>\n      <td>[1876, 1877, 1878, 1879, 1880, 1881, 1882, 188...</td>\n      <td>For how long was Charles E. Cunningham affilia...</td>\n      <td>10</td>\n      <td>False</td>\n      <td>False</td>\n    </tr>\n    <tr>\n      <th>16754</th>\n      <td>Was John Quincy Adams affiliated to Anti-Mason...</td>\n      <td>yes</td>\n      <td>When was John Quincy Adams affiliated to Anti-...</td>\n      <td>[1833, 1834, 1835, 1836, 1837, 1838]</td>\n      <td>Until when was John Quincy Adams affiliated to...</td>\n      <td>1838</td>\n      <td>From 1833 until was John Quincy Adams affiliat...</td>\n      <td>1833</td>\n      <td>From 1833 until was John Quincy Adams affiliat...</td>\n      <td>1833</td>\n      <td>From when to when was John Quincy Adams affili...</td>\n      <td>[1833, 1834, 1835, 1836, 1837, 1838]</td>\n      <td>For how long was John Quincy Adams affiliated ...</td>\n      <td>5</td>\n      <td>False</td>\n      <td>False</td>\n    </tr>\n    <tr>\n      <th>16755</th>\n      <td>Was Thaddeus Stevens affiliated to Anti-Masoni...</td>\n      <td>yes</td>\n      <td>When was Thaddeus Stevens affiliated to Anti-M...</td>\n      <td>[1828, 1829, 1830, 1831, 1832, 1833, 1834, 183...</td>\n      <td>Until when was Thaddeus Stevens affiliated to ...</td>\n      <td>1838</td>\n      <td>From 1828 until was Thaddeus Stevens affiliate...</td>\n      <td>1828</td>\n      <td>From 1828 until was Thaddeus Stevens affiliate...</td>\n      <td>1828</td>\n      <td>From when to when was Thaddeus Stevens affilia...</td>\n      <td>[1828, 1829, 1830, 1831, 1832, 1833, 1834, 183...</td>\n      <td>For how long was Thaddeus Stevens affiliated t...</td>\n      <td>10</td>\n      <td>False</td>\n      <td>False</td>\n    </tr>\n    <tr>\n      <th>16756</th>\n      <td>Was Joseph Ritner affiliated to Anti-Masonic P...</td>\n      <td>yes</td>\n      <td>When was Joseph Ritner affiliated to Anti-Maso...</td>\n      <td>[1828, 1829, 1830, 1831, 1832, 1833, 1834, 183...</td>\n      <td>Until when was Joseph Ritner affiliated to Ant...</td>\n      <td>1839</td>\n      <td>From 1828 until was Joseph Ritner affiliated t...</td>\n      <td>1828</td>\n      <td>From 1828 until was Joseph Ritner affiliated t...</td>\n      <td>1828</td>\n      <td>From when to when was Joseph Ritner affiliated...</td>\n      <td>[1828, 1829, 1830, 1831, 1832, 1833, 1834, 183...</td>\n      <td>For how long was Joseph Ritner affiliated to A...</td>\n      <td>11</td>\n      <td>False</td>\n      <td>False</td>\n    </tr>\n  </tbody>\n</table>\n<p>16734 rows × 16 columns</p>\n</div>"
     },
     "execution_count": 103,
     "metadata": {},
     "output_type": "execute_result"
    }
   ],
   "source": [
    "pd.read_json('generated_data/0602/YAGO11k_questions_v1_0602.json')"
   ],
   "metadata": {
    "collapsed": false,
    "pycharm": {
     "name": "#%%\n"
    }
   }
  },
  {
   "cell_type": "code",
   "execution_count": 3,
   "outputs": [
    {
     "data": {
      "text/plain": "                      subject      predicate                     object  from  \\\n7296                  Al Gore  has won prize          Nobel Peace Prize  2007   \n7297            Linus Pauling  has won prize          Nobel Peace Prize  1962   \n7298          Andrei Sakharov  has won prize          Nobel Peace Prize  1975   \n7299   Martin Luther King Jr.  has won prize          Nobel Peace Prize  1964   \n7300           Joseph Rotblat  has won prize          Nobel Peace Prize  1995   \n...                       ...            ...                        ...   ...   \n19115             Antony Sher        created                I.D. (play)  2003   \n19117           Gordon Tipple        created    The Master (Doctor Who)  1996   \n19118               Lil Wayne        created       Throw That Boy Pussy  2015   \n19119             David Small        created            Stitches (book)  2009   \n19120        Lorin C. Woolley        created  Apostolic United Brethren  1929   \n\n      until  object_has_years  subject_has_years  \n7296   ####             False              False  \n7297   ####             False              False  \n7298   ####             False              False  \n7299   ####             False              False  \n7300   ####             False              False  \n...     ...               ...                ...  \n19115  ####             False              False  \n19117  ####             False              False  \n19118  ####             False              False  \n19119  ####             False              False  \n19120  ####             False              False  \n\n[5245 rows x 7 columns]",
      "text/html": "<div>\n<style scoped>\n    .dataframe tbody tr th:only-of-type {\n        vertical-align: middle;\n    }\n\n    .dataframe tbody tr th {\n        vertical-align: top;\n    }\n\n    .dataframe thead th {\n        text-align: right;\n    }\n</style>\n<table border=\"1\" class=\"dataframe\">\n  <thead>\n    <tr style=\"text-align: right;\">\n      <th></th>\n      <th>subject</th>\n      <th>predicate</th>\n      <th>object</th>\n      <th>from</th>\n      <th>until</th>\n      <th>object_has_years</th>\n      <th>subject_has_years</th>\n    </tr>\n  </thead>\n  <tbody>\n    <tr>\n      <th>7296</th>\n      <td>Al Gore</td>\n      <td>has won prize</td>\n      <td>Nobel Peace Prize</td>\n      <td>2007</td>\n      <td>####</td>\n      <td>False</td>\n      <td>False</td>\n    </tr>\n    <tr>\n      <th>7297</th>\n      <td>Linus Pauling</td>\n      <td>has won prize</td>\n      <td>Nobel Peace Prize</td>\n      <td>1962</td>\n      <td>####</td>\n      <td>False</td>\n      <td>False</td>\n    </tr>\n    <tr>\n      <th>7298</th>\n      <td>Andrei Sakharov</td>\n      <td>has won prize</td>\n      <td>Nobel Peace Prize</td>\n      <td>1975</td>\n      <td>####</td>\n      <td>False</td>\n      <td>False</td>\n    </tr>\n    <tr>\n      <th>7299</th>\n      <td>Martin Luther King Jr.</td>\n      <td>has won prize</td>\n      <td>Nobel Peace Prize</td>\n      <td>1964</td>\n      <td>####</td>\n      <td>False</td>\n      <td>False</td>\n    </tr>\n    <tr>\n      <th>7300</th>\n      <td>Joseph Rotblat</td>\n      <td>has won prize</td>\n      <td>Nobel Peace Prize</td>\n      <td>1995</td>\n      <td>####</td>\n      <td>False</td>\n      <td>False</td>\n    </tr>\n    <tr>\n      <th>...</th>\n      <td>...</td>\n      <td>...</td>\n      <td>...</td>\n      <td>...</td>\n      <td>...</td>\n      <td>...</td>\n      <td>...</td>\n    </tr>\n    <tr>\n      <th>19115</th>\n      <td>Antony Sher</td>\n      <td>created</td>\n      <td>I.D. (play)</td>\n      <td>2003</td>\n      <td>####</td>\n      <td>False</td>\n      <td>False</td>\n    </tr>\n    <tr>\n      <th>19117</th>\n      <td>Gordon Tipple</td>\n      <td>created</td>\n      <td>The Master (Doctor Who)</td>\n      <td>1996</td>\n      <td>####</td>\n      <td>False</td>\n      <td>False</td>\n    </tr>\n    <tr>\n      <th>19118</th>\n      <td>Lil Wayne</td>\n      <td>created</td>\n      <td>Throw That Boy Pussy</td>\n      <td>2015</td>\n      <td>####</td>\n      <td>False</td>\n      <td>False</td>\n    </tr>\n    <tr>\n      <th>19119</th>\n      <td>David Small</td>\n      <td>created</td>\n      <td>Stitches (book)</td>\n      <td>2009</td>\n      <td>####</td>\n      <td>False</td>\n      <td>False</td>\n    </tr>\n    <tr>\n      <th>19120</th>\n      <td>Lorin C. Woolley</td>\n      <td>created</td>\n      <td>Apostolic United Brethren</td>\n      <td>1929</td>\n      <td>####</td>\n      <td>False</td>\n      <td>False</td>\n    </tr>\n  </tbody>\n</table>\n<p>5245 rows × 7 columns</p>\n</div>"
     },
     "execution_count": 3,
     "metadata": {},
     "output_type": "execute_result"
    }
   ],
   "source": [
    "df = pd.read_csv('../data/processed_datasets/TKG_readable_YAGO11k.csv', index_col=0)\n",
    "# removing days and months\n",
    "df['from'] = df['from'].apply(lambda x: x[:x.find('-')])\n",
    "df['until'] = df['until'].apply(lambda x: x[:x.find('-')])\n",
    "\n",
    "predicates = {'is married to', 'has won prize', 'owns', 'graduated from', 'works at', 'plays for', 'created',\n",
    "              'is affiliated to'}\n",
    "imputable_set = {'has won prize', 'created', 'graduated from'}\n",
    "not_imputable_set = {'is affiliated to', 'is married to', 'owns', 'plays for', 'works at'}\n",
    "\n",
    "\n",
    "def is_part_of(predicate, set):\n",
    "    if predicate in set:\n",
    "        return True\n",
    "    return False\n",
    "\n",
    "missing_df = df[(df['until'] == '####')]\n",
    "missing_df[missing_df['predicate'].isin(imputable_set)]"
   ],
   "metadata": {
    "collapsed": false,
    "pycharm": {
     "name": "#%%\n"
    }
   }
  },
  {
   "cell_type": "code",
   "execution_count": 6,
   "outputs": [
    {
     "data": {
      "text/plain": "{'created',\n 'died in',\n 'graduated from',\n 'has won prize',\n 'is affiliated to',\n 'is married to',\n 'owns',\n 'plays for',\n 'was born in',\n 'works at'}"
     },
     "execution_count": 6,
     "metadata": {},
     "output_type": "execute_result"
    }
   ],
   "source": [
    "set(df.predicate.tolist())"
   ],
   "metadata": {
    "collapsed": false,
    "pycharm": {
     "name": "#%%\n"
    }
   }
  },
  {
   "cell_type": "code",
   "execution_count": 107,
   "outputs": [
    {
     "data": {
      "text/plain": "                              subject         predicate  \\\n3343   Vincent Wong (Hong Kong actor)     is married to   \n3347                      Wendy Moniz     is married to   \n3351                   Choi Won-young     is married to   \n3352                       Athena Chu     is married to   \n3353                     Eric Cantona     is married to   \n...                               ...               ...   \n20481               Sergio Mattarella  is affiliated to   \n20482                    Enrico Letta  is affiliated to   \n20496                   Katja Kipping  is affiliated to   \n20497               Sahra Wagenknecht  is affiliated to   \n20505              Jacob S. Coxey Sr.  is affiliated to   \n\n                            object  from until  object_has_years  \\\n3343                     Yoyo Chen  2011  ####             False   \n3347                  Frank Grillo  2000  ####             False   \n3351                 Shim Yi-young  2014  ####             False   \n3352          Paul Wong (musician)  2012  ####             False   \n3353                Rachida Brakni  2007  ####             False   \n...                            ...   ...   ...               ...   \n20481  Christian Democracy (Italy)  1994  ####             False   \n20482  Christian Democracy (Italy)  1994  ####             False   \n20496           The Left (Germany)  2007  ####             False   \n20497           The Left (Germany)  2007  ####             False   \n20505              Greenback Party  1874  ####             False   \n\n       subject_has_years  \n3343               False  \n3347               False  \n3351               False  \n3352               False  \n3353               False  \n...                  ...  \n20481              False  \n20482              False  \n20496              False  \n20497              False  \n20505              False  \n\n[3752 rows x 7 columns]",
      "text/html": "<div>\n<style scoped>\n    .dataframe tbody tr th:only-of-type {\n        vertical-align: middle;\n    }\n\n    .dataframe tbody tr th {\n        vertical-align: top;\n    }\n\n    .dataframe thead th {\n        text-align: right;\n    }\n</style>\n<table border=\"1\" class=\"dataframe\">\n  <thead>\n    <tr style=\"text-align: right;\">\n      <th></th>\n      <th>subject</th>\n      <th>predicate</th>\n      <th>object</th>\n      <th>from</th>\n      <th>until</th>\n      <th>object_has_years</th>\n      <th>subject_has_years</th>\n    </tr>\n  </thead>\n  <tbody>\n    <tr>\n      <th>3343</th>\n      <td>Vincent Wong (Hong Kong actor)</td>\n      <td>is married to</td>\n      <td>Yoyo Chen</td>\n      <td>2011</td>\n      <td>####</td>\n      <td>False</td>\n      <td>False</td>\n    </tr>\n    <tr>\n      <th>3347</th>\n      <td>Wendy Moniz</td>\n      <td>is married to</td>\n      <td>Frank Grillo</td>\n      <td>2000</td>\n      <td>####</td>\n      <td>False</td>\n      <td>False</td>\n    </tr>\n    <tr>\n      <th>3351</th>\n      <td>Choi Won-young</td>\n      <td>is married to</td>\n      <td>Shim Yi-young</td>\n      <td>2014</td>\n      <td>####</td>\n      <td>False</td>\n      <td>False</td>\n    </tr>\n    <tr>\n      <th>3352</th>\n      <td>Athena Chu</td>\n      <td>is married to</td>\n      <td>Paul Wong (musician)</td>\n      <td>2012</td>\n      <td>####</td>\n      <td>False</td>\n      <td>False</td>\n    </tr>\n    <tr>\n      <th>3353</th>\n      <td>Eric Cantona</td>\n      <td>is married to</td>\n      <td>Rachida Brakni</td>\n      <td>2007</td>\n      <td>####</td>\n      <td>False</td>\n      <td>False</td>\n    </tr>\n    <tr>\n      <th>...</th>\n      <td>...</td>\n      <td>...</td>\n      <td>...</td>\n      <td>...</td>\n      <td>...</td>\n      <td>...</td>\n      <td>...</td>\n    </tr>\n    <tr>\n      <th>20481</th>\n      <td>Sergio Mattarella</td>\n      <td>is affiliated to</td>\n      <td>Christian Democracy (Italy)</td>\n      <td>1994</td>\n      <td>####</td>\n      <td>False</td>\n      <td>False</td>\n    </tr>\n    <tr>\n      <th>20482</th>\n      <td>Enrico Letta</td>\n      <td>is affiliated to</td>\n      <td>Christian Democracy (Italy)</td>\n      <td>1994</td>\n      <td>####</td>\n      <td>False</td>\n      <td>False</td>\n    </tr>\n    <tr>\n      <th>20496</th>\n      <td>Katja Kipping</td>\n      <td>is affiliated to</td>\n      <td>The Left (Germany)</td>\n      <td>2007</td>\n      <td>####</td>\n      <td>False</td>\n      <td>False</td>\n    </tr>\n    <tr>\n      <th>20497</th>\n      <td>Sahra Wagenknecht</td>\n      <td>is affiliated to</td>\n      <td>The Left (Germany)</td>\n      <td>2007</td>\n      <td>####</td>\n      <td>False</td>\n      <td>False</td>\n    </tr>\n    <tr>\n      <th>20505</th>\n      <td>Jacob S. Coxey Sr.</td>\n      <td>is affiliated to</td>\n      <td>Greenback Party</td>\n      <td>1874</td>\n      <td>####</td>\n      <td>False</td>\n      <td>False</td>\n    </tr>\n  </tbody>\n</table>\n<p>3752 rows × 7 columns</p>\n</div>"
     },
     "execution_count": 107,
     "metadata": {},
     "output_type": "execute_result"
    }
   ],
   "source": [
    "missing_df[missing_df['predicate'].isin(not_imputable_set)]"
   ],
   "metadata": {
    "collapsed": false,
    "pycharm": {
     "name": "#%%\n"
    }
   }
  },
  {
   "cell_type": "code",
   "execution_count": 108,
   "outputs": [],
   "source": [
    "df['until'] = df.apply(lambda x:\n",
    "                       x['from'] if (x['until'] == '####' and is_part_of(x['predicate'], imputable_set)) else x[\n",
    "                           'until'], axis=1)\n",
    "\n",
    "df['not_imputable_until'] = df.apply(lambda x:\n",
    "                                     True if (x['until'] == '####' and is_part_of(x['predicate'],\n",
    "                                                                                  not_imputable_set)) else False,\n",
    "                                     axis=1)\n",
    "df = df[df['not_imputable_until'] == False]\n",
    "df = df.reset_index().iloc[:, 1:]"
   ],
   "metadata": {
    "collapsed": false,
    "pycharm": {
     "name": "#%%\n"
    }
   }
  },
  {
   "cell_type": "code",
   "execution_count": 109,
   "outputs": [
    {
     "name": "stdout",
     "output_type": "stream",
     "text": [
      "[2847, 14209, 14448, 14727, 14823, 15055, 15056, 15057, 15058, 15136, 15137, 15167, 15177, 15178, 15179, 15180, 15181, 15182, 15320, 15495, 15674, 15725, 15970]\n"
     ]
    }
   ],
   "source": [
    "unsuitable_row_ids = []\n",
    "for i, entry in df.iterrows():\n",
    "    if entry['from'].__contains__('#') or entry['from'].__contains__('-') or str(entry['until']).__contains__(\n",
    "            '#') or str(entry['until']).__contains__('-') or entry['from'] == '':\n",
    "        unsuitable_row_ids.append(i)\n",
    "print(unsuitable_row_ids)"
   ],
   "metadata": {
    "collapsed": false,
    "pycharm": {
     "name": "#%%\n"
    }
   }
  },
  {
   "cell_type": "code",
   "execution_count": 110,
   "outputs": [
    {
     "data": {
      "text/plain": "                             subject    predicate  \\\n2847   Michael Houghton (virologist)  was born in   \n14209             Tylman van Gameren      created   \n14448                        Yue Fei      created   \n14727               Arthur Blomfield      created   \n14823        Karl Friedrich Schinkel      created   \n15055                      Euripides      created   \n15056                      Euripides      created   \n15057                      Euripides      created   \n15058                      Euripides      created   \n15136          John Nash (architect)      created   \n15137           George Gilbert Scott      created   \n15167                 Ernst Anschütz      created   \n15177                   Aristophanes      created   \n15178                   Aristophanes      created   \n15179                   Aristophanes      created   \n15180                   Aristophanes      created   \n15181                   Aristophanes      created   \n15182                   Aristophanes      created   \n15320                   William Burn      created   \n15495             Philippe Cannissié      created   \n15674                 Richard Upjohn      created   \n15725     George Webster (architect)      created   \n15970             Peter Andreas Blix      created   \n\n                            object  from until  object_has_years  \\\n2847                United Kingdom  195#  195#             False   \n14209         Brühl Palace, Warsaw  17##  18##             False   \n14448                 Xing Yi Quan  12##  19##             False   \n14727  St Mary Magdalene, Richmond  20##  20##             False   \n14823             Ehrenburg Palace  19##  19##             False   \n15055                  The Bacchae                         False   \n15056                 Medea (play)                         False   \n15057            Hippolytus (play)                         False   \n15058             The Trojan Women                         False   \n15136         St David's Cathedral  18##  18##             False   \n15137         St David's Cathedral  19##  19##             False   \n15167                 O Tannenbaum  16##  16##             False   \n15177                    The Frogs                         False   \n15178            Thesmophoriazusae                         False   \n15179                    The Wasps                         False   \n15180                   Lysistrata                         False   \n15181                   The Clouds                         False   \n15182             The Birds (play)                         False   \n15320              Balcarres House  19##  19##             False   \n15495         Saint-Maurice, Lille  19##  19##             False   \n15674             Mandeville House  19##  19##             False   \n15725                 Ingmire Hall  19##  19##             False   \n15970      Hopperstad Stave Church  19##  19##             False   \n\n       subject_has_years  not_imputable_until  \n2847               False                False  \n14209              False                False  \n14448              False                False  \n14727              False                False  \n14823              False                False  \n15055              False                False  \n15056              False                False  \n15057              False                False  \n15058              False                False  \n15136              False                False  \n15137              False                False  \n15167              False                False  \n15177              False                False  \n15178              False                False  \n15179              False                False  \n15180              False                False  \n15181              False                False  \n15182              False                False  \n15320              False                False  \n15495              False                False  \n15674              False                False  \n15725              False                False  \n15970              False                False  ",
      "text/html": "<div>\n<style scoped>\n    .dataframe tbody tr th:only-of-type {\n        vertical-align: middle;\n    }\n\n    .dataframe tbody tr th {\n        vertical-align: top;\n    }\n\n    .dataframe thead th {\n        text-align: right;\n    }\n</style>\n<table border=\"1\" class=\"dataframe\">\n  <thead>\n    <tr style=\"text-align: right;\">\n      <th></th>\n      <th>subject</th>\n      <th>predicate</th>\n      <th>object</th>\n      <th>from</th>\n      <th>until</th>\n      <th>object_has_years</th>\n      <th>subject_has_years</th>\n      <th>not_imputable_until</th>\n    </tr>\n  </thead>\n  <tbody>\n    <tr>\n      <th>2847</th>\n      <td>Michael Houghton (virologist)</td>\n      <td>was born in</td>\n      <td>United Kingdom</td>\n      <td>195#</td>\n      <td>195#</td>\n      <td>False</td>\n      <td>False</td>\n      <td>False</td>\n    </tr>\n    <tr>\n      <th>14209</th>\n      <td>Tylman van Gameren</td>\n      <td>created</td>\n      <td>Brühl Palace, Warsaw</td>\n      <td>17##</td>\n      <td>18##</td>\n      <td>False</td>\n      <td>False</td>\n      <td>False</td>\n    </tr>\n    <tr>\n      <th>14448</th>\n      <td>Yue Fei</td>\n      <td>created</td>\n      <td>Xing Yi Quan</td>\n      <td>12##</td>\n      <td>19##</td>\n      <td>False</td>\n      <td>False</td>\n      <td>False</td>\n    </tr>\n    <tr>\n      <th>14727</th>\n      <td>Arthur Blomfield</td>\n      <td>created</td>\n      <td>St Mary Magdalene, Richmond</td>\n      <td>20##</td>\n      <td>20##</td>\n      <td>False</td>\n      <td>False</td>\n      <td>False</td>\n    </tr>\n    <tr>\n      <th>14823</th>\n      <td>Karl Friedrich Schinkel</td>\n      <td>created</td>\n      <td>Ehrenburg Palace</td>\n      <td>19##</td>\n      <td>19##</td>\n      <td>False</td>\n      <td>False</td>\n      <td>False</td>\n    </tr>\n    <tr>\n      <th>15055</th>\n      <td>Euripides</td>\n      <td>created</td>\n      <td>The Bacchae</td>\n      <td></td>\n      <td></td>\n      <td>False</td>\n      <td>False</td>\n      <td>False</td>\n    </tr>\n    <tr>\n      <th>15056</th>\n      <td>Euripides</td>\n      <td>created</td>\n      <td>Medea (play)</td>\n      <td></td>\n      <td></td>\n      <td>False</td>\n      <td>False</td>\n      <td>False</td>\n    </tr>\n    <tr>\n      <th>15057</th>\n      <td>Euripides</td>\n      <td>created</td>\n      <td>Hippolytus (play)</td>\n      <td></td>\n      <td></td>\n      <td>False</td>\n      <td>False</td>\n      <td>False</td>\n    </tr>\n    <tr>\n      <th>15058</th>\n      <td>Euripides</td>\n      <td>created</td>\n      <td>The Trojan Women</td>\n      <td></td>\n      <td></td>\n      <td>False</td>\n      <td>False</td>\n      <td>False</td>\n    </tr>\n    <tr>\n      <th>15136</th>\n      <td>John Nash (architect)</td>\n      <td>created</td>\n      <td>St David's Cathedral</td>\n      <td>18##</td>\n      <td>18##</td>\n      <td>False</td>\n      <td>False</td>\n      <td>False</td>\n    </tr>\n    <tr>\n      <th>15137</th>\n      <td>George Gilbert Scott</td>\n      <td>created</td>\n      <td>St David's Cathedral</td>\n      <td>19##</td>\n      <td>19##</td>\n      <td>False</td>\n      <td>False</td>\n      <td>False</td>\n    </tr>\n    <tr>\n      <th>15167</th>\n      <td>Ernst Anschütz</td>\n      <td>created</td>\n      <td>O Tannenbaum</td>\n      <td>16##</td>\n      <td>16##</td>\n      <td>False</td>\n      <td>False</td>\n      <td>False</td>\n    </tr>\n    <tr>\n      <th>15177</th>\n      <td>Aristophanes</td>\n      <td>created</td>\n      <td>The Frogs</td>\n      <td></td>\n      <td></td>\n      <td>False</td>\n      <td>False</td>\n      <td>False</td>\n    </tr>\n    <tr>\n      <th>15178</th>\n      <td>Aristophanes</td>\n      <td>created</td>\n      <td>Thesmophoriazusae</td>\n      <td></td>\n      <td></td>\n      <td>False</td>\n      <td>False</td>\n      <td>False</td>\n    </tr>\n    <tr>\n      <th>15179</th>\n      <td>Aristophanes</td>\n      <td>created</td>\n      <td>The Wasps</td>\n      <td></td>\n      <td></td>\n      <td>False</td>\n      <td>False</td>\n      <td>False</td>\n    </tr>\n    <tr>\n      <th>15180</th>\n      <td>Aristophanes</td>\n      <td>created</td>\n      <td>Lysistrata</td>\n      <td></td>\n      <td></td>\n      <td>False</td>\n      <td>False</td>\n      <td>False</td>\n    </tr>\n    <tr>\n      <th>15181</th>\n      <td>Aristophanes</td>\n      <td>created</td>\n      <td>The Clouds</td>\n      <td></td>\n      <td></td>\n      <td>False</td>\n      <td>False</td>\n      <td>False</td>\n    </tr>\n    <tr>\n      <th>15182</th>\n      <td>Aristophanes</td>\n      <td>created</td>\n      <td>The Birds (play)</td>\n      <td></td>\n      <td></td>\n      <td>False</td>\n      <td>False</td>\n      <td>False</td>\n    </tr>\n    <tr>\n      <th>15320</th>\n      <td>William Burn</td>\n      <td>created</td>\n      <td>Balcarres House</td>\n      <td>19##</td>\n      <td>19##</td>\n      <td>False</td>\n      <td>False</td>\n      <td>False</td>\n    </tr>\n    <tr>\n      <th>15495</th>\n      <td>Philippe Cannissié</td>\n      <td>created</td>\n      <td>Saint-Maurice, Lille</td>\n      <td>19##</td>\n      <td>19##</td>\n      <td>False</td>\n      <td>False</td>\n      <td>False</td>\n    </tr>\n    <tr>\n      <th>15674</th>\n      <td>Richard Upjohn</td>\n      <td>created</td>\n      <td>Mandeville House</td>\n      <td>19##</td>\n      <td>19##</td>\n      <td>False</td>\n      <td>False</td>\n      <td>False</td>\n    </tr>\n    <tr>\n      <th>15725</th>\n      <td>George Webster (architect)</td>\n      <td>created</td>\n      <td>Ingmire Hall</td>\n      <td>19##</td>\n      <td>19##</td>\n      <td>False</td>\n      <td>False</td>\n      <td>False</td>\n    </tr>\n    <tr>\n      <th>15970</th>\n      <td>Peter Andreas Blix</td>\n      <td>created</td>\n      <td>Hopperstad Stave Church</td>\n      <td>19##</td>\n      <td>19##</td>\n      <td>False</td>\n      <td>False</td>\n      <td>False</td>\n    </tr>\n  </tbody>\n</table>\n</div>"
     },
     "execution_count": 110,
     "metadata": {},
     "output_type": "execute_result"
    }
   ],
   "source": [
    "df.iloc[unsuitable_row_ids, :]"
   ],
   "metadata": {
    "collapsed": false,
    "pycharm": {
     "name": "#%%\n"
    }
   }
  },
  {
   "cell_type": "code",
   "execution_count": 111,
   "outputs": [],
   "source": [
    "# Dropping all entries where the dates are ambiguous\n",
    "df = df.drop(unsuitable_row_ids)"
   ],
   "metadata": {
    "collapsed": false,
    "pycharm": {
     "name": "#%%\n"
    }
   }
  },
  {
   "cell_type": "code",
   "execution_count": 112,
   "outputs": [],
   "source": [
    "lemma = False\n",
    "time_indication = True\n",
    "\n",
    "df_falsy_yes_no_questions = df.apply(lambda x: qm.formulate_yes_no_question(x['subject'], x['predicate'], x['object'],\n",
    "                                                x['from'], x['until'], lemma=lemma,\n",
    "                                                time_indication=time_indication,\n",
    "                                                count_of_falsy_year_question=2), axis=1)"
   ],
   "metadata": {
    "collapsed": false,
    "pycharm": {
     "name": "#%%\n"
    }
   }
  },
  {
   "cell_type": "code",
   "execution_count": 114,
   "outputs": [],
   "source": [
    "df_falsy_yes_no_questions.to_json('generated_data/0606/questions_v3_yes_no_robust_raw.json')"
   ],
   "metadata": {
    "collapsed": false,
    "pycharm": {
     "name": "#%%\n"
    }
   }
  },
  {
   "cell_type": "code",
   "execution_count": 116,
   "outputs": [],
   "source": [
    "with open('generated_data/0606/questions_v3_yes_no_robust_raw.json') as json_data:\n",
    "    data = json.load(json_data)\n",
    "\n",
    "df_yes_no_robust = pd.DataFrame()\n",
    "index = 0\n",
    "for i, entry in data.items():\n",
    "    for qe in entry:\n",
    "        df_yes_no_robust.loc[index, 'qe_index'] = i\n",
    "        df_yes_no_robust.loc[index, 'qe'] = qe[0]\n",
    "        df_yes_no_robust.loc[index, 'an'] = qe[1]\n",
    "        index += 1\n",
    "\n",
    "df_yes_no_robust.to_json('generated_data/0606/questions_v3_yes_no_robust.json')"
   ],
   "metadata": {
    "collapsed": false,
    "pycharm": {
     "name": "#%%\n"
    }
   }
  },
  {
   "cell_type": "code",
   "execution_count": 54,
   "outputs": [],
   "source": [],
   "metadata": {
    "collapsed": false,
    "pycharm": {
     "name": "#%%\n"
    }
   }
  },
  {
   "cell_type": "code",
   "execution_count": 75,
   "outputs": [],
   "source": [
    "def convert_qm_output_to_two_df_columns(dataframe, prefix):\n",
    "    dataframe[f'{prefix}_qe'] = dataframe[prefix].apply(lambda x: x[0][0] if x is not None else None)\n",
    "    dataframe[f'{prefix}_an'] = dataframe[prefix].apply(lambda x: x[0][1] if x is not None else None)\n",
    "\n",
    "\n",
    "def generate_questions(df, lemma, time_indication):\n",
    "    start_time = time.time()\n",
    "\n",
    "    questions = pd.DataFrame()\n",
    "    questions['yes_no'] = df.apply(lambda x:\n",
    "                                   qm.formulate_yes_no_question(x['subject'], x['predicate'], x['object'],\n",
    "                                                                x['from'], x['until'], lemma=lemma,\n",
    "                                                                time_indication=time_indication), axis=1)\n",
    "    questions['when'] = df.apply(lambda x:\n",
    "                                 qm.formulate_simple_when_question(x['subject'], x['predicate'], x['object'],\n",
    "                                                                   x['from'], x['until'],\n",
    "                                                                   time_indication=time_indication, lemma=lemma),\n",
    "                                 axis=1)\n",
    "\n",
    "    questions['when_to_when'] = df.apply(lambda x:\n",
    "                                         qm.formulate_when_to_when_question(x['subject'], x['predicate'], x['object'],\n",
    "                                                                            x['from'], x['until'],\n",
    "                                                                            time_indication=time_indication,\n",
    "                                                                            lemma=lemma),\n",
    "                                         axis=1)\n",
    "\n",
    "    questions['from_when'] = df.apply(lambda x:\n",
    "                                      qm.formulate_from_or_until_question(x['subject'], x['predicate'], x['object'],\n",
    "                                                                          x['from'], x['until'],\n",
    "                                                                          is_from_question=True,\n",
    "                                                                          time_indication=time_indication, lemma=lemma),\n",
    "                                      axis=1)\n",
    "\n",
    "    questions['until_when'] = df.apply(lambda x:\n",
    "                                       qm.formulate_from_or_until_question(x['subject'], x['predicate'], x['object'],\n",
    "                                                                           x['from'], x['until'],\n",
    "                                                                           is_from_question=False,\n",
    "                                                                           time_indication=time_indication,\n",
    "                                                                           lemma=lemma),\n",
    "                                       axis=1)\n",
    "\n",
    "    questions['left_open'] = df.apply(lambda x:\n",
    "                                      qm.formulate_left_or_right_open_interval_questions(x['subject'], x['predicate'],\n",
    "                                                                                         x['object'],\n",
    "                                                                                         x['from'], x['until'],\n",
    "                                                                                         right_open=False,\n",
    "                                                                                         time_indication=time_indication,\n",
    "                                                                                         lemma=lemma),\n",
    "                                      axis=1)\n",
    "\n",
    "    questions['right_open'] = df.apply(lambda x:\n",
    "                                       qm.formulate_left_or_right_open_interval_questions(x['subject'], x['predicate'],\n",
    "                                                                                          x['object'],\n",
    "                                                                                          x['from'], x['until'],\n",
    "                                                                                          right_open=True,\n",
    "                                                                                          time_indication=time_indication,\n",
    "                                                                                          lemma=lemma),\n",
    "                                       axis=1)\n",
    "    questions['duration'] = df.apply(lambda x:\n",
    "                                     qm.formulate_duration_question(x['subject'], x['predicate'],\n",
    "                                                                    x['object'],\n",
    "                                                                    x['from'], x['until'],\n",
    "                                                                    time_indication=time_indication,\n",
    "                                                                    lemma=lemma),\n",
    "                                     axis=1)\n",
    "\n",
    "    print(\"--- %s seconds ---\" % (time.time() - start_time))\n",
    "\n",
    "    convert_qm_output_to_two_df_columns(questions, 'yes_no')\n",
    "    convert_qm_output_to_two_df_columns(questions, 'when')\n",
    "    convert_qm_output_to_two_df_columns(questions, 'until_when')\n",
    "    convert_qm_output_to_two_df_columns(questions, 'left_open')\n",
    "    convert_qm_output_to_two_df_columns(questions, 'right_open')\n",
    "    convert_qm_output_to_two_df_columns(questions, 'when_to_when')\n",
    "    convert_qm_output_to_two_df_columns(questions, 'duration')\n",
    "\n",
    "    return questions\n"
   ],
   "metadata": {
    "collapsed": false,
    "pycharm": {
     "name": "#%%\n"
    }
   }
  },
  {
   "cell_type": "code",
   "execution_count": 91,
   "outputs": [],
   "source": [
    "def generate_questions_v2(df, lemma, time_indication):\n",
    "    questions = pd.DataFrame()\n",
    "    questions['left_open'] = df.apply(lambda x:\n",
    "                                      qm.formulate_left_or_right_open_interval_questions(x['subject'], x['predicate'],\n",
    "                                                                                         x['object'],\n",
    "                                                                                         x['from'], x['until'],\n",
    "                                                                                         right_open=False,\n",
    "                                                                                         time_indication=time_indication,\n",
    "                                                                                         lemma=lemma),\n",
    "                                      axis=1)\n",
    "\n",
    "    questions['right_open'] = df.apply(lambda x:\n",
    "                                       qm.formulate_left_or_right_open_interval_questions(x['subject'], x['predicate'],\n",
    "                                                                                          x['object'],\n",
    "                                                                                          x['from'], x['until'],\n",
    "                                                                                          right_open=True,\n",
    "                                                                                          time_indication=time_indication,\n",
    "                                                                                          lemma=lemma),\n",
    "                                       axis=1)\n",
    "\n",
    "    convert_qm_output_to_two_df_columns(questions, 'left_open')\n",
    "    convert_qm_output_to_two_df_columns(questions, 'right_open')\n",
    "    return questions"
   ],
   "metadata": {
    "collapsed": false,
    "pycharm": {
     "name": "#%%\n"
    }
   }
  },
  {
   "cell_type": "code",
   "execution_count": 97,
   "outputs": [],
   "source": [
    "# V1 not lemmatized without time indication\n",
    "v1_questions = generate_questions_v2(df, lemma=False, time_indication=False)\n",
    "v2_questions = generate_questions_v2(df, lemma=True, time_indication=False)\n",
    "v3_questions = generate_questions_v2(df, lemma=False, time_indication=True)\n",
    "v4_questions = generate_questions_v2(df, lemma=True, time_indication=True)"
   ],
   "metadata": {
    "collapsed": false,
    "pycharm": {
     "name": "#%%\n"
    }
   }
  },
  {
   "cell_type": "code",
   "execution_count": 99,
   "outputs": [
    {
     "data": {
      "text/plain": "[                                               left_open  \\\n 0                                                   None   \n 1                                                   None   \n 2                                                   None   \n 3                                                   None   \n 4                                                   None   \n ...                                                  ...   \n 16752  [(From when until 1874 was Benjamin Butler aff...   \n 16753  [(From when until 1876 was Charles E. Cunningh...   \n 16754  [(From when until 1833 was John Quincy Adams a...   \n 16755  [(From when until 1828 was Thaddeus Stevens af...   \n 16756  [(From when until 1828 was Joseph Ritner affil...   \n \n                                               right_open  \\\n 0                                                   None   \n 1                                                   None   \n 2                                                   None   \n 3                                                   None   \n 4                                                   None   \n ...                                                  ...   \n 16752  [(From 1874 until was Benjamin Butler affiliat...   \n 16753  [(From 1876 until was Charles E. Cunningham af...   \n 16754  [(From 1833 until was John Quincy Adams affili...   \n 16755  [(From 1828 until was Thaddeus Stevens affilia...   \n 16756  [(From 1828 until was Joseph Ritner affiliated...   \n \n                                             left_open_qe  left_open_an  \\\n 0                                                   None           NaN   \n 1                                                   None           NaN   \n 2                                                   None           NaN   \n 3                                                   None           NaN   \n 4                                                   None           NaN   \n ...                                                  ...           ...   \n 16752  From when until 1874 was Benjamin Butler affil...        1874.0   \n 16753  From when until 1876 was Charles E. Cunningham...        1876.0   \n 16754  From when until 1833 was John Quincy Adams aff...        1833.0   \n 16755  From when until 1828 was Thaddeus Stevens affi...        1828.0   \n 16756  From when until 1828 was Joseph Ritner affilia...        1828.0   \n \n                                            right_open_qe  right_open_an  \n 0                                                   None            NaN  \n 1                                                   None            NaN  \n 2                                                   None            NaN  \n 3                                                   None            NaN  \n 4                                                   None            NaN  \n ...                                                  ...            ...  \n 16752  From 1874 until was Benjamin Butler affiliated...         1889.0  \n 16753  From 1876 until was Charles E. Cunningham affi...         1886.0  \n 16754  From 1833 until was John Quincy Adams affiliat...         1838.0  \n 16755  From 1828 until was Thaddeus Stevens affiliate...         1838.0  \n 16756  From 1828 until was Joseph Ritner affiliated t...         1839.0  \n \n [16734 rows x 6 columns],\n                                                left_open  \\\n 0                                                   None   \n 1                                                   None   \n 2                                                   None   \n 3                                                   None   \n 4                                                   None   \n ...                                                  ...   \n 16752  [(From when until 1874 was Benjamin Butler aff...   \n 16753  [(From when until 1876 was Charles E. Cunningh...   \n 16754  [(From when until 1833 was John Quincy Adams a...   \n 16755  [(From when until 1828 was Thaddeus Stevens af...   \n 16756  [(From when until 1828 was Joseph Ritner affil...   \n \n                                               right_open  \\\n 0                                                   None   \n 1                                                   None   \n 2                                                   None   \n 3                                                   None   \n 4                                                   None   \n ...                                                  ...   \n 16752  [(From 1874 until was Benjamin Butler affiliat...   \n 16753  [(From 1876 until was Charles E. Cunningham af...   \n 16754  [(From 1833 until was John Quincy Adams affili...   \n 16755  [(From 1828 until was Thaddeus Stevens affilia...   \n 16756  [(From 1828 until was Joseph Ritner affiliated...   \n \n                                             left_open_qe  left_open_an  \\\n 0                                                   None           NaN   \n 1                                                   None           NaN   \n 2                                                   None           NaN   \n 3                                                   None           NaN   \n 4                                                   None           NaN   \n ...                                                  ...           ...   \n 16752  From when until 1874 was Benjamin Butler affil...        1874.0   \n 16753  From when until 1876 was Charles E. Cunningham...        1876.0   \n 16754  From when until 1833 was John Quincy Adams aff...        1833.0   \n 16755  From when until 1828 was Thaddeus Stevens affi...        1828.0   \n 16756  From when until 1828 was Joseph Ritner affilia...        1828.0   \n \n                                            right_open_qe  right_open_an  \n 0                                                   None            NaN  \n 1                                                   None            NaN  \n 2                                                   None            NaN  \n 3                                                   None            NaN  \n 4                                                   None            NaN  \n ...                                                  ...            ...  \n 16752  From 1874 until was Benjamin Butler affiliated...         1889.0  \n 16753  From 1876 until was Charles E. Cunningham affi...         1886.0  \n 16754  From 1833 until was John Quincy Adams affiliat...         1838.0  \n 16755  From 1828 until was Thaddeus Stevens affiliate...         1838.0  \n 16756  From 1828 until was Joseph Ritner affiliated t...         1839.0  \n \n [16734 rows x 6 columns],\n                                                left_open  \\\n 0                                                   None   \n 1                                                   None   \n 2                                                   None   \n 3                                                   None   \n 4                                                   None   \n ...                                                  ...   \n 16752  [(From which year until the year 1874 was Benj...   \n 16753  [(From which year until the year 1876 was Char...   \n 16754  [(From which year until the year 1833 was John...   \n 16755  [(From which year until the year 1828 was Thad...   \n 16756  [(From which year until the year 1828 was Jose...   \n \n                                               right_open  \\\n 0                                                   None   \n 1                                                   None   \n 2                                                   None   \n 3                                                   None   \n 4                                                   None   \n ...                                                  ...   \n 16752  [(From the year 1874 until which year was Benj...   \n 16753  [(From the year 1876 until which year was Char...   \n 16754  [(From the year 1833 until which year was John...   \n 16755  [(From the year 1828 until which year was Thad...   \n 16756  [(From the year 1828 until which year was Jose...   \n \n                                             left_open_qe  left_open_an  \\\n 0                                                   None           NaN   \n 1                                                   None           NaN   \n 2                                                   None           NaN   \n 3                                                   None           NaN   \n 4                                                   None           NaN   \n ...                                                  ...           ...   \n 16752  From which year until the year 1874 was Benjam...        1874.0   \n 16753  From which year until the year 1876 was Charle...        1876.0   \n 16754  From which year until the year 1833 was John Q...        1833.0   \n 16755  From which year until the year 1828 was Thadde...        1828.0   \n 16756  From which year until the year 1828 was Joseph...        1828.0   \n \n                                            right_open_qe  right_open_an  \n 0                                                   None            NaN  \n 1                                                   None            NaN  \n 2                                                   None            NaN  \n 3                                                   None            NaN  \n 4                                                   None            NaN  \n ...                                                  ...            ...  \n 16752  From the year 1874 until which year was Benjam...         1889.0  \n 16753  From the year 1876 until which year was Charle...         1886.0  \n 16754  From the year 1833 until which year was John Q...         1838.0  \n 16755  From the year 1828 until which year was Thadde...         1838.0  \n 16756  From the year 1828 until which year was Joseph...         1839.0  \n \n [16734 rows x 6 columns],\n                                                left_open  \\\n 0                                                   None   \n 1                                                   None   \n 2                                                   None   \n 3                                                   None   \n 4                                                   None   \n ...                                                  ...   \n 16752  [(From which year until the year 1874 was Benj...   \n 16753  [(From which year until the year 1876 was Char...   \n 16754  [(From which year until the year 1833 was John...   \n 16755  [(From which year until the year 1828 was Thad...   \n 16756  [(From which year until the year 1828 was Jose...   \n \n                                               right_open  \\\n 0                                                   None   \n 1                                                   None   \n 2                                                   None   \n 3                                                   None   \n 4                                                   None   \n ...                                                  ...   \n 16752  [(From the year 1874 until which year was Benj...   \n 16753  [(From the year 1876 until which year was Char...   \n 16754  [(From the year 1833 until which year was John...   \n 16755  [(From the year 1828 until which year was Thad...   \n 16756  [(From the year 1828 until which year was Jose...   \n \n                                             left_open_qe  left_open_an  \\\n 0                                                   None           NaN   \n 1                                                   None           NaN   \n 2                                                   None           NaN   \n 3                                                   None           NaN   \n 4                                                   None           NaN   \n ...                                                  ...           ...   \n 16752  From which year until the year 1874 was Benjam...        1874.0   \n 16753  From which year until the year 1876 was Charle...        1876.0   \n 16754  From which year until the year 1833 was John Q...        1833.0   \n 16755  From which year until the year 1828 was Thadde...        1828.0   \n 16756  From which year until the year 1828 was Joseph...        1828.0   \n \n                                            right_open_qe  right_open_an  \n 0                                                   None            NaN  \n 1                                                   None            NaN  \n 2                                                   None            NaN  \n 3                                                   None            NaN  \n 4                                                   None            NaN  \n ...                                                  ...            ...  \n 16752  From the year 1874 until which year was Benjam...         1889.0  \n 16753  From the year 1876 until which year was Charle...         1886.0  \n 16754  From the year 1833 until which year was John Q...         1838.0  \n 16755  From the year 1828 until which year was Thadde...         1838.0  \n 16756  From the year 1828 until which year was Joseph...         1839.0  \n \n [16734 rows x 6 columns]]"
     },
     "execution_count": 99,
     "metadata": {},
     "output_type": "execute_result"
    }
   ],
   "source": [
    "questions = [v1_questions, v2_questions, v3_questions, v4_questions]\n",
    "questions"
   ],
   "metadata": {
    "collapsed": false,
    "pycharm": {
     "name": "#%%\n"
    }
   }
  },
  {
   "cell_type": "code",
   "execution_count": 84,
   "outputs": [
    {
     "ename": "KeyboardInterrupt",
     "evalue": "",
     "output_type": "error",
     "traceback": [
      "\u001B[0;31m---------------------------------------------------------------------------\u001B[0m",
      "\u001B[0;31mKeyboardInterrupt\u001B[0m                         Traceback (most recent call last)",
      "Input \u001B[0;32mIn [84]\u001B[0m, in \u001B[0;36m<module>\u001B[0;34m\u001B[0m\n\u001B[1;32m      1\u001B[0m \u001B[38;5;66;03m# V1 not lemmatized without time indication\u001B[39;00m\n\u001B[0;32m----> 2\u001B[0m v1_questions \u001B[38;5;241m=\u001B[39m \u001B[43mgenerate_questions\u001B[49m\u001B[43m(\u001B[49m\u001B[43mdf\u001B[49m\u001B[43m,\u001B[49m\u001B[43m \u001B[49m\u001B[43mlemma\u001B[49m\u001B[38;5;241;43m=\u001B[39;49m\u001B[38;5;28;43;01mFalse\u001B[39;49;00m\u001B[43m,\u001B[49m\u001B[43m \u001B[49m\u001B[43mtime_indication\u001B[49m\u001B[38;5;241;43m=\u001B[39;49m\u001B[38;5;28;43;01mFalse\u001B[39;49;00m\u001B[43m)\u001B[49m\n\u001B[1;32m      3\u001B[0m \u001B[38;5;66;03m# V2 lemmatized without time indication\u001B[39;00m\n\u001B[1;32m      4\u001B[0m v2_questions \u001B[38;5;241m=\u001B[39m generate_questions(df, lemma\u001B[38;5;241m=\u001B[39m\u001B[38;5;28;01mTrue\u001B[39;00m, time_indication\u001B[38;5;241m=\u001B[39m\u001B[38;5;28;01mFalse\u001B[39;00m)\n",
      "Input \u001B[0;32mIn [75]\u001B[0m, in \u001B[0;36mgenerate_questions\u001B[0;34m(df, lemma, time_indication)\u001B[0m\n\u001B[1;32m      7\u001B[0m start_time \u001B[38;5;241m=\u001B[39m time\u001B[38;5;241m.\u001B[39mtime()\n\u001B[1;32m      9\u001B[0m questions \u001B[38;5;241m=\u001B[39m pd\u001B[38;5;241m.\u001B[39mDataFrame()\n\u001B[0;32m---> 10\u001B[0m questions[\u001B[38;5;124m'\u001B[39m\u001B[38;5;124myes_no\u001B[39m\u001B[38;5;124m'\u001B[39m] \u001B[38;5;241m=\u001B[39m \u001B[43mdf\u001B[49m\u001B[38;5;241;43m.\u001B[39;49m\u001B[43mapply\u001B[49m\u001B[43m(\u001B[49m\u001B[38;5;28;43;01mlambda\u001B[39;49;00m\u001B[43m \u001B[49m\u001B[43mx\u001B[49m\u001B[43m:\u001B[49m\n\u001B[1;32m     11\u001B[0m \u001B[43m                               \u001B[49m\u001B[43mqm\u001B[49m\u001B[38;5;241;43m.\u001B[39;49m\u001B[43mformulate_yes_no_question\u001B[49m\u001B[43m(\u001B[49m\u001B[43mx\u001B[49m\u001B[43m[\u001B[49m\u001B[38;5;124;43m'\u001B[39;49m\u001B[38;5;124;43msubject\u001B[39;49m\u001B[38;5;124;43m'\u001B[39;49m\u001B[43m]\u001B[49m\u001B[43m,\u001B[49m\u001B[43m \u001B[49m\u001B[43mx\u001B[49m\u001B[43m[\u001B[49m\u001B[38;5;124;43m'\u001B[39;49m\u001B[38;5;124;43mpredicate\u001B[39;49m\u001B[38;5;124;43m'\u001B[39;49m\u001B[43m]\u001B[49m\u001B[43m,\u001B[49m\u001B[43m \u001B[49m\u001B[43mx\u001B[49m\u001B[43m[\u001B[49m\u001B[38;5;124;43m'\u001B[39;49m\u001B[38;5;124;43mobject\u001B[39;49m\u001B[38;5;124;43m'\u001B[39;49m\u001B[43m]\u001B[49m\u001B[43m,\u001B[49m\n\u001B[1;32m     12\u001B[0m \u001B[43m                                                            \u001B[49m\u001B[43mx\u001B[49m\u001B[43m[\u001B[49m\u001B[38;5;124;43m'\u001B[39;49m\u001B[38;5;124;43mfrom\u001B[39;49m\u001B[38;5;124;43m'\u001B[39;49m\u001B[43m]\u001B[49m\u001B[43m,\u001B[49m\u001B[43m \u001B[49m\u001B[43mx\u001B[49m\u001B[43m[\u001B[49m\u001B[38;5;124;43m'\u001B[39;49m\u001B[38;5;124;43muntil\u001B[39;49m\u001B[38;5;124;43m'\u001B[39;49m\u001B[43m]\u001B[49m\u001B[43m,\u001B[49m\u001B[43m \u001B[49m\u001B[43mlemma\u001B[49m\u001B[38;5;241;43m=\u001B[39;49m\u001B[43mlemma\u001B[49m\u001B[43m,\u001B[49m\n\u001B[1;32m     13\u001B[0m \u001B[43m                                                            \u001B[49m\u001B[43mtime_indication\u001B[49m\u001B[38;5;241;43m=\u001B[39;49m\u001B[43mtime_indication\u001B[49m\u001B[43m)\u001B[49m\u001B[43m,\u001B[49m\u001B[43m \u001B[49m\u001B[43maxis\u001B[49m\u001B[38;5;241;43m=\u001B[39;49m\u001B[38;5;241;43m1\u001B[39;49m\u001B[43m)\u001B[49m\n\u001B[1;32m     14\u001B[0m questions[\u001B[38;5;124m'\u001B[39m\u001B[38;5;124mwhen\u001B[39m\u001B[38;5;124m'\u001B[39m] \u001B[38;5;241m=\u001B[39m df\u001B[38;5;241m.\u001B[39mapply(\u001B[38;5;28;01mlambda\u001B[39;00m x:\n\u001B[1;32m     15\u001B[0m                              qm\u001B[38;5;241m.\u001B[39mformulate_simple_when_question(x[\u001B[38;5;124m'\u001B[39m\u001B[38;5;124msubject\u001B[39m\u001B[38;5;124m'\u001B[39m], x[\u001B[38;5;124m'\u001B[39m\u001B[38;5;124mpredicate\u001B[39m\u001B[38;5;124m'\u001B[39m], x[\u001B[38;5;124m'\u001B[39m\u001B[38;5;124mobject\u001B[39m\u001B[38;5;124m'\u001B[39m],\n\u001B[1;32m     16\u001B[0m                                                                x[\u001B[38;5;124m'\u001B[39m\u001B[38;5;124mfrom\u001B[39m\u001B[38;5;124m'\u001B[39m], x[\u001B[38;5;124m'\u001B[39m\u001B[38;5;124muntil\u001B[39m\u001B[38;5;124m'\u001B[39m],\n\u001B[1;32m     17\u001B[0m                                                                time_indication\u001B[38;5;241m=\u001B[39mtime_indication, lemma\u001B[38;5;241m=\u001B[39mlemma),\n\u001B[1;32m     18\u001B[0m                              axis\u001B[38;5;241m=\u001B[39m\u001B[38;5;241m1\u001B[39m)\n\u001B[1;32m     20\u001B[0m questions[\u001B[38;5;124m'\u001B[39m\u001B[38;5;124mwhen_to_when\u001B[39m\u001B[38;5;124m'\u001B[39m] \u001B[38;5;241m=\u001B[39m df\u001B[38;5;241m.\u001B[39mapply(\u001B[38;5;28;01mlambda\u001B[39;00m x:\n\u001B[1;32m     21\u001B[0m                                      qm\u001B[38;5;241m.\u001B[39mformulate_when_to_when_question(x[\u001B[38;5;124m'\u001B[39m\u001B[38;5;124msubject\u001B[39m\u001B[38;5;124m'\u001B[39m], x[\u001B[38;5;124m'\u001B[39m\u001B[38;5;124mpredicate\u001B[39m\u001B[38;5;124m'\u001B[39m], x[\u001B[38;5;124m'\u001B[39m\u001B[38;5;124mobject\u001B[39m\u001B[38;5;124m'\u001B[39m],\n\u001B[1;32m     22\u001B[0m                                                                         x[\u001B[38;5;124m'\u001B[39m\u001B[38;5;124mfrom\u001B[39m\u001B[38;5;124m'\u001B[39m], x[\u001B[38;5;124m'\u001B[39m\u001B[38;5;124muntil\u001B[39m\u001B[38;5;124m'\u001B[39m],\n\u001B[1;32m     23\u001B[0m                                                                         time_indication\u001B[38;5;241m=\u001B[39mtime_indication,\n\u001B[1;32m     24\u001B[0m                                                                         lemma\u001B[38;5;241m=\u001B[39mlemma),\n\u001B[1;32m     25\u001B[0m                                      axis\u001B[38;5;241m=\u001B[39m\u001B[38;5;241m1\u001B[39m)\n",
      "File \u001B[0;32m~/miniforge3/envs/tf/lib/python3.8/site-packages/pandas/core/frame.py:8833\u001B[0m, in \u001B[0;36mDataFrame.apply\u001B[0;34m(self, func, axis, raw, result_type, args, **kwargs)\u001B[0m\n\u001B[1;32m   8822\u001B[0m \u001B[38;5;28;01mfrom\u001B[39;00m \u001B[38;5;21;01mpandas\u001B[39;00m\u001B[38;5;21;01m.\u001B[39;00m\u001B[38;5;21;01mcore\u001B[39;00m\u001B[38;5;21;01m.\u001B[39;00m\u001B[38;5;21;01mapply\u001B[39;00m \u001B[38;5;28;01mimport\u001B[39;00m frame_apply\n\u001B[1;32m   8824\u001B[0m op \u001B[38;5;241m=\u001B[39m frame_apply(\n\u001B[1;32m   8825\u001B[0m     \u001B[38;5;28mself\u001B[39m,\n\u001B[1;32m   8826\u001B[0m     func\u001B[38;5;241m=\u001B[39mfunc,\n\u001B[0;32m   (...)\u001B[0m\n\u001B[1;32m   8831\u001B[0m     kwargs\u001B[38;5;241m=\u001B[39mkwargs,\n\u001B[1;32m   8832\u001B[0m )\n\u001B[0;32m-> 8833\u001B[0m \u001B[38;5;28;01mreturn\u001B[39;00m \u001B[43mop\u001B[49m\u001B[38;5;241;43m.\u001B[39;49m\u001B[43mapply\u001B[49m\u001B[43m(\u001B[49m\u001B[43m)\u001B[49m\u001B[38;5;241m.\u001B[39m__finalize__(\u001B[38;5;28mself\u001B[39m, method\u001B[38;5;241m=\u001B[39m\u001B[38;5;124m\"\u001B[39m\u001B[38;5;124mapply\u001B[39m\u001B[38;5;124m\"\u001B[39m)\n",
      "File \u001B[0;32m~/miniforge3/envs/tf/lib/python3.8/site-packages/pandas/core/apply.py:727\u001B[0m, in \u001B[0;36mFrameApply.apply\u001B[0;34m(self)\u001B[0m\n\u001B[1;32m    724\u001B[0m \u001B[38;5;28;01melif\u001B[39;00m \u001B[38;5;28mself\u001B[39m\u001B[38;5;241m.\u001B[39mraw:\n\u001B[1;32m    725\u001B[0m     \u001B[38;5;28;01mreturn\u001B[39;00m \u001B[38;5;28mself\u001B[39m\u001B[38;5;241m.\u001B[39mapply_raw()\n\u001B[0;32m--> 727\u001B[0m \u001B[38;5;28;01mreturn\u001B[39;00m \u001B[38;5;28;43mself\u001B[39;49m\u001B[38;5;241;43m.\u001B[39;49m\u001B[43mapply_standard\u001B[49m\u001B[43m(\u001B[49m\u001B[43m)\u001B[49m\n",
      "File \u001B[0;32m~/miniforge3/envs/tf/lib/python3.8/site-packages/pandas/core/apply.py:851\u001B[0m, in \u001B[0;36mFrameApply.apply_standard\u001B[0;34m(self)\u001B[0m\n\u001B[1;32m    850\u001B[0m \u001B[38;5;28;01mdef\u001B[39;00m \u001B[38;5;21mapply_standard\u001B[39m(\u001B[38;5;28mself\u001B[39m):\n\u001B[0;32m--> 851\u001B[0m     results, res_index \u001B[38;5;241m=\u001B[39m \u001B[38;5;28;43mself\u001B[39;49m\u001B[38;5;241;43m.\u001B[39;49m\u001B[43mapply_series_generator\u001B[49m\u001B[43m(\u001B[49m\u001B[43m)\u001B[49m\n\u001B[1;32m    853\u001B[0m     \u001B[38;5;66;03m# wrap results\u001B[39;00m\n\u001B[1;32m    854\u001B[0m     \u001B[38;5;28;01mreturn\u001B[39;00m \u001B[38;5;28mself\u001B[39m\u001B[38;5;241m.\u001B[39mwrap_results(results, res_index)\n",
      "File \u001B[0;32m~/miniforge3/envs/tf/lib/python3.8/site-packages/pandas/core/apply.py:867\u001B[0m, in \u001B[0;36mFrameApply.apply_series_generator\u001B[0;34m(self)\u001B[0m\n\u001B[1;32m    864\u001B[0m \u001B[38;5;28;01mwith\u001B[39;00m option_context(\u001B[38;5;124m\"\u001B[39m\u001B[38;5;124mmode.chained_assignment\u001B[39m\u001B[38;5;124m\"\u001B[39m, \u001B[38;5;28;01mNone\u001B[39;00m):\n\u001B[1;32m    865\u001B[0m     \u001B[38;5;28;01mfor\u001B[39;00m i, v \u001B[38;5;129;01min\u001B[39;00m \u001B[38;5;28menumerate\u001B[39m(series_gen):\n\u001B[1;32m    866\u001B[0m         \u001B[38;5;66;03m# ignore SettingWithCopy here in case the user mutates\u001B[39;00m\n\u001B[0;32m--> 867\u001B[0m         results[i] \u001B[38;5;241m=\u001B[39m \u001B[38;5;28;43mself\u001B[39;49m\u001B[38;5;241;43m.\u001B[39;49m\u001B[43mf\u001B[49m\u001B[43m(\u001B[49m\u001B[43mv\u001B[49m\u001B[43m)\u001B[49m\n\u001B[1;32m    868\u001B[0m         \u001B[38;5;28;01mif\u001B[39;00m \u001B[38;5;28misinstance\u001B[39m(results[i], ABCSeries):\n\u001B[1;32m    869\u001B[0m             \u001B[38;5;66;03m# If we have a view on v, we need to make a copy because\u001B[39;00m\n\u001B[1;32m    870\u001B[0m             \u001B[38;5;66;03m#  series_generator will swap out the underlying data\u001B[39;00m\n\u001B[1;32m    871\u001B[0m             results[i] \u001B[38;5;241m=\u001B[39m results[i]\u001B[38;5;241m.\u001B[39mcopy(deep\u001B[38;5;241m=\u001B[39m\u001B[38;5;28;01mFalse\u001B[39;00m)\n",
      "Input \u001B[0;32mIn [75]\u001B[0m, in \u001B[0;36mgenerate_questions.<locals>.<lambda>\u001B[0;34m(x)\u001B[0m\n\u001B[1;32m      7\u001B[0m start_time \u001B[38;5;241m=\u001B[39m time\u001B[38;5;241m.\u001B[39mtime()\n\u001B[1;32m      9\u001B[0m questions \u001B[38;5;241m=\u001B[39m pd\u001B[38;5;241m.\u001B[39mDataFrame()\n\u001B[1;32m     10\u001B[0m questions[\u001B[38;5;124m'\u001B[39m\u001B[38;5;124myes_no\u001B[39m\u001B[38;5;124m'\u001B[39m] \u001B[38;5;241m=\u001B[39m df\u001B[38;5;241m.\u001B[39mapply(\u001B[38;5;28;01mlambda\u001B[39;00m x:\n\u001B[0;32m---> 11\u001B[0m                                \u001B[43mqm\u001B[49m\u001B[38;5;241;43m.\u001B[39;49m\u001B[43mformulate_yes_no_question\u001B[49m\u001B[43m(\u001B[49m\u001B[43mx\u001B[49m\u001B[43m[\u001B[49m\u001B[38;5;124;43m'\u001B[39;49m\u001B[38;5;124;43msubject\u001B[39;49m\u001B[38;5;124;43m'\u001B[39;49m\u001B[43m]\u001B[49m\u001B[43m,\u001B[49m\u001B[43m \u001B[49m\u001B[43mx\u001B[49m\u001B[43m[\u001B[49m\u001B[38;5;124;43m'\u001B[39;49m\u001B[38;5;124;43mpredicate\u001B[39;49m\u001B[38;5;124;43m'\u001B[39;49m\u001B[43m]\u001B[49m\u001B[43m,\u001B[49m\u001B[43m \u001B[49m\u001B[43mx\u001B[49m\u001B[43m[\u001B[49m\u001B[38;5;124;43m'\u001B[39;49m\u001B[38;5;124;43mobject\u001B[39;49m\u001B[38;5;124;43m'\u001B[39;49m\u001B[43m]\u001B[49m\u001B[43m,\u001B[49m\n\u001B[1;32m     12\u001B[0m \u001B[43m                                                            \u001B[49m\u001B[43mx\u001B[49m\u001B[43m[\u001B[49m\u001B[38;5;124;43m'\u001B[39;49m\u001B[38;5;124;43mfrom\u001B[39;49m\u001B[38;5;124;43m'\u001B[39;49m\u001B[43m]\u001B[49m\u001B[43m,\u001B[49m\u001B[43m \u001B[49m\u001B[43mx\u001B[49m\u001B[43m[\u001B[49m\u001B[38;5;124;43m'\u001B[39;49m\u001B[38;5;124;43muntil\u001B[39;49m\u001B[38;5;124;43m'\u001B[39;49m\u001B[43m]\u001B[49m\u001B[43m,\u001B[49m\u001B[43m \u001B[49m\u001B[43mlemma\u001B[49m\u001B[38;5;241;43m=\u001B[39;49m\u001B[43mlemma\u001B[49m\u001B[43m,\u001B[49m\n\u001B[1;32m     13\u001B[0m \u001B[43m                                                            \u001B[49m\u001B[43mtime_indication\u001B[49m\u001B[38;5;241;43m=\u001B[39;49m\u001B[43mtime_indication\u001B[49m\u001B[43m)\u001B[49m, axis\u001B[38;5;241m=\u001B[39m\u001B[38;5;241m1\u001B[39m)\n\u001B[1;32m     14\u001B[0m questions[\u001B[38;5;124m'\u001B[39m\u001B[38;5;124mwhen\u001B[39m\u001B[38;5;124m'\u001B[39m] \u001B[38;5;241m=\u001B[39m df\u001B[38;5;241m.\u001B[39mapply(\u001B[38;5;28;01mlambda\u001B[39;00m x:\n\u001B[1;32m     15\u001B[0m                              qm\u001B[38;5;241m.\u001B[39mformulate_simple_when_question(x[\u001B[38;5;124m'\u001B[39m\u001B[38;5;124msubject\u001B[39m\u001B[38;5;124m'\u001B[39m], x[\u001B[38;5;124m'\u001B[39m\u001B[38;5;124mpredicate\u001B[39m\u001B[38;5;124m'\u001B[39m], x[\u001B[38;5;124m'\u001B[39m\u001B[38;5;124mobject\u001B[39m\u001B[38;5;124m'\u001B[39m],\n\u001B[1;32m     16\u001B[0m                                                                x[\u001B[38;5;124m'\u001B[39m\u001B[38;5;124mfrom\u001B[39m\u001B[38;5;124m'\u001B[39m], x[\u001B[38;5;124m'\u001B[39m\u001B[38;5;124muntil\u001B[39m\u001B[38;5;124m'\u001B[39m],\n\u001B[1;32m     17\u001B[0m                                                                time_indication\u001B[38;5;241m=\u001B[39mtime_indication, lemma\u001B[38;5;241m=\u001B[39mlemma),\n\u001B[1;32m     18\u001B[0m                              axis\u001B[38;5;241m=\u001B[39m\u001B[38;5;241m1\u001B[39m)\n\u001B[1;32m     20\u001B[0m questions[\u001B[38;5;124m'\u001B[39m\u001B[38;5;124mwhen_to_when\u001B[39m\u001B[38;5;124m'\u001B[39m] \u001B[38;5;241m=\u001B[39m df\u001B[38;5;241m.\u001B[39mapply(\u001B[38;5;28;01mlambda\u001B[39;00m x:\n\u001B[1;32m     21\u001B[0m                                      qm\u001B[38;5;241m.\u001B[39mformulate_when_to_when_question(x[\u001B[38;5;124m'\u001B[39m\u001B[38;5;124msubject\u001B[39m\u001B[38;5;124m'\u001B[39m], x[\u001B[38;5;124m'\u001B[39m\u001B[38;5;124mpredicate\u001B[39m\u001B[38;5;124m'\u001B[39m], x[\u001B[38;5;124m'\u001B[39m\u001B[38;5;124mobject\u001B[39m\u001B[38;5;124m'\u001B[39m],\n\u001B[1;32m     22\u001B[0m                                                                         x[\u001B[38;5;124m'\u001B[39m\u001B[38;5;124mfrom\u001B[39m\u001B[38;5;124m'\u001B[39m], x[\u001B[38;5;124m'\u001B[39m\u001B[38;5;124muntil\u001B[39m\u001B[38;5;124m'\u001B[39m],\n\u001B[1;32m     23\u001B[0m                                                                         time_indication\u001B[38;5;241m=\u001B[39mtime_indication,\n\u001B[1;32m     24\u001B[0m                                                                         lemma\u001B[38;5;241m=\u001B[39mlemma),\n\u001B[1;32m     25\u001B[0m                                      axis\u001B[38;5;241m=\u001B[39m\u001B[38;5;241m1\u001B[39m)\n",
      "File \u001B[0;32m~/Documents/GitHub/UU/thesis/tkge-nlp/TKGQuestionMaster/Generator.py:63\u001B[0m, in \u001B[0;36mformulate_yes_no_question\u001B[0;34m(subject, predicate, object, time, time_until, is_given_time_correct, predicate_question_dict, count_of_falsy_year_question, produce_all_interval_questions, time_indication, lemma)\u001B[0m\n",
      "File \u001B[0;32m~/Documents/GitHub/UU/thesis/tkge-nlp/TKGQuestionMaster/Generator.py:488\u001B[0m, in \u001B[0;36mlemma_predicate\u001B[0;34m(predicate, lemma)\u001B[0m\n",
      "File \u001B[0;32m~/miniforge3/envs/tf/lib/python3.8/site-packages/spacy/language.py:1017\u001B[0m, in \u001B[0;36mLanguage.__call__\u001B[0;34m(self, text, disable, component_cfg)\u001B[0m\n\u001B[1;32m   1015\u001B[0m     error_handler \u001B[38;5;241m=\u001B[39m proc\u001B[38;5;241m.\u001B[39mget_error_handler()\n\u001B[1;32m   1016\u001B[0m \u001B[38;5;28;01mtry\u001B[39;00m:\n\u001B[0;32m-> 1017\u001B[0m     doc \u001B[38;5;241m=\u001B[39m \u001B[43mproc\u001B[49m\u001B[43m(\u001B[49m\u001B[43mdoc\u001B[49m\u001B[43m,\u001B[49m\u001B[43m \u001B[49m\u001B[38;5;241;43m*\u001B[39;49m\u001B[38;5;241;43m*\u001B[39;49m\u001B[43mcomponent_cfg\u001B[49m\u001B[38;5;241;43m.\u001B[39;49m\u001B[43mget\u001B[49m\u001B[43m(\u001B[49m\u001B[43mname\u001B[49m\u001B[43m,\u001B[49m\u001B[43m \u001B[49m\u001B[43m{\u001B[49m\u001B[43m}\u001B[49m\u001B[43m)\u001B[49m\u001B[43m)\u001B[49m  \u001B[38;5;66;03m# type: ignore[call-arg]\u001B[39;00m\n\u001B[1;32m   1018\u001B[0m \u001B[38;5;28;01mexcept\u001B[39;00m \u001B[38;5;167;01mKeyError\u001B[39;00m \u001B[38;5;28;01mas\u001B[39;00m e:\n\u001B[1;32m   1019\u001B[0m     \u001B[38;5;66;03m# This typically happens if a component is not initialized\u001B[39;00m\n\u001B[1;32m   1020\u001B[0m     \u001B[38;5;28;01mraise\u001B[39;00m \u001B[38;5;167;01mValueError\u001B[39;00m(Errors\u001B[38;5;241m.\u001B[39mE109\u001B[38;5;241m.\u001B[39mformat(name\u001B[38;5;241m=\u001B[39mname)) \u001B[38;5;28;01mfrom\u001B[39;00m \u001B[38;5;21;01me\u001B[39;00m\n",
      "File \u001B[0;32m~/miniforge3/envs/tf/lib/python3.8/site-packages/spacy/pipeline/trainable_pipe.pyx:52\u001B[0m, in \u001B[0;36mspacy.pipeline.trainable_pipe.TrainablePipe.__call__\u001B[0;34m()\u001B[0m\n",
      "File \u001B[0;32m~/miniforge3/envs/tf/lib/python3.8/site-packages/spacy/pipeline/tok2vec.py:121\u001B[0m, in \u001B[0;36mTok2Vec.predict\u001B[0;34m(self, docs)\u001B[0m\n\u001B[1;32m    112\u001B[0m \u001B[38;5;28;01mdef\u001B[39;00m \u001B[38;5;21mpredict\u001B[39m(\u001B[38;5;28mself\u001B[39m, docs: Iterable[Doc]):\n\u001B[1;32m    113\u001B[0m     \u001B[38;5;124;03m\"\"\"Apply the pipeline's model to a batch of docs, without modifying them.\u001B[39;00m\n\u001B[1;32m    114\u001B[0m \u001B[38;5;124;03m    Returns a single tensor for a batch of documents.\u001B[39;00m\n\u001B[1;32m    115\u001B[0m \n\u001B[0;32m   (...)\u001B[0m\n\u001B[1;32m    119\u001B[0m \u001B[38;5;124;03m    DOCS: https://spacy.io/api/tok2vec#predict\u001B[39;00m\n\u001B[1;32m    120\u001B[0m \u001B[38;5;124;03m    \"\"\"\u001B[39;00m\n\u001B[0;32m--> 121\u001B[0m     tokvecs \u001B[38;5;241m=\u001B[39m \u001B[38;5;28;43mself\u001B[39;49m\u001B[38;5;241;43m.\u001B[39;49m\u001B[43mmodel\u001B[49m\u001B[38;5;241;43m.\u001B[39;49m\u001B[43mpredict\u001B[49m\u001B[43m(\u001B[49m\u001B[43mdocs\u001B[49m\u001B[43m)\u001B[49m\n\u001B[1;32m    122\u001B[0m     batch_id \u001B[38;5;241m=\u001B[39m Tok2VecListener\u001B[38;5;241m.\u001B[39mget_batch_id(docs)\n\u001B[1;32m    123\u001B[0m     \u001B[38;5;28;01mfor\u001B[39;00m listener \u001B[38;5;129;01min\u001B[39;00m \u001B[38;5;28mself\u001B[39m\u001B[38;5;241m.\u001B[39mlisteners:\n",
      "File \u001B[0;32m~/miniforge3/envs/tf/lib/python3.8/site-packages/thinc/model.py:315\u001B[0m, in \u001B[0;36mModel.predict\u001B[0;34m(self, X)\u001B[0m\n\u001B[1;32m    311\u001B[0m \u001B[38;5;28;01mdef\u001B[39;00m \u001B[38;5;21mpredict\u001B[39m(\u001B[38;5;28mself\u001B[39m, X: InT) \u001B[38;5;241m-\u001B[39m\u001B[38;5;241m>\u001B[39m OutT:\n\u001B[1;32m    312\u001B[0m     \u001B[38;5;124;03m\"\"\"Call the model's `forward` function with `is_train=False`, and return\u001B[39;00m\n\u001B[1;32m    313\u001B[0m \u001B[38;5;124;03m    only the output, instead of the `(output, callback)` tuple.\u001B[39;00m\n\u001B[1;32m    314\u001B[0m \u001B[38;5;124;03m    \"\"\"\u001B[39;00m\n\u001B[0;32m--> 315\u001B[0m     \u001B[38;5;28;01mreturn\u001B[39;00m \u001B[38;5;28;43mself\u001B[39;49m\u001B[38;5;241;43m.\u001B[39;49m\u001B[43m_func\u001B[49m\u001B[43m(\u001B[49m\u001B[38;5;28;43mself\u001B[39;49m\u001B[43m,\u001B[49m\u001B[43m \u001B[49m\u001B[43mX\u001B[49m\u001B[43m,\u001B[49m\u001B[43m \u001B[49m\u001B[43mis_train\u001B[49m\u001B[38;5;241;43m=\u001B[39;49m\u001B[38;5;28;43;01mFalse\u001B[39;49;00m\u001B[43m)\u001B[49m[\u001B[38;5;241m0\u001B[39m]\n",
      "File \u001B[0;32m~/miniforge3/envs/tf/lib/python3.8/site-packages/thinc/layers/chain.py:54\u001B[0m, in \u001B[0;36mforward\u001B[0;34m(model, X, is_train)\u001B[0m\n\u001B[1;32m     52\u001B[0m callbacks \u001B[38;5;241m=\u001B[39m []\n\u001B[1;32m     53\u001B[0m \u001B[38;5;28;01mfor\u001B[39;00m layer \u001B[38;5;129;01min\u001B[39;00m model\u001B[38;5;241m.\u001B[39mlayers:\n\u001B[0;32m---> 54\u001B[0m     Y, inc_layer_grad \u001B[38;5;241m=\u001B[39m \u001B[43mlayer\u001B[49m\u001B[43m(\u001B[49m\u001B[43mX\u001B[49m\u001B[43m,\u001B[49m\u001B[43m \u001B[49m\u001B[43mis_train\u001B[49m\u001B[38;5;241;43m=\u001B[39;49m\u001B[43mis_train\u001B[49m\u001B[43m)\u001B[49m\n\u001B[1;32m     55\u001B[0m     callbacks\u001B[38;5;241m.\u001B[39mappend(inc_layer_grad)\n\u001B[1;32m     56\u001B[0m     X \u001B[38;5;241m=\u001B[39m Y\n",
      "File \u001B[0;32m~/miniforge3/envs/tf/lib/python3.8/site-packages/thinc/model.py:291\u001B[0m, in \u001B[0;36mModel.__call__\u001B[0;34m(self, X, is_train)\u001B[0m\n\u001B[1;32m    288\u001B[0m \u001B[38;5;28;01mdef\u001B[39;00m \u001B[38;5;21m__call__\u001B[39m(\u001B[38;5;28mself\u001B[39m, X: InT, is_train: \u001B[38;5;28mbool\u001B[39m) \u001B[38;5;241m-\u001B[39m\u001B[38;5;241m>\u001B[39m Tuple[OutT, Callable]:\n\u001B[1;32m    289\u001B[0m     \u001B[38;5;124;03m\"\"\"Call the model's `forward` function, returning the output and a\u001B[39;00m\n\u001B[1;32m    290\u001B[0m \u001B[38;5;124;03m    callback to compute the gradients via backpropagation.\"\"\"\u001B[39;00m\n\u001B[0;32m--> 291\u001B[0m     \u001B[38;5;28;01mreturn\u001B[39;00m \u001B[38;5;28;43mself\u001B[39;49m\u001B[38;5;241;43m.\u001B[39;49m\u001B[43m_func\u001B[49m\u001B[43m(\u001B[49m\u001B[38;5;28;43mself\u001B[39;49m\u001B[43m,\u001B[49m\u001B[43m \u001B[49m\u001B[43mX\u001B[49m\u001B[43m,\u001B[49m\u001B[43m \u001B[49m\u001B[43mis_train\u001B[49m\u001B[38;5;241;43m=\u001B[39;49m\u001B[43mis_train\u001B[49m\u001B[43m)\u001B[49m\n",
      "File \u001B[0;32m~/miniforge3/envs/tf/lib/python3.8/site-packages/thinc/layers/with_array.py:40\u001B[0m, in \u001B[0;36mforward\u001B[0;34m(model, Xseq, is_train)\u001B[0m\n\u001B[1;32m     38\u001B[0m     \u001B[38;5;28;01mreturn\u001B[39;00m model\u001B[38;5;241m.\u001B[39mlayers[\u001B[38;5;241m0\u001B[39m](Xseq, is_train)\n\u001B[1;32m     39\u001B[0m \u001B[38;5;28;01melse\u001B[39;00m:\n\u001B[0;32m---> 40\u001B[0m     \u001B[38;5;28;01mreturn\u001B[39;00m \u001B[43m_list_forward\u001B[49m\u001B[43m(\u001B[49m\u001B[43mcast\u001B[49m\u001B[43m(\u001B[49m\u001B[43mModel\u001B[49m\u001B[43m[\u001B[49m\u001B[43mList2d\u001B[49m\u001B[43m,\u001B[49m\u001B[43m \u001B[49m\u001B[43mList2d\u001B[49m\u001B[43m]\u001B[49m\u001B[43m,\u001B[49m\u001B[43m \u001B[49m\u001B[43mmodel\u001B[49m\u001B[43m)\u001B[49m\u001B[43m,\u001B[49m\u001B[43m \u001B[49m\u001B[43mXseq\u001B[49m\u001B[43m,\u001B[49m\u001B[43m \u001B[49m\u001B[43mis_train\u001B[49m\u001B[43m)\u001B[49m\n",
      "File \u001B[0;32m~/miniforge3/envs/tf/lib/python3.8/site-packages/thinc/layers/with_array.py:76\u001B[0m, in \u001B[0;36m_list_forward\u001B[0;34m(model, Xs, is_train)\u001B[0m\n\u001B[1;32m     74\u001B[0m lengths \u001B[38;5;241m=\u001B[39m layer\u001B[38;5;241m.\u001B[39mops\u001B[38;5;241m.\u001B[39masarray1i([\u001B[38;5;28mlen\u001B[39m(seq) \u001B[38;5;28;01mfor\u001B[39;00m seq \u001B[38;5;129;01min\u001B[39;00m Xs])\n\u001B[1;32m     75\u001B[0m Xf \u001B[38;5;241m=\u001B[39m layer\u001B[38;5;241m.\u001B[39mops\u001B[38;5;241m.\u001B[39mflatten(Xs, pad\u001B[38;5;241m=\u001B[39mpad)  \u001B[38;5;66;03m# type: ignore\u001B[39;00m\n\u001B[0;32m---> 76\u001B[0m Yf, get_dXf \u001B[38;5;241m=\u001B[39m \u001B[43mlayer\u001B[49m\u001B[43m(\u001B[49m\u001B[43mXf\u001B[49m\u001B[43m,\u001B[49m\u001B[43m \u001B[49m\u001B[43mis_train\u001B[49m\u001B[43m)\u001B[49m\n\u001B[1;32m     78\u001B[0m \u001B[38;5;28;01mdef\u001B[39;00m \u001B[38;5;21mbackprop\u001B[39m(dYs: List2d) \u001B[38;5;241m-\u001B[39m\u001B[38;5;241m>\u001B[39m List2d:\n\u001B[1;32m     79\u001B[0m     dYf \u001B[38;5;241m=\u001B[39m layer\u001B[38;5;241m.\u001B[39mops\u001B[38;5;241m.\u001B[39mflatten(dYs, pad\u001B[38;5;241m=\u001B[39mpad)  \u001B[38;5;66;03m# type: ignore\u001B[39;00m\n",
      "File \u001B[0;32m~/miniforge3/envs/tf/lib/python3.8/site-packages/thinc/model.py:291\u001B[0m, in \u001B[0;36mModel.__call__\u001B[0;34m(self, X, is_train)\u001B[0m\n\u001B[1;32m    288\u001B[0m \u001B[38;5;28;01mdef\u001B[39;00m \u001B[38;5;21m__call__\u001B[39m(\u001B[38;5;28mself\u001B[39m, X: InT, is_train: \u001B[38;5;28mbool\u001B[39m) \u001B[38;5;241m-\u001B[39m\u001B[38;5;241m>\u001B[39m Tuple[OutT, Callable]:\n\u001B[1;32m    289\u001B[0m     \u001B[38;5;124;03m\"\"\"Call the model's `forward` function, returning the output and a\u001B[39;00m\n\u001B[1;32m    290\u001B[0m \u001B[38;5;124;03m    callback to compute the gradients via backpropagation.\"\"\"\u001B[39;00m\n\u001B[0;32m--> 291\u001B[0m     \u001B[38;5;28;01mreturn\u001B[39;00m \u001B[38;5;28;43mself\u001B[39;49m\u001B[38;5;241;43m.\u001B[39;49m\u001B[43m_func\u001B[49m\u001B[43m(\u001B[49m\u001B[38;5;28;43mself\u001B[39;49m\u001B[43m,\u001B[49m\u001B[43m \u001B[49m\u001B[43mX\u001B[49m\u001B[43m,\u001B[49m\u001B[43m \u001B[49m\u001B[43mis_train\u001B[49m\u001B[38;5;241;43m=\u001B[39;49m\u001B[43mis_train\u001B[49m\u001B[43m)\u001B[49m\n",
      "File \u001B[0;32m~/miniforge3/envs/tf/lib/python3.8/site-packages/thinc/layers/chain.py:54\u001B[0m, in \u001B[0;36mforward\u001B[0;34m(model, X, is_train)\u001B[0m\n\u001B[1;32m     52\u001B[0m callbacks \u001B[38;5;241m=\u001B[39m []\n\u001B[1;32m     53\u001B[0m \u001B[38;5;28;01mfor\u001B[39;00m layer \u001B[38;5;129;01min\u001B[39;00m model\u001B[38;5;241m.\u001B[39mlayers:\n\u001B[0;32m---> 54\u001B[0m     Y, inc_layer_grad \u001B[38;5;241m=\u001B[39m \u001B[43mlayer\u001B[49m\u001B[43m(\u001B[49m\u001B[43mX\u001B[49m\u001B[43m,\u001B[49m\u001B[43m \u001B[49m\u001B[43mis_train\u001B[49m\u001B[38;5;241;43m=\u001B[39;49m\u001B[43mis_train\u001B[49m\u001B[43m)\u001B[49m\n\u001B[1;32m     55\u001B[0m     callbacks\u001B[38;5;241m.\u001B[39mappend(inc_layer_grad)\n\u001B[1;32m     56\u001B[0m     X \u001B[38;5;241m=\u001B[39m Y\n",
      "File \u001B[0;32m~/miniforge3/envs/tf/lib/python3.8/site-packages/thinc/model.py:291\u001B[0m, in \u001B[0;36mModel.__call__\u001B[0;34m(self, X, is_train)\u001B[0m\n\u001B[1;32m    288\u001B[0m \u001B[38;5;28;01mdef\u001B[39;00m \u001B[38;5;21m__call__\u001B[39m(\u001B[38;5;28mself\u001B[39m, X: InT, is_train: \u001B[38;5;28mbool\u001B[39m) \u001B[38;5;241m-\u001B[39m\u001B[38;5;241m>\u001B[39m Tuple[OutT, Callable]:\n\u001B[1;32m    289\u001B[0m     \u001B[38;5;124;03m\"\"\"Call the model's `forward` function, returning the output and a\u001B[39;00m\n\u001B[1;32m    290\u001B[0m \u001B[38;5;124;03m    callback to compute the gradients via backpropagation.\"\"\"\u001B[39;00m\n\u001B[0;32m--> 291\u001B[0m     \u001B[38;5;28;01mreturn\u001B[39;00m \u001B[38;5;28;43mself\u001B[39;49m\u001B[38;5;241;43m.\u001B[39;49m\u001B[43m_func\u001B[49m\u001B[43m(\u001B[49m\u001B[38;5;28;43mself\u001B[39;49m\u001B[43m,\u001B[49m\u001B[43m \u001B[49m\u001B[43mX\u001B[49m\u001B[43m,\u001B[49m\u001B[43m \u001B[49m\u001B[43mis_train\u001B[49m\u001B[38;5;241;43m=\u001B[39;49m\u001B[43mis_train\u001B[49m\u001B[43m)\u001B[49m\n",
      "File \u001B[0;32m~/miniforge3/envs/tf/lib/python3.8/site-packages/thinc/layers/residual.py:40\u001B[0m, in \u001B[0;36mforward\u001B[0;34m(model, X, is_train)\u001B[0m\n\u001B[1;32m     37\u001B[0m     \u001B[38;5;28;01melse\u001B[39;00m:\n\u001B[1;32m     38\u001B[0m         \u001B[38;5;28;01mreturn\u001B[39;00m d_output \u001B[38;5;241m+\u001B[39m dX\n\u001B[0;32m---> 40\u001B[0m Y, backprop_layer \u001B[38;5;241m=\u001B[39m \u001B[43mmodel\u001B[49m\u001B[38;5;241;43m.\u001B[39;49m\u001B[43mlayers\u001B[49m\u001B[43m[\u001B[49m\u001B[38;5;241;43m0\u001B[39;49m\u001B[43m]\u001B[49m\u001B[43m(\u001B[49m\u001B[43mX\u001B[49m\u001B[43m,\u001B[49m\u001B[43m \u001B[49m\u001B[43mis_train\u001B[49m\u001B[43m)\u001B[49m\n\u001B[1;32m     41\u001B[0m \u001B[38;5;28;01mif\u001B[39;00m \u001B[38;5;28misinstance\u001B[39m(X, \u001B[38;5;28mlist\u001B[39m):\n\u001B[1;32m     42\u001B[0m     \u001B[38;5;28;01mreturn\u001B[39;00m [X[i] \u001B[38;5;241m+\u001B[39m Y[i] \u001B[38;5;28;01mfor\u001B[39;00m i \u001B[38;5;129;01min\u001B[39;00m \u001B[38;5;28mrange\u001B[39m(\u001B[38;5;28mlen\u001B[39m(X))], backprop\n",
      "File \u001B[0;32m~/miniforge3/envs/tf/lib/python3.8/site-packages/thinc/model.py:291\u001B[0m, in \u001B[0;36mModel.__call__\u001B[0;34m(self, X, is_train)\u001B[0m\n\u001B[1;32m    288\u001B[0m \u001B[38;5;28;01mdef\u001B[39;00m \u001B[38;5;21m__call__\u001B[39m(\u001B[38;5;28mself\u001B[39m, X: InT, is_train: \u001B[38;5;28mbool\u001B[39m) \u001B[38;5;241m-\u001B[39m\u001B[38;5;241m>\u001B[39m Tuple[OutT, Callable]:\n\u001B[1;32m    289\u001B[0m     \u001B[38;5;124;03m\"\"\"Call the model's `forward` function, returning the output and a\u001B[39;00m\n\u001B[1;32m    290\u001B[0m \u001B[38;5;124;03m    callback to compute the gradients via backpropagation.\"\"\"\u001B[39;00m\n\u001B[0;32m--> 291\u001B[0m     \u001B[38;5;28;01mreturn\u001B[39;00m \u001B[38;5;28;43mself\u001B[39;49m\u001B[38;5;241;43m.\u001B[39;49m\u001B[43m_func\u001B[49m\u001B[43m(\u001B[49m\u001B[38;5;28;43mself\u001B[39;49m\u001B[43m,\u001B[49m\u001B[43m \u001B[49m\u001B[43mX\u001B[49m\u001B[43m,\u001B[49m\u001B[43m \u001B[49m\u001B[43mis_train\u001B[49m\u001B[38;5;241;43m=\u001B[39;49m\u001B[43mis_train\u001B[49m\u001B[43m)\u001B[49m\n",
      "File \u001B[0;32m~/miniforge3/envs/tf/lib/python3.8/site-packages/thinc/layers/chain.py:54\u001B[0m, in \u001B[0;36mforward\u001B[0;34m(model, X, is_train)\u001B[0m\n\u001B[1;32m     52\u001B[0m callbacks \u001B[38;5;241m=\u001B[39m []\n\u001B[1;32m     53\u001B[0m \u001B[38;5;28;01mfor\u001B[39;00m layer \u001B[38;5;129;01min\u001B[39;00m model\u001B[38;5;241m.\u001B[39mlayers:\n\u001B[0;32m---> 54\u001B[0m     Y, inc_layer_grad \u001B[38;5;241m=\u001B[39m \u001B[43mlayer\u001B[49m\u001B[43m(\u001B[49m\u001B[43mX\u001B[49m\u001B[43m,\u001B[49m\u001B[43m \u001B[49m\u001B[43mis_train\u001B[49m\u001B[38;5;241;43m=\u001B[39;49m\u001B[43mis_train\u001B[49m\u001B[43m)\u001B[49m\n\u001B[1;32m     55\u001B[0m     callbacks\u001B[38;5;241m.\u001B[39mappend(inc_layer_grad)\n\u001B[1;32m     56\u001B[0m     X \u001B[38;5;241m=\u001B[39m Y\n",
      "File \u001B[0;32m~/miniforge3/envs/tf/lib/python3.8/site-packages/thinc/model.py:291\u001B[0m, in \u001B[0;36mModel.__call__\u001B[0;34m(self, X, is_train)\u001B[0m\n\u001B[1;32m    288\u001B[0m \u001B[38;5;28;01mdef\u001B[39;00m \u001B[38;5;21m__call__\u001B[39m(\u001B[38;5;28mself\u001B[39m, X: InT, is_train: \u001B[38;5;28mbool\u001B[39m) \u001B[38;5;241m-\u001B[39m\u001B[38;5;241m>\u001B[39m Tuple[OutT, Callable]:\n\u001B[1;32m    289\u001B[0m     \u001B[38;5;124;03m\"\"\"Call the model's `forward` function, returning the output and a\u001B[39;00m\n\u001B[1;32m    290\u001B[0m \u001B[38;5;124;03m    callback to compute the gradients via backpropagation.\"\"\"\u001B[39;00m\n\u001B[0;32m--> 291\u001B[0m     \u001B[38;5;28;01mreturn\u001B[39;00m \u001B[38;5;28;43mself\u001B[39;49m\u001B[38;5;241;43m.\u001B[39;49m\u001B[43m_func\u001B[49m\u001B[43m(\u001B[49m\u001B[38;5;28;43mself\u001B[39;49m\u001B[43m,\u001B[49m\u001B[43m \u001B[49m\u001B[43mX\u001B[49m\u001B[43m,\u001B[49m\u001B[43m \u001B[49m\u001B[43mis_train\u001B[49m\u001B[38;5;241;43m=\u001B[39;49m\u001B[43mis_train\u001B[49m\u001B[43m)\u001B[49m\n",
      "File \u001B[0;32m~/miniforge3/envs/tf/lib/python3.8/site-packages/thinc/layers/chain.py:54\u001B[0m, in \u001B[0;36mforward\u001B[0;34m(model, X, is_train)\u001B[0m\n\u001B[1;32m     52\u001B[0m callbacks \u001B[38;5;241m=\u001B[39m []\n\u001B[1;32m     53\u001B[0m \u001B[38;5;28;01mfor\u001B[39;00m layer \u001B[38;5;129;01min\u001B[39;00m model\u001B[38;5;241m.\u001B[39mlayers:\n\u001B[0;32m---> 54\u001B[0m     Y, inc_layer_grad \u001B[38;5;241m=\u001B[39m \u001B[43mlayer\u001B[49m\u001B[43m(\u001B[49m\u001B[43mX\u001B[49m\u001B[43m,\u001B[49m\u001B[43m \u001B[49m\u001B[43mis_train\u001B[49m\u001B[38;5;241;43m=\u001B[39;49m\u001B[43mis_train\u001B[49m\u001B[43m)\u001B[49m\n\u001B[1;32m     55\u001B[0m     callbacks\u001B[38;5;241m.\u001B[39mappend(inc_layer_grad)\n\u001B[1;32m     56\u001B[0m     X \u001B[38;5;241m=\u001B[39m Y\n",
      "    \u001B[0;31m[... skipping similar frames: Model.__call__ at line 291 (1 times)]\u001B[0m\n",
      "File \u001B[0;32m~/miniforge3/envs/tf/lib/python3.8/site-packages/thinc/layers/chain.py:54\u001B[0m, in \u001B[0;36mforward\u001B[0;34m(model, X, is_train)\u001B[0m\n\u001B[1;32m     52\u001B[0m callbacks \u001B[38;5;241m=\u001B[39m []\n\u001B[1;32m     53\u001B[0m \u001B[38;5;28;01mfor\u001B[39;00m layer \u001B[38;5;129;01min\u001B[39;00m model\u001B[38;5;241m.\u001B[39mlayers:\n\u001B[0;32m---> 54\u001B[0m     Y, inc_layer_grad \u001B[38;5;241m=\u001B[39m \u001B[43mlayer\u001B[49m\u001B[43m(\u001B[49m\u001B[43mX\u001B[49m\u001B[43m,\u001B[49m\u001B[43m \u001B[49m\u001B[43mis_train\u001B[49m\u001B[38;5;241;43m=\u001B[39;49m\u001B[43mis_train\u001B[49m\u001B[43m)\u001B[49m\n\u001B[1;32m     55\u001B[0m     callbacks\u001B[38;5;241m.\u001B[39mappend(inc_layer_grad)\n\u001B[1;32m     56\u001B[0m     X \u001B[38;5;241m=\u001B[39m Y\n",
      "File \u001B[0;32m~/miniforge3/envs/tf/lib/python3.8/site-packages/thinc/model.py:291\u001B[0m, in \u001B[0;36mModel.__call__\u001B[0;34m(self, X, is_train)\u001B[0m\n\u001B[1;32m    288\u001B[0m \u001B[38;5;28;01mdef\u001B[39;00m \u001B[38;5;21m__call__\u001B[39m(\u001B[38;5;28mself\u001B[39m, X: InT, is_train: \u001B[38;5;28mbool\u001B[39m) \u001B[38;5;241m-\u001B[39m\u001B[38;5;241m>\u001B[39m Tuple[OutT, Callable]:\n\u001B[1;32m    289\u001B[0m     \u001B[38;5;124;03m\"\"\"Call the model's `forward` function, returning the output and a\u001B[39;00m\n\u001B[1;32m    290\u001B[0m \u001B[38;5;124;03m    callback to compute the gradients via backpropagation.\"\"\"\u001B[39;00m\n\u001B[0;32m--> 291\u001B[0m     \u001B[38;5;28;01mreturn\u001B[39;00m \u001B[38;5;28;43mself\u001B[39;49m\u001B[38;5;241;43m.\u001B[39;49m\u001B[43m_func\u001B[49m\u001B[43m(\u001B[49m\u001B[38;5;28;43mself\u001B[39;49m\u001B[43m,\u001B[49m\u001B[43m \u001B[49m\u001B[43mX\u001B[49m\u001B[43m,\u001B[49m\u001B[43m \u001B[49m\u001B[43mis_train\u001B[49m\u001B[38;5;241;43m=\u001B[39;49m\u001B[43mis_train\u001B[49m\u001B[43m)\u001B[49m\n",
      "File \u001B[0;32m~/miniforge3/envs/tf/lib/python3.8/site-packages/thinc/layers/maxout.py:49\u001B[0m, in \u001B[0;36mforward\u001B[0;34m(model, X, is_train)\u001B[0m\n\u001B[1;32m     47\u001B[0m W \u001B[38;5;241m=\u001B[39m model\u001B[38;5;241m.\u001B[39mget_param(\u001B[38;5;124m\"\u001B[39m\u001B[38;5;124mW\u001B[39m\u001B[38;5;124m\"\u001B[39m)\n\u001B[1;32m     48\u001B[0m W \u001B[38;5;241m=\u001B[39m model\u001B[38;5;241m.\u001B[39mops\u001B[38;5;241m.\u001B[39mreshape2f(W, nO \u001B[38;5;241m*\u001B[39m nP, nI)\n\u001B[0;32m---> 49\u001B[0m Y \u001B[38;5;241m=\u001B[39m \u001B[43mmodel\u001B[49m\u001B[38;5;241;43m.\u001B[39;49m\u001B[43mops\u001B[49m\u001B[38;5;241;43m.\u001B[39;49m\u001B[43mgemm\u001B[49m\u001B[43m(\u001B[49m\u001B[43mX\u001B[49m\u001B[43m,\u001B[49m\u001B[43m \u001B[49m\u001B[43mW\u001B[49m\u001B[43m,\u001B[49m\u001B[43m \u001B[49m\u001B[43mtrans2\u001B[49m\u001B[38;5;241;43m=\u001B[39;49m\u001B[38;5;28;43;01mTrue\u001B[39;49;00m\u001B[43m)\u001B[49m\n\u001B[1;32m     50\u001B[0m Y \u001B[38;5;241m+\u001B[39m\u001B[38;5;241m=\u001B[39m model\u001B[38;5;241m.\u001B[39mops\u001B[38;5;241m.\u001B[39mreshape1f(b, nO \u001B[38;5;241m*\u001B[39m nP)\n\u001B[1;32m     51\u001B[0m Z \u001B[38;5;241m=\u001B[39m model\u001B[38;5;241m.\u001B[39mops\u001B[38;5;241m.\u001B[39mreshape3f(Y, Y\u001B[38;5;241m.\u001B[39mshape[\u001B[38;5;241m0\u001B[39m], nO, nP)\n",
      "\u001B[0;31mKeyboardInterrupt\u001B[0m: "
     ]
    }
   ],
   "source": [
    "# V1 not lemmatized without time indication\n",
    "v1_questions = generate_questions(df, lemma=False, time_indication=False)\n",
    "# V2 lemmatized without time indication\n",
    "v2_questions = generate_questions(df, lemma=True, time_indication=False)\n",
    "# V3 not lemmatized with time indication\n",
    "v3_questions = generate_questions(df, lemma=False, time_indication=True)\n",
    "# V4 lemmatized and time indication\n",
    "v4_questions = generate_questions(df, lemma=True, time_indication=True)\n",
    "\n",
    "questions = [v1_questions, v2_questions, v3_questions, v4_questions]"
   ],
   "metadata": {
    "collapsed": false,
    "pycharm": {
     "name": "#%%\n"
    }
   }
  },
  {
   "cell_type": "code",
   "execution_count": 78,
   "outputs": [
    {
     "data": {
      "text/plain": "                                                  yes_no  \\\n0      [(Was Beverly Adams born in Edmonton in 1945?,...   \n1      [(Was Rae Dawn Chong born in Edmonton in 1961?...   \n2      [(Was Daniel Fernandes (footballer) born in Ed...   \n3      [(Was Mike Comrie born in Edmonton in 1980?, y...   \n4      [(Was Jordan Peterson born in Edmonton in 1962...   \n...                                                  ...   \n16752  [(Was Benjamin Butler affiliated to Greenback ...   \n16753  [(Was Charles E. Cunningham affiliated to Gree...   \n16754  [(Was John Quincy Adams affiliated to Anti-Mas...   \n16755  [(Was Thaddeus Stevens affiliated to Anti-Maso...   \n16756  [(Was Joseph Ritner affiliated to Anti-Masonic...   \n\n                                                    when  \\\n0      [(When was Beverly Adams born in Edmonton?, [1...   \n1      [(When was Rae Dawn Chong born in Edmonton?, [...   \n2      [(When was Daniel Fernandes (footballer) born ...   \n3      [(When was Mike Comrie born in Edmonton?, [198...   \n4      [(When was Jordan Peterson born in Edmonton?, ...   \n...                                                  ...   \n16752  [(When was Benjamin Butler affiliated to Green...   \n16753  [(When was Charles E. Cunningham affiliated to...   \n16754  [(When was John Quincy Adams affiliated to Ant...   \n16755  [(When was Thaddeus Stevens affiliated to Anti...   \n16756  [(When was Joseph Ritner affiliated to Anti-Ma...   \n\n                                            when_to_when  \\\n0                                                   None   \n1                                                   None   \n2                                                   None   \n3                                                   None   \n4                                                   None   \n...                                                  ...   \n16752  [(From when to when was Benjamin Butler affili...   \n16753  [(From when to when was Charles E. Cunningham ...   \n16754  [(From when to when was John Quincy Adams affi...   \n16755  [(From when to when was Thaddeus Stevens affil...   \n16756  [(From when to when was Joseph Ritner affiliat...   \n\n                                               from_when  \\\n0                                                   None   \n1                                                   None   \n2                                                   None   \n3                                                   None   \n4                                                   None   \n...                                                  ...   \n16752  [(Since when was Benjamin Butler affiliated to...   \n16753  [(Since when was Charles E. Cunningham affilia...   \n16754  [(Since when was John Quincy Adams affiliated ...   \n16755  [(Since when was Thaddeus Stevens affiliated t...   \n16756  [(Since when was Joseph Ritner affiliated to A...   \n\n                                              until_when  \\\n0                                                   None   \n1                                                   None   \n2                                                   None   \n3                                                   None   \n4                                                   None   \n...                                                  ...   \n16752  [(Until when was Benjamin Butler affiliated to...   \n16753  [(Until when was Charles E. Cunningham affilia...   \n16754  [(Until when was John Quincy Adams affiliated ...   \n16755  [(Until when was Thaddeus Stevens affiliated t...   \n16756  [(Until when was Joseph Ritner affiliated to A...   \n\n                                               left_open  \\\n0                                                   None   \n1                                                   None   \n2                                                   None   \n3                                                   None   \n4                                                   None   \n...                                                  ...   \n16752  [(From 1874 until was Benjamin Butler affiliat...   \n16753  [(From 1876 until was Charles E. Cunningham af...   \n16754  [(From 1833 until was John Quincy Adams affili...   \n16755  [(From 1828 until was Thaddeus Stevens affilia...   \n16756  [(From 1828 until was Joseph Ritner affiliated...   \n\n                                              right_open  \\\n0                                                   None   \n1                                                   None   \n2                                                   None   \n3                                                   None   \n4                                                   None   \n...                                                  ...   \n16752  [(From 1874 until was Benjamin Butler affiliat...   \n16753  [(From 1876 until was Charles E. Cunningham af...   \n16754  [(From 1833 until was John Quincy Adams affili...   \n16755  [(From 1828 until was Thaddeus Stevens affilia...   \n16756  [(From 1828 until was Joseph Ritner affiliated...   \n\n                                                duration  \\\n0                                                   None   \n1                                                   None   \n2                                                   None   \n3                                                   None   \n4                                                   None   \n...                                                  ...   \n16752  [(For how long was Benjamin Butler affiliated ...   \n16753  [(For how long was Charles E. Cunningham affil...   \n16754  [(For how long was John Quincy Adams affiliate...   \n16755  [(For how long was Thaddeus Stevens affiliated...   \n16756  [(For how long was Joseph Ritner affiliated to...   \n\n                                               yes_no_qe yes_no_an  ...  \\\n0            Was Beverly Adams born in Edmonton in 1945?       yes  ...   \n1           Was Rae Dawn Chong born in Edmonton in 1961?       yes  ...   \n2      Was Daniel Fernandes (footballer) born in Edmo...       yes  ...   \n3              Was Mike Comrie born in Edmonton in 1980?       yes  ...   \n4          Was Jordan Peterson born in Edmonton in 1962?       yes  ...   \n...                                                  ...       ...  ...   \n16752  Was Benjamin Butler affiliated to Greenback Pa...       yes  ...   \n16753  Was Charles E. Cunningham affiliated to Greenb...       yes  ...   \n16754  Was John Quincy Adams affiliated to Anti-Mason...       yes  ...   \n16755  Was Thaddeus Stevens affiliated to Anti-Masoni...       yes  ...   \n16756  Was Joseph Ritner affiliated to Anti-Masonic P...       yes  ...   \n\n                                           until_when_qe until_when_an  \\\n0                                                   None           NaN   \n1                                                   None           NaN   \n2                                                   None           NaN   \n3                                                   None           NaN   \n4                                                   None           NaN   \n...                                                  ...           ...   \n16752  Until when was Benjamin Butler affiliated to G...        1889.0   \n16753  Until when was Charles E. Cunningham affiliate...        1886.0   \n16754  Until when was John Quincy Adams affiliated to...        1838.0   \n16755  Until when was Thaddeus Stevens affiliated to ...        1838.0   \n16756  Until when was Joseph Ritner affiliated to Ant...        1839.0   \n\n                                            left_open_qe  left_open_an  \\\n0                                                   None           NaN   \n1                                                   None           NaN   \n2                                                   None           NaN   \n3                                                   None           NaN   \n4                                                   None           NaN   \n...                                                  ...           ...   \n16752  From 1874 until was Benjamin Butler affiliated...        1874.0   \n16753  From 1876 until was Charles E. Cunningham affi...        1876.0   \n16754  From 1833 until was John Quincy Adams affiliat...        1833.0   \n16755  From 1828 until was Thaddeus Stevens affiliate...        1828.0   \n16756  From 1828 until was Joseph Ritner affiliated t...        1828.0   \n\n                                           right_open_qe  right_open_an  \\\n0                                                   None            NaN   \n1                                                   None            NaN   \n2                                                   None            NaN   \n3                                                   None            NaN   \n4                                                   None            NaN   \n...                                                  ...            ...   \n16752  From 1874 until was Benjamin Butler affiliated...         1889.0   \n16753  From 1876 until was Charles E. Cunningham affi...         1886.0   \n16754  From 1833 until was John Quincy Adams affiliat...         1838.0   \n16755  From 1828 until was Thaddeus Stevens affiliate...         1838.0   \n16756  From 1828 until was Joseph Ritner affiliated t...         1839.0   \n\n                                         when_to_when_qe  \\\n0                                                   None   \n1                                                   None   \n2                                                   None   \n3                                                   None   \n4                                                   None   \n...                                                  ...   \n16752  From when to when was Benjamin Butler affiliat...   \n16753  From when to when was Charles E. Cunningham af...   \n16754  From when to when was John Quincy Adams affili...   \n16755  From when to when was Thaddeus Stevens affilia...   \n16756  From when to when was Joseph Ritner affiliated...   \n\n                                         when_to_when_an  \\\n0                                                   None   \n1                                                   None   \n2                                                   None   \n3                                                   None   \n4                                                   None   \n...                                                  ...   \n16752  [1874, 1875, 1876, 1877, 1878, 1879, 1880, 188...   \n16753  [1876, 1877, 1878, 1879, 1880, 1881, 1882, 188...   \n16754               [1833, 1834, 1835, 1836, 1837, 1838]   \n16755  [1828, 1829, 1830, 1831, 1832, 1833, 1834, 183...   \n16756  [1828, 1829, 1830, 1831, 1832, 1833, 1834, 183...   \n\n                                             duration_qe duration_an  \n0                                                   None         NaN  \n1                                                   None         NaN  \n2                                                   None         NaN  \n3                                                   None         NaN  \n4                                                   None         NaN  \n...                                                  ...         ...  \n16752  For how long was Benjamin Butler affiliated to...        15.0  \n16753  For how long was Charles E. Cunningham affilia...        10.0  \n16754  For how long was John Quincy Adams affiliated ...         5.0  \n16755  For how long was Thaddeus Stevens affiliated t...        10.0  \n16756  For how long was Joseph Ritner affiliated to A...        11.0  \n\n[16734 rows x 22 columns]",
      "text/html": "<div>\n<style scoped>\n    .dataframe tbody tr th:only-of-type {\n        vertical-align: middle;\n    }\n\n    .dataframe tbody tr th {\n        vertical-align: top;\n    }\n\n    .dataframe thead th {\n        text-align: right;\n    }\n</style>\n<table border=\"1\" class=\"dataframe\">\n  <thead>\n    <tr style=\"text-align: right;\">\n      <th></th>\n      <th>yes_no</th>\n      <th>when</th>\n      <th>when_to_when</th>\n      <th>from_when</th>\n      <th>until_when</th>\n      <th>left_open</th>\n      <th>right_open</th>\n      <th>duration</th>\n      <th>yes_no_qe</th>\n      <th>yes_no_an</th>\n      <th>...</th>\n      <th>until_when_qe</th>\n      <th>until_when_an</th>\n      <th>left_open_qe</th>\n      <th>left_open_an</th>\n      <th>right_open_qe</th>\n      <th>right_open_an</th>\n      <th>when_to_when_qe</th>\n      <th>when_to_when_an</th>\n      <th>duration_qe</th>\n      <th>duration_an</th>\n    </tr>\n  </thead>\n  <tbody>\n    <tr>\n      <th>0</th>\n      <td>[(Was Beverly Adams born in Edmonton in 1945?,...</td>\n      <td>[(When was Beverly Adams born in Edmonton?, [1...</td>\n      <td>None</td>\n      <td>None</td>\n      <td>None</td>\n      <td>None</td>\n      <td>None</td>\n      <td>None</td>\n      <td>Was Beverly Adams born in Edmonton in 1945?</td>\n      <td>yes</td>\n      <td>...</td>\n      <td>None</td>\n      <td>NaN</td>\n      <td>None</td>\n      <td>NaN</td>\n      <td>None</td>\n      <td>NaN</td>\n      <td>None</td>\n      <td>None</td>\n      <td>None</td>\n      <td>NaN</td>\n    </tr>\n    <tr>\n      <th>1</th>\n      <td>[(Was Rae Dawn Chong born in Edmonton in 1961?...</td>\n      <td>[(When was Rae Dawn Chong born in Edmonton?, [...</td>\n      <td>None</td>\n      <td>None</td>\n      <td>None</td>\n      <td>None</td>\n      <td>None</td>\n      <td>None</td>\n      <td>Was Rae Dawn Chong born in Edmonton in 1961?</td>\n      <td>yes</td>\n      <td>...</td>\n      <td>None</td>\n      <td>NaN</td>\n      <td>None</td>\n      <td>NaN</td>\n      <td>None</td>\n      <td>NaN</td>\n      <td>None</td>\n      <td>None</td>\n      <td>None</td>\n      <td>NaN</td>\n    </tr>\n    <tr>\n      <th>2</th>\n      <td>[(Was Daniel Fernandes (footballer) born in Ed...</td>\n      <td>[(When was Daniel Fernandes (footballer) born ...</td>\n      <td>None</td>\n      <td>None</td>\n      <td>None</td>\n      <td>None</td>\n      <td>None</td>\n      <td>None</td>\n      <td>Was Daniel Fernandes (footballer) born in Edmo...</td>\n      <td>yes</td>\n      <td>...</td>\n      <td>None</td>\n      <td>NaN</td>\n      <td>None</td>\n      <td>NaN</td>\n      <td>None</td>\n      <td>NaN</td>\n      <td>None</td>\n      <td>None</td>\n      <td>None</td>\n      <td>NaN</td>\n    </tr>\n    <tr>\n      <th>3</th>\n      <td>[(Was Mike Comrie born in Edmonton in 1980?, y...</td>\n      <td>[(When was Mike Comrie born in Edmonton?, [198...</td>\n      <td>None</td>\n      <td>None</td>\n      <td>None</td>\n      <td>None</td>\n      <td>None</td>\n      <td>None</td>\n      <td>Was Mike Comrie born in Edmonton in 1980?</td>\n      <td>yes</td>\n      <td>...</td>\n      <td>None</td>\n      <td>NaN</td>\n      <td>None</td>\n      <td>NaN</td>\n      <td>None</td>\n      <td>NaN</td>\n      <td>None</td>\n      <td>None</td>\n      <td>None</td>\n      <td>NaN</td>\n    </tr>\n    <tr>\n      <th>4</th>\n      <td>[(Was Jordan Peterson born in Edmonton in 1962...</td>\n      <td>[(When was Jordan Peterson born in Edmonton?, ...</td>\n      <td>None</td>\n      <td>None</td>\n      <td>None</td>\n      <td>None</td>\n      <td>None</td>\n      <td>None</td>\n      <td>Was Jordan Peterson born in Edmonton in 1962?</td>\n      <td>yes</td>\n      <td>...</td>\n      <td>None</td>\n      <td>NaN</td>\n      <td>None</td>\n      <td>NaN</td>\n      <td>None</td>\n      <td>NaN</td>\n      <td>None</td>\n      <td>None</td>\n      <td>None</td>\n      <td>NaN</td>\n    </tr>\n    <tr>\n      <th>...</th>\n      <td>...</td>\n      <td>...</td>\n      <td>...</td>\n      <td>...</td>\n      <td>...</td>\n      <td>...</td>\n      <td>...</td>\n      <td>...</td>\n      <td>...</td>\n      <td>...</td>\n      <td>...</td>\n      <td>...</td>\n      <td>...</td>\n      <td>...</td>\n      <td>...</td>\n      <td>...</td>\n      <td>...</td>\n      <td>...</td>\n      <td>...</td>\n      <td>...</td>\n      <td>...</td>\n    </tr>\n    <tr>\n      <th>16752</th>\n      <td>[(Was Benjamin Butler affiliated to Greenback ...</td>\n      <td>[(When was Benjamin Butler affiliated to Green...</td>\n      <td>[(From when to when was Benjamin Butler affili...</td>\n      <td>[(Since when was Benjamin Butler affiliated to...</td>\n      <td>[(Until when was Benjamin Butler affiliated to...</td>\n      <td>[(From 1874 until was Benjamin Butler affiliat...</td>\n      <td>[(From 1874 until was Benjamin Butler affiliat...</td>\n      <td>[(For how long was Benjamin Butler affiliated ...</td>\n      <td>Was Benjamin Butler affiliated to Greenback Pa...</td>\n      <td>yes</td>\n      <td>...</td>\n      <td>Until when was Benjamin Butler affiliated to G...</td>\n      <td>1889.0</td>\n      <td>From 1874 until was Benjamin Butler affiliated...</td>\n      <td>1874.0</td>\n      <td>From 1874 until was Benjamin Butler affiliated...</td>\n      <td>1889.0</td>\n      <td>From when to when was Benjamin Butler affiliat...</td>\n      <td>[1874, 1875, 1876, 1877, 1878, 1879, 1880, 188...</td>\n      <td>For how long was Benjamin Butler affiliated to...</td>\n      <td>15.0</td>\n    </tr>\n    <tr>\n      <th>16753</th>\n      <td>[(Was Charles E. Cunningham affiliated to Gree...</td>\n      <td>[(When was Charles E. Cunningham affiliated to...</td>\n      <td>[(From when to when was Charles E. Cunningham ...</td>\n      <td>[(Since when was Charles E. Cunningham affilia...</td>\n      <td>[(Until when was Charles E. Cunningham affilia...</td>\n      <td>[(From 1876 until was Charles E. Cunningham af...</td>\n      <td>[(From 1876 until was Charles E. Cunningham af...</td>\n      <td>[(For how long was Charles E. Cunningham affil...</td>\n      <td>Was Charles E. Cunningham affiliated to Greenb...</td>\n      <td>yes</td>\n      <td>...</td>\n      <td>Until when was Charles E. Cunningham affiliate...</td>\n      <td>1886.0</td>\n      <td>From 1876 until was Charles E. Cunningham affi...</td>\n      <td>1876.0</td>\n      <td>From 1876 until was Charles E. Cunningham affi...</td>\n      <td>1886.0</td>\n      <td>From when to when was Charles E. Cunningham af...</td>\n      <td>[1876, 1877, 1878, 1879, 1880, 1881, 1882, 188...</td>\n      <td>For how long was Charles E. Cunningham affilia...</td>\n      <td>10.0</td>\n    </tr>\n    <tr>\n      <th>16754</th>\n      <td>[(Was John Quincy Adams affiliated to Anti-Mas...</td>\n      <td>[(When was John Quincy Adams affiliated to Ant...</td>\n      <td>[(From when to when was John Quincy Adams affi...</td>\n      <td>[(Since when was John Quincy Adams affiliated ...</td>\n      <td>[(Until when was John Quincy Adams affiliated ...</td>\n      <td>[(From 1833 until was John Quincy Adams affili...</td>\n      <td>[(From 1833 until was John Quincy Adams affili...</td>\n      <td>[(For how long was John Quincy Adams affiliate...</td>\n      <td>Was John Quincy Adams affiliated to Anti-Mason...</td>\n      <td>yes</td>\n      <td>...</td>\n      <td>Until when was John Quincy Adams affiliated to...</td>\n      <td>1838.0</td>\n      <td>From 1833 until was John Quincy Adams affiliat...</td>\n      <td>1833.0</td>\n      <td>From 1833 until was John Quincy Adams affiliat...</td>\n      <td>1838.0</td>\n      <td>From when to when was John Quincy Adams affili...</td>\n      <td>[1833, 1834, 1835, 1836, 1837, 1838]</td>\n      <td>For how long was John Quincy Adams affiliated ...</td>\n      <td>5.0</td>\n    </tr>\n    <tr>\n      <th>16755</th>\n      <td>[(Was Thaddeus Stevens affiliated to Anti-Maso...</td>\n      <td>[(When was Thaddeus Stevens affiliated to Anti...</td>\n      <td>[(From when to when was Thaddeus Stevens affil...</td>\n      <td>[(Since when was Thaddeus Stevens affiliated t...</td>\n      <td>[(Until when was Thaddeus Stevens affiliated t...</td>\n      <td>[(From 1828 until was Thaddeus Stevens affilia...</td>\n      <td>[(From 1828 until was Thaddeus Stevens affilia...</td>\n      <td>[(For how long was Thaddeus Stevens affiliated...</td>\n      <td>Was Thaddeus Stevens affiliated to Anti-Masoni...</td>\n      <td>yes</td>\n      <td>...</td>\n      <td>Until when was Thaddeus Stevens affiliated to ...</td>\n      <td>1838.0</td>\n      <td>From 1828 until was Thaddeus Stevens affiliate...</td>\n      <td>1828.0</td>\n      <td>From 1828 until was Thaddeus Stevens affiliate...</td>\n      <td>1838.0</td>\n      <td>From when to when was Thaddeus Stevens affilia...</td>\n      <td>[1828, 1829, 1830, 1831, 1832, 1833, 1834, 183...</td>\n      <td>For how long was Thaddeus Stevens affiliated t...</td>\n      <td>10.0</td>\n    </tr>\n    <tr>\n      <th>16756</th>\n      <td>[(Was Joseph Ritner affiliated to Anti-Masonic...</td>\n      <td>[(When was Joseph Ritner affiliated to Anti-Ma...</td>\n      <td>[(From when to when was Joseph Ritner affiliat...</td>\n      <td>[(Since when was Joseph Ritner affiliated to A...</td>\n      <td>[(Until when was Joseph Ritner affiliated to A...</td>\n      <td>[(From 1828 until was Joseph Ritner affiliated...</td>\n      <td>[(From 1828 until was Joseph Ritner affiliated...</td>\n      <td>[(For how long was Joseph Ritner affiliated to...</td>\n      <td>Was Joseph Ritner affiliated to Anti-Masonic P...</td>\n      <td>yes</td>\n      <td>...</td>\n      <td>Until when was Joseph Ritner affiliated to Ant...</td>\n      <td>1839.0</td>\n      <td>From 1828 until was Joseph Ritner affiliated t...</td>\n      <td>1828.0</td>\n      <td>From 1828 until was Joseph Ritner affiliated t...</td>\n      <td>1839.0</td>\n      <td>From when to when was Joseph Ritner affiliated...</td>\n      <td>[1828, 1829, 1830, 1831, 1832, 1833, 1834, 183...</td>\n      <td>For how long was Joseph Ritner affiliated to A...</td>\n      <td>11.0</td>\n    </tr>\n  </tbody>\n</table>\n<p>16734 rows × 22 columns</p>\n</div>"
     },
     "execution_count": 78,
     "metadata": {},
     "output_type": "execute_result"
    }
   ],
   "source": [
    "v1_questions"
   ],
   "metadata": {
    "collapsed": false,
    "pycharm": {
     "name": "#%%\n"
    }
   }
  },
  {
   "cell_type": "code",
   "execution_count": 70,
   "outputs": [],
   "source": [
    "questions = [v1_questions, v2_questions, v3_questions, v4_questions]\n",
    "return_questions = []\n",
    "count = 1\n",
    "for qe in questions:\n",
    "    qe = qe.fillna(0)\n",
    "    # qe[['until_when_an', 'left_open_an', 'right_open_an', 'when_to_when_an']] = qe[\n",
    "    #     ['until_when_an', 'left_open_an', 'right_open_an', 'when_to_when_an']].astype(\n",
    "    #     {\"until_when_an\": int, \"left_open_an\": int, 'right_open_an': int, 'when_to_when_an': int})\n",
    "    qe = qe.loc[:, ['yes_no_qe', 'yes_no_an', 'when_qe', 'when_an', 'until_when_qe', 'until_when_an', 'left_open_qe',\n",
    "                    'left_open_an', 'right_open_qe', 'right_open_an', 'when_to_when_qe', 'when_to_when_an',\n",
    "                    'duration_qe', 'duration_an']]\n",
    "    qe = pd.concat([qe, df.loc[:, ['object_has_years', 'subject_has_years']]], axis=1)\n",
    "    qe.to_json(f'generated_data/0607/YAGO11k_questions_v{count}_0607.json')\n",
    "    return_questions.append(qe)\n",
    "    count += 1"
   ],
   "metadata": {
    "collapsed": false,
    "pycharm": {
     "name": "#%%\n"
    }
   }
  },
  {
   "cell_type": "code",
   "execution_count": 100,
   "outputs": [],
   "source": [
    "questions = [v1_questions, v2_questions, v3_questions, v4_questions]\n",
    "return_questions = []\n",
    "count = 1\n",
    "for qe in questions:\n",
    "    qe = qe.fillna(0)\n",
    "    qe = qe.loc[:, ['left_open_qe', 'left_open_an', 'right_open_qe', 'right_open_an']]\n",
    "    qe = pd.concat([qe, df.loc[:, ['object_has_years', 'subject_has_years']]], axis=1)\n",
    "    qe.to_json(f'generated_data/0607/YAGO11k_questions_left_right_v{count}_0607.json')\n",
    "    return_questions.append(qe)\n",
    "    count += 1"
   ],
   "metadata": {
    "collapsed": false,
    "pycharm": {
     "name": "#%%\n"
    }
   }
  },
  {
   "cell_type": "code",
   "execution_count": 73,
   "outputs": [
    {
     "data": {
      "text/plain": "                                            left_open_qe  left_open_an  \\\n0                                                      0           0.0   \n1                                                      0           0.0   \n2                                                      0           0.0   \n3                                                      0           0.0   \n4                                                      0           0.0   \n...                                                  ...           ...   \n16752  From 1874 until was Benjamin Butler affiliated...        1874.0   \n16753  From 1876 until was Charles E. Cunningham affi...        1876.0   \n16754  From 1833 until was John Quincy Adams affiliat...        1833.0   \n16755  From 1828 until was Thaddeus Stevens affiliate...        1828.0   \n16756  From 1828 until was Joseph Ritner affiliated t...        1828.0   \n\n                                           right_open_qe  right_open_an  \\\n0                                                      0            0.0   \n1                                                      0            0.0   \n2                                                      0            0.0   \n3                                                      0            0.0   \n4                                                      0            0.0   \n...                                                  ...            ...   \n16752  From 1874 until was Benjamin Butler affiliated...         1889.0   \n16753  From 1876 until was Charles E. Cunningham affi...         1886.0   \n16754  From 1833 until was John Quincy Adams affiliat...         1838.0   \n16755  From 1828 until was Thaddeus Stevens affiliate...         1838.0   \n16756  From 1828 until was Joseph Ritner affiliated t...         1839.0   \n\n       object_has_years  subject_has_years  \n0                 False              False  \n1                 False              False  \n2                 False              False  \n3                 False              False  \n4                 False              False  \n...                 ...                ...  \n16752             False              False  \n16753             False              False  \n16754             False              False  \n16755             False              False  \n16756             False              False  \n\n[16734 rows x 6 columns]",
      "text/html": "<div>\n<style scoped>\n    .dataframe tbody tr th:only-of-type {\n        vertical-align: middle;\n    }\n\n    .dataframe tbody tr th {\n        vertical-align: top;\n    }\n\n    .dataframe thead th {\n        text-align: right;\n    }\n</style>\n<table border=\"1\" class=\"dataframe\">\n  <thead>\n    <tr style=\"text-align: right;\">\n      <th></th>\n      <th>left_open_qe</th>\n      <th>left_open_an</th>\n      <th>right_open_qe</th>\n      <th>right_open_an</th>\n      <th>object_has_years</th>\n      <th>subject_has_years</th>\n    </tr>\n  </thead>\n  <tbody>\n    <tr>\n      <th>0</th>\n      <td>0</td>\n      <td>0.0</td>\n      <td>0</td>\n      <td>0.0</td>\n      <td>False</td>\n      <td>False</td>\n    </tr>\n    <tr>\n      <th>1</th>\n      <td>0</td>\n      <td>0.0</td>\n      <td>0</td>\n      <td>0.0</td>\n      <td>False</td>\n      <td>False</td>\n    </tr>\n    <tr>\n      <th>2</th>\n      <td>0</td>\n      <td>0.0</td>\n      <td>0</td>\n      <td>0.0</td>\n      <td>False</td>\n      <td>False</td>\n    </tr>\n    <tr>\n      <th>3</th>\n      <td>0</td>\n      <td>0.0</td>\n      <td>0</td>\n      <td>0.0</td>\n      <td>False</td>\n      <td>False</td>\n    </tr>\n    <tr>\n      <th>4</th>\n      <td>0</td>\n      <td>0.0</td>\n      <td>0</td>\n      <td>0.0</td>\n      <td>False</td>\n      <td>False</td>\n    </tr>\n    <tr>\n      <th>...</th>\n      <td>...</td>\n      <td>...</td>\n      <td>...</td>\n      <td>...</td>\n      <td>...</td>\n      <td>...</td>\n    </tr>\n    <tr>\n      <th>16752</th>\n      <td>From 1874 until was Benjamin Butler affiliated...</td>\n      <td>1874.0</td>\n      <td>From 1874 until was Benjamin Butler affiliated...</td>\n      <td>1889.0</td>\n      <td>False</td>\n      <td>False</td>\n    </tr>\n    <tr>\n      <th>16753</th>\n      <td>From 1876 until was Charles E. Cunningham affi...</td>\n      <td>1876.0</td>\n      <td>From 1876 until was Charles E. Cunningham affi...</td>\n      <td>1886.0</td>\n      <td>False</td>\n      <td>False</td>\n    </tr>\n    <tr>\n      <th>16754</th>\n      <td>From 1833 until was John Quincy Adams affiliat...</td>\n      <td>1833.0</td>\n      <td>From 1833 until was John Quincy Adams affiliat...</td>\n      <td>1838.0</td>\n      <td>False</td>\n      <td>False</td>\n    </tr>\n    <tr>\n      <th>16755</th>\n      <td>From 1828 until was Thaddeus Stevens affiliate...</td>\n      <td>1828.0</td>\n      <td>From 1828 until was Thaddeus Stevens affiliate...</td>\n      <td>1838.0</td>\n      <td>False</td>\n      <td>False</td>\n    </tr>\n    <tr>\n      <th>16756</th>\n      <td>From 1828 until was Joseph Ritner affiliated t...</td>\n      <td>1828.0</td>\n      <td>From 1828 until was Joseph Ritner affiliated t...</td>\n      <td>1839.0</td>\n      <td>False</td>\n      <td>False</td>\n    </tr>\n  </tbody>\n</table>\n<p>16734 rows × 6 columns</p>\n</div>"
     },
     "execution_count": 73,
     "metadata": {},
     "output_type": "execute_result"
    }
   ],
   "source": [
    "return_questions[0]"
   ],
   "metadata": {
    "collapsed": false,
    "pycharm": {
     "name": "#%%\n"
    }
   }
  },
  {
   "cell_type": "markdown",
   "source": [
    "## CronKGQA"
   ],
   "metadata": {
    "collapsed": false
   }
  },
  {
   "cell_type": "code",
   "execution_count": null,
   "outputs": [],
   "source": [
    "df = pd.read_csv('../data/processed_datasets/TKG_readable_WIKIDATA12k.csv', index_col=0)\n",
    "df"
   ],
   "metadata": {
    "collapsed": false,
    "pycharm": {
     "name": "#%%\n"
    }
   }
  },
  {
   "cell_type": "code",
   "execution_count": null,
   "outputs": [],
   "source": [
    "# Converting until #### to 2022 indicating until today\n",
    "df['until'] = df['until'].apply(lambda x: 2022 if x == '####' else x)\n",
    "df"
   ],
   "metadata": {
    "collapsed": false,
    "pycharm": {
     "name": "#%%\n"
    }
   }
  },
  {
   "cell_type": "code",
   "execution_count": null,
   "outputs": [],
   "source": [
    "unsuitable_row_ids = []\n",
    "for i, entry in df.iterrows():\n",
    "    if entry['from'].__contains__('#') or entry['from'].__contains__('-') or str(entry['until']).__contains__(\n",
    "            '#') or str(entry['until']).__contains__('-') or entry['from'] == '':\n",
    "        unsuitable_row_ids.append(i)\n",
    "print(unsuitable_row_ids)"
   ],
   "metadata": {
    "collapsed": false,
    "pycharm": {
     "name": "#%%\n"
    }
   }
  },
  {
   "cell_type": "code",
   "execution_count": null,
   "outputs": [],
   "source": [
    "df.iloc[unsuitable_row_ids, :]"
   ],
   "metadata": {
    "collapsed": false,
    "pycharm": {
     "name": "#%%\n"
    }
   }
  },
  {
   "cell_type": "code",
   "execution_count": null,
   "outputs": [],
   "source": [
    "# Dropping all entries where the dates are ambiguous\n",
    "df = df.drop(unsuitable_row_ids)"
   ],
   "metadata": {
    "collapsed": false,
    "pycharm": {
     "name": "#%%\n"
    }
   }
  },
  {
   "cell_type": "code",
   "execution_count": null,
   "outputs": [],
   "source": [
    "start_time = time.time()\n",
    "\n",
    "df_question = pd.DataFrame()\n",
    "yes_no_dict = {'was born in': 'Was {} born in {} in {}?'}\n",
    "df_question['yes_no'] = df.apply(lambda x:\n",
    "                                 qm.formulate_yes_no_question(x['subject'], x['predicate'], x['object'],\n",
    "                                                              x['from'], x['until'],\n",
    "                                                              predicate_question_dict=yes_no_dict), axis=1)\n",
    "when_dict = {'was born in': 'When was {} born in {}?'}\n",
    "df_question['when'] = df.apply(lambda x:\n",
    "                               qm.formulate_simple_when_question(x['subject'], x['predicate'], x['object'],\n",
    "                                                                 x['from'], x['until'],\n",
    "                                                                 predicate_question_dict=when_dict), axis=1)\n",
    "when_to_when_dict = {'was born in': 'From when until when was {} born in {}?'}\n",
    "df_question['when_to_when'] = df.apply(lambda x:\n",
    "                                       qm.formulate_when_to_when_question(x['subject'], x['predicate'], x['object'],\n",
    "                                                                          x['from'], x['until'],\n",
    "                                                                          predicate_question_dict=when_to_when_dict,\n",
    "                                                                          all_variations=False), axis=1)\n",
    "from_dict = {'is married to': '{} was married to {} but when was their marriage?'}\n",
    "df_question['from_when'] = df.apply(lambda x:\n",
    "                                    qm.formulate_from_or_until_question(x['subject'], x['predicate'], x['object'],\n",
    "                                                                        x['from'], x['until'],\n",
    "                                                                        is_from_question=True,\n",
    "                                                                        predicate_question_dict=when_to_when_dict,\n",
    "                                                                        all_variations=False), axis=1)\n",
    "until_dict = {'is married to': '{} was married to {} but when was their divorce?'}\n",
    "df_question['until_when'] = df.apply(lambda x:\n",
    "                                     qm.formulate_from_or_until_question(x['subject'], x['predicate'], x['object'],\n",
    "                                                                         x['from'], x['until'],\n",
    "                                                                         is_from_question=False,\n",
    "                                                                         predicate_question_dict=when_to_when_dict,\n",
    "                                                                         all_variations=False), axis=1)\n",
    "\n",
    "left_open_dict = {'was president of': 'In the year {} {} was elected president of {} until when?'}\n",
    "df_question['left_open'] = df.apply(lambda x:\n",
    "                                    qm.formulate_left_or_right_open_interval_questions(x['subject'], x['predicate'],\n",
    "                                                                                       x['object'],\n",
    "                                                                                       x['from'], x['until'],\n",
    "                                                                                       right_open=False,\n",
    "                                                                                       predicate_question_dict=left_open_dict),\n",
    "                                    axis=1)\n",
    "right_open_dict = {'was president of': 'Until the year {} {} was president of {} and when was the election?'}\n",
    "df_question['right_open'] = df.apply(lambda x:\n",
    "                                     qm.formulate_left_or_right_open_interval_questions(x['subject'], x['predicate'],\n",
    "                                                                                        x['object'],\n",
    "                                                                                        x['from'], x['until'],\n",
    "                                                                                        right_open=False,\n",
    "                                                                                        predicate_question_dict=right_open_dict),\n",
    "                                     axis=1)\n",
    "\n",
    "print(\"--- %s seconds ---\" % (time.time() - start_time))"
   ],
   "metadata": {
    "collapsed": false,
    "pycharm": {
     "name": "#%%\n"
    }
   }
  },
  {
   "cell_type": "code",
   "execution_count": null,
   "outputs": [],
   "source": [
    "convert_qm_output_to_two_df_columns(df_question, 'yes_no')\n",
    "convert_qm_output_to_two_df_columns(df_question, 'when')\n",
    "convert_qm_output_to_two_df_columns(df_question, 'until_when')\n",
    "convert_qm_output_to_two_df_columns(df_question, 'left_open')\n",
    "convert_qm_output_to_two_df_columns(df_question, 'right_open')\n",
    "convert_qm_output_to_two_df_columns(df_question, 'when_to_when')"
   ],
   "metadata": {
    "collapsed": false,
    "pycharm": {
     "name": "#%%\n"
    }
   }
  },
  {
   "cell_type": "code",
   "execution_count": null,
   "outputs": [],
   "source": [
    "df_question = df_question.fillna(0)\n",
    "df_question[['until_when_an', 'left_open_an', 'right_open_an']] = df_question[\n",
    "    ['until_when_an', 'left_open_an', 'right_open_an']]\n",
    ".astype({\"until_when_an\": int, \"left_open_an\": int, 'right_open_an': int})"
   ],
   "metadata": {
    "collapsed": false,
    "pycharm": {
     "name": "#%%\n"
    }
   }
  },
  {
   "cell_type": "code",
   "execution_count": null,
   "outputs": [],
   "source": [
    "df_question = df_question.loc[:,\n",
    "              ['yes_no_qe', 'yes_no_an', 'when_qe', 'when_an', 'until_when_qe', 'until_when_an', 'left_open_qe',\n",
    "               'left_open_an', 'right_open_qe', 'right_open_an', 'when_to_when_qe', 'when_to_when_an']]"
   ],
   "metadata": {
    "collapsed": false,
    "pycharm": {
     "name": "#%%\n"
    }
   }
  },
  {
   "cell_type": "code",
   "execution_count": null,
   "outputs": [],
   "source": [
    "df_question.to_json('generated_data/WIKIDATA12k_questions.json')"
   ],
   "metadata": {
    "collapsed": false,
    "pycharm": {
     "name": "#%%\n"
    }
   }
  },
  {
   "cell_type": "code",
   "execution_count": null,
   "outputs": [],
   "source": [
    "df.iloc[1, 4]"
   ],
   "metadata": {
    "collapsed": false,
    "pycharm": {
     "name": "#%%\n"
    }
   }
  },
  {
   "cell_type": "code",
   "execution_count": null,
   "outputs": [],
   "source": [],
   "metadata": {
    "collapsed": false,
    "pycharm": {
     "name": "#%%\n"
    }
   }
  },
  {
   "cell_type": "code",
   "execution_count": null,
   "outputs": [],
   "source": [
    "pd.read_json('generated_data/WIKIDATA12k_questions.json').columns"
   ],
   "metadata": {
    "collapsed": false,
    "pycharm": {
     "name": "#%%\n"
    }
   }
  },
  {
   "cell_type": "markdown",
   "source": [
    "# Adhoc creation of special questions"
   ],
   "metadata": {
    "collapsed": false
   }
  },
  {
   "cell_type": "code",
   "execution_count": null,
   "outputs": [],
   "source": [
    "df_question = pd.DataFrame()\n",
    "yes_no_dict = {'was born in': 'Was {} born in {} in the year {}?'}\n",
    "df_question['yes_no'] = df.apply(lambda x:\n",
    "                                 qm.formulate_yes_no_question(x['subject'], x['predicate'], x['object'],\n",
    "                                                              x['from'], x['until'],\n",
    "                                                              predicate_question_dict=yes_no_dict,\n",
    "                                                              clarify_question=True), axis=1)\n"
   ],
   "metadata": {
    "collapsed": false,
    "pycharm": {
     "name": "#%%\n"
    }
   }
  },
  {
   "cell_type": "code",
   "execution_count": null,
   "outputs": [],
   "source": [
    "convert_qm_output_to_two_df_columns(df_question, 'yes_no')"
   ],
   "metadata": {
    "collapsed": false,
    "pycharm": {
     "name": "#%%\n"
    }
   }
  },
  {
   "cell_type": "code",
   "execution_count": null,
   "outputs": [],
   "source": [
    "df_question.loc[:, ['yes_no_qe', 'yes_no_an']].to_json('generated_data/YAGO11k_yes_no_clarify_question.json')"
   ],
   "metadata": {
    "collapsed": false,
    "pycharm": {
     "name": "#%%\n"
    }
   }
  },
  {
   "cell_type": "code",
   "execution_count": null,
   "outputs": [],
   "source": [
    "df_question"
   ],
   "metadata": {
    "collapsed": false,
    "pycharm": {
     "name": "#%%\n"
    }
   }
  },
  {
   "cell_type": "markdown",
   "source": [
    "Yes No Robust"
   ],
   "metadata": {
    "collapsed": false
   }
  },
  {
   "cell_type": "code",
   "execution_count": 55,
   "outputs": [
    {
     "data": {
      "text/plain": "       qe_index                                                 qe   an\n0             0  Was Beverly Adams born in Edmonton in the year...   no\n1             0  Was Beverly Adams born in Edmonton in the year...   no\n2             0  Was Beverly Adams born in Edmonton in the year...   no\n3             0  Was Beverly Adams born in Edmonton in the year...   no\n4             0  Was Beverly Adams born in Edmonton in the year...  yes\n...         ...                                                ...  ...\n200566    16756  Was Joseph Ritner affiliated to Anti-Masonic P...  yes\n200567    16756  Was Joseph Ritner affiliated to Anti-Masonic P...  yes\n200568    16756  Was Joseph Ritner affiliated to Anti-Masonic P...  yes\n200569    16756  Was Joseph Ritner affiliated to Anti-Masonic P...  yes\n200570    16756  Was Joseph Ritner affiliated to Anti-Masonic P...  yes\n\n[200571 rows x 3 columns]",
      "text/html": "<div>\n<style scoped>\n    .dataframe tbody tr th:only-of-type {\n        vertical-align: middle;\n    }\n\n    .dataframe tbody tr th {\n        vertical-align: top;\n    }\n\n    .dataframe thead th {\n        text-align: right;\n    }\n</style>\n<table border=\"1\" class=\"dataframe\">\n  <thead>\n    <tr style=\"text-align: right;\">\n      <th></th>\n      <th>qe_index</th>\n      <th>qe</th>\n      <th>an</th>\n    </tr>\n  </thead>\n  <tbody>\n    <tr>\n      <th>0</th>\n      <td>0</td>\n      <td>Was Beverly Adams born in Edmonton in the year...</td>\n      <td>no</td>\n    </tr>\n    <tr>\n      <th>1</th>\n      <td>0</td>\n      <td>Was Beverly Adams born in Edmonton in the year...</td>\n      <td>no</td>\n    </tr>\n    <tr>\n      <th>2</th>\n      <td>0</td>\n      <td>Was Beverly Adams born in Edmonton in the year...</td>\n      <td>no</td>\n    </tr>\n    <tr>\n      <th>3</th>\n      <td>0</td>\n      <td>Was Beverly Adams born in Edmonton in the year...</td>\n      <td>no</td>\n    </tr>\n    <tr>\n      <th>4</th>\n      <td>0</td>\n      <td>Was Beverly Adams born in Edmonton in the year...</td>\n      <td>yes</td>\n    </tr>\n    <tr>\n      <th>...</th>\n      <td>...</td>\n      <td>...</td>\n      <td>...</td>\n    </tr>\n    <tr>\n      <th>200566</th>\n      <td>16756</td>\n      <td>Was Joseph Ritner affiliated to Anti-Masonic P...</td>\n      <td>yes</td>\n    </tr>\n    <tr>\n      <th>200567</th>\n      <td>16756</td>\n      <td>Was Joseph Ritner affiliated to Anti-Masonic P...</td>\n      <td>yes</td>\n    </tr>\n    <tr>\n      <th>200568</th>\n      <td>16756</td>\n      <td>Was Joseph Ritner affiliated to Anti-Masonic P...</td>\n      <td>yes</td>\n    </tr>\n    <tr>\n      <th>200569</th>\n      <td>16756</td>\n      <td>Was Joseph Ritner affiliated to Anti-Masonic P...</td>\n      <td>yes</td>\n    </tr>\n    <tr>\n      <th>200570</th>\n      <td>16756</td>\n      <td>Was Joseph Ritner affiliated to Anti-Masonic P...</td>\n      <td>yes</td>\n    </tr>\n  </tbody>\n</table>\n<p>200571 rows × 3 columns</p>\n</div>"
     },
     "execution_count": 55,
     "metadata": {},
     "output_type": "execute_result"
    }
   ],
   "source": [
    "df_yes_no_robust"
   ],
   "metadata": {
    "collapsed": false,
    "pycharm": {
     "name": "#%%\n"
    }
   }
  },
  {
   "cell_type": "code",
   "execution_count": null,
   "outputs": [],
   "source": [
    "relevant_columns = ['qe']\n",
    "\n",
    "counter = 1\n",
    "df = df_yes_no_robust\n",
    "# df = pd.read_json(f'{PATH}qe/0602/{file}')\n",
    "for column in relevant_columns:\n",
    "    question_type = column[:len(column) - 3]\n",
    "    model_answer = question_type + '_model_an'\n",
    "    start_time = time.time()\n",
    "    for i, entry in df.iterrows():\n",
    "        if entry[column] == 0:\n",
    "            continue\n",
    "        inputs = tokenizer.encode(entry[column], return_tensors=\"pt\").to(device)\n",
    "        outputs = model.generate(inputs)\n",
    "        df.loc[i, model_answer] = tokenizer.decode(outputs[0])\n",
    "    df[question_type + '_time'] = time.time() - start_time\n",
    "\n",
    "df.to_json(f'{PATH}an/0602/answers_{version}_0602.json')"
   ],
   "metadata": {
    "collapsed": false,
    "pycharm": {
     "name": "#%%\n"
    }
   }
  }
 ],
 "metadata": {
  "kernelspec": {
   "display_name": "Python 3",
   "language": "python",
   "name": "python3"
  },
  "language_info": {
   "codemirror_mode": {
    "name": "ipython",
    "version": 2
   },
   "file_extension": ".py",
   "mimetype": "text/x-python",
   "name": "python",
   "nbconvert_exporter": "python",
   "pygments_lexer": "ipython2",
   "version": "2.7.6"
  }
 },
 "nbformat": 4,
 "nbformat_minor": 0
}