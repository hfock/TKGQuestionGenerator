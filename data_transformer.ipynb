{
 "cells": [
  {
   "cell_type": "code",
   "execution_count": 1,
   "metadata": {
    "collapsed": true
   },
   "outputs": [],
   "source": [
    "import constants as c\n",
    "import pandas as pd\n",
    "import glob\n",
    "\n",
    "from wikidata.client import Client\n",
    "\n",
    "import api.hf_api_calls as hf\n"
   ]
  },
  {
   "cell_type": "code",
   "execution_count": 2,
   "outputs": [],
   "source": [
    "ROOT = \"KGData/*\"\n",
    "folders = glob.glob(ROOT)\n",
    "\n",
    "files = []\n",
    "\n",
    "for folder in folders:\n",
    "    files.append(glob.glob(f'{folder}/*.csv'))"
   ],
   "metadata": {
    "collapsed": false,
    "pycharm": {
     "name": "#%%\n"
    }
   }
  },
  {
   "cell_type": "code",
   "execution_count": 3,
   "outputs": [
    {
     "data": {
      "text/plain": "[['KGData/yago15k/yago15k_train.csv',\n  'KGData/yago15k/yago15k_valid.csv',\n  'KGData/yago15k/yago15k_test.csv'],\n [],\n ['KGData/wikidata/wiki_valid.csv',\n  'KGData/wikidata/wiki_train.csv',\n  'KGData/wikidata/wiki_test.csv']]"
     },
     "execution_count": 3,
     "metadata": {},
     "output_type": "execute_result"
    }
   ],
   "source": [
    "files"
   ],
   "metadata": {
    "collapsed": false,
    "pycharm": {
     "name": "#%%\n"
    }
   }
  },
  {
   "cell_type": "code",
   "execution_count": 11,
   "outputs": [],
   "source": [
    "df = pd.read_csv(f\"{c.WIKIDATA_PATH}wiki_train.csv\",\n",
    "                 names=[\"subject\", \"predicate\", \"object\", \"time_predicate\", \"time_stamp\", \"question\", hf.T0PP])"
   ],
   "metadata": {
    "collapsed": false,
    "pycharm": {
     "name": "#%%\n"
    }
   }
  },
  {
   "cell_type": "code",
   "execution_count": 12,
   "outputs": [
    {
     "data": {
      "text/plain": "        subject predicate   object time_predicate  time_stamp  question  \\\n0       Q215841       P54   Q18744     occurUntil        2015       NaN   \n1       Q524660     P1082     1350     occurUntil        1925       NaN   \n2       Q330588     P1082      118     occurUntil        1900       NaN   \n3       Q285107     P1082      491     occurUntil        1930       NaN   \n4       Q696162       P54  Q392310     occurSince        2003       NaN   \n...         ...       ...      ...            ...         ...       ...   \n121417  Q202329       P54  Q132885     occurUntil        2013       NaN   \n121418   Q81051     P1082     2341     occurSince        1966       NaN   \n121419   Q90489     P1087     2588     occurSince        2015       NaN   \n121420  Q379462     P1087     2409     occurUntil        2005       NaN   \n121421  Q723552     P1087     2524     occurUntil        2013       NaN   \n\n        bigscience/T0pp  \n0                   NaN  \n1                   NaN  \n2                   NaN  \n3                   NaN  \n4                   NaN  \n...                 ...  \n121417              NaN  \n121418              NaN  \n121419              NaN  \n121420              NaN  \n121421              NaN  \n\n[121422 rows x 7 columns]",
      "text/html": "<div>\n<style scoped>\n    .dataframe tbody tr th:only-of-type {\n        vertical-align: middle;\n    }\n\n    .dataframe tbody tr th {\n        vertical-align: top;\n    }\n\n    .dataframe thead th {\n        text-align: right;\n    }\n</style>\n<table border=\"1\" class=\"dataframe\">\n  <thead>\n    <tr style=\"text-align: right;\">\n      <th></th>\n      <th>subject</th>\n      <th>predicate</th>\n      <th>object</th>\n      <th>time_predicate</th>\n      <th>time_stamp</th>\n      <th>question</th>\n      <th>bigscience/T0pp</th>\n    </tr>\n  </thead>\n  <tbody>\n    <tr>\n      <th>0</th>\n      <td>Q215841</td>\n      <td>P54</td>\n      <td>Q18744</td>\n      <td>occurUntil</td>\n      <td>2015</td>\n      <td>NaN</td>\n      <td>NaN</td>\n    </tr>\n    <tr>\n      <th>1</th>\n      <td>Q524660</td>\n      <td>P1082</td>\n      <td>1350</td>\n      <td>occurUntil</td>\n      <td>1925</td>\n      <td>NaN</td>\n      <td>NaN</td>\n    </tr>\n    <tr>\n      <th>2</th>\n      <td>Q330588</td>\n      <td>P1082</td>\n      <td>118</td>\n      <td>occurUntil</td>\n      <td>1900</td>\n      <td>NaN</td>\n      <td>NaN</td>\n    </tr>\n    <tr>\n      <th>3</th>\n      <td>Q285107</td>\n      <td>P1082</td>\n      <td>491</td>\n      <td>occurUntil</td>\n      <td>1930</td>\n      <td>NaN</td>\n      <td>NaN</td>\n    </tr>\n    <tr>\n      <th>4</th>\n      <td>Q696162</td>\n      <td>P54</td>\n      <td>Q392310</td>\n      <td>occurSince</td>\n      <td>2003</td>\n      <td>NaN</td>\n      <td>NaN</td>\n    </tr>\n    <tr>\n      <th>...</th>\n      <td>...</td>\n      <td>...</td>\n      <td>...</td>\n      <td>...</td>\n      <td>...</td>\n      <td>...</td>\n      <td>...</td>\n    </tr>\n    <tr>\n      <th>121417</th>\n      <td>Q202329</td>\n      <td>P54</td>\n      <td>Q132885</td>\n      <td>occurUntil</td>\n      <td>2013</td>\n      <td>NaN</td>\n      <td>NaN</td>\n    </tr>\n    <tr>\n      <th>121418</th>\n      <td>Q81051</td>\n      <td>P1082</td>\n      <td>2341</td>\n      <td>occurSince</td>\n      <td>1966</td>\n      <td>NaN</td>\n      <td>NaN</td>\n    </tr>\n    <tr>\n      <th>121419</th>\n      <td>Q90489</td>\n      <td>P1087</td>\n      <td>2588</td>\n      <td>occurSince</td>\n      <td>2015</td>\n      <td>NaN</td>\n      <td>NaN</td>\n    </tr>\n    <tr>\n      <th>121420</th>\n      <td>Q379462</td>\n      <td>P1087</td>\n      <td>2409</td>\n      <td>occurUntil</td>\n      <td>2005</td>\n      <td>NaN</td>\n      <td>NaN</td>\n    </tr>\n    <tr>\n      <th>121421</th>\n      <td>Q723552</td>\n      <td>P1087</td>\n      <td>2524</td>\n      <td>occurUntil</td>\n      <td>2013</td>\n      <td>NaN</td>\n      <td>NaN</td>\n    </tr>\n  </tbody>\n</table>\n<p>121422 rows × 7 columns</p>\n</div>"
     },
     "execution_count": 12,
     "metadata": {},
     "output_type": "execute_result"
    }
   ],
   "source": [
    "df"
   ],
   "metadata": {
    "collapsed": false,
    "pycharm": {
     "name": "#%%\n"
    }
   }
  },
  {
   "cell_type": "code",
   "execution_count": 13,
   "outputs": [],
   "source": [
    "client = Client()\n",
    "def translate_entry(entry):\n",
    "    result = []\n",
    "    for value in entry:\n",
    "        if isinstance(value, str):\n",
    "            if value.startswith('Q') or value.startswith('P'):\n",
    "                en_label = client.get(value, load=True).label.get('en')\n",
    "                result.append(en_label)\n",
    "                continue\n",
    "        result.append(value)\n",
    "    return result"
   ],
   "metadata": {
    "collapsed": false,
    "pycharm": {
     "name": "#%%\n"
    }
   }
  },
  {
   "cell_type": "code",
   "execution_count": 14,
   "outputs": [],
   "source": [
    "def make_question(entry):\n",
    "    subject = entry[0]\n",
    "    predicate = entry[1]\n",
    "    object = entry[2]\n",
    "    # question_start = entry[3][5:] + ' when is'\n",
    "    question_start = 'When was'\n",
    "    question = f'{question_start} {subject} {predicate} {object}?'\n",
    "    return question"
   ],
   "metadata": {
    "collapsed": false,
    "pycharm": {
     "name": "#%%\n"
    }
   }
  },
  {
   "cell_type": "code",
   "execution_count": 18,
   "outputs": [],
   "source": [
    "for i, values in df[0:1].iterrows():\n",
    "    entry = values.tolist()\n",
    "    plain_entry = translate_entry(entry)\n",
    "    question = make_question(plain_entry)\n",
    "    df.loc[i, 'question'] = question\n",
    "    df.loc[i, hf.T0PP] = hf.query(question, hf.T0PP)[0]['generated_text']"
   ],
   "metadata": {
    "collapsed": false,
    "pycharm": {
     "name": "#%%\n"
    }
   }
  },
  {
   "cell_type": "code",
   "execution_count": 22,
   "outputs": [],
   "source": [
    "def fetch_answers(start, stop):\n",
    "    try:\n",
    "        for i, values in df[start:stop].iterrows():\n",
    "            entry = values.tolist()\n",
    "            plain_entry = translate_entry(entry)\n",
    "            question = make_question(plain_entry)\n",
    "            df.loc[i, 'question'] = question\n",
    "            df.loc[i, hf.T0PP] = hf.query(question, hf.T0PP)[0]['generated_text']\n",
    "        df.to_csv(f\"{c.WIKIDATA_PATH}wiki_train_t0pp.csv\")\n",
    "    except:\n",
    "        df.to_csv(f\"{c.WIKIDATA_PATH}wiki_train_t0pp.csv\")"
   ],
   "metadata": {
    "collapsed": false,
    "pycharm": {
     "name": "#%%\n"
    }
   }
  },
  {
   "cell_type": "code",
   "execution_count": null,
   "outputs": [],
   "source": [
    "fetch_answers(0, 500)"
   ],
   "metadata": {
    "collapsed": false,
    "pycharm": {
     "name": "#%%\n",
     "is_executing": true
    }
   }
  }
 ],
 "metadata": {
  "kernelspec": {
   "display_name": "Python 3",
   "language": "python",
   "name": "python3"
  },
  "language_info": {
   "codemirror_mode": {
    "name": "ipython",
    "version": 2
   },
   "file_extension": ".py",
   "mimetype": "text/x-python",
   "name": "python",
   "nbconvert_exporter": "python",
   "pygments_lexer": "ipython2",
   "version": "2.7.6"
  }
 },
 "nbformat": 4,
 "nbformat_minor": 0
}